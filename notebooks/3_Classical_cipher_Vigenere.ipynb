{
 "cells": [
  {
   "cell_type": "markdown",
   "metadata": {},
   "source": [
    "## Vigenère Cipher\n",
    "\n",
    "In our quest for unbreakeable encryption schemes we've tried the shift and the mono alphabetical so far. We've showed that it was easy to break them. Both of the encryption schemes encrypted the same ciphertext for every letter, say, plaintext $e$ will be substituted by $x$ for instance. In the Vigenere cipher a letter in plaintext can be encrypted to several different letters in the ciphertext. This makes the scheme more difficult to crack.\n",
    "\n",
    "In Vigenere cipher the lenght of the key is arbitrary and indicates the permutation of the text. In the following table I show a simple example: \n",
    "\n",
    "\n",
    "|  Variable  |      Value      |\n",
    "|:----------:|:---------------:|\n",
    "| Plaintext  | ddddddddddddddd |\n",
    "| Key        | abc             |\n",
    "| Ciphertext | defdefdefdefdef |\n",
    "\n",
    "Here our plaintext is $ddddddddddddddd$ and we encrypt it using the key $abc$ of lenght 3. It is easy to see how it works. The first letter of the plaintext is shifted $a$ (shift of 0), the second shifted $b$ (shift of 1 position) and the third one by $c$ (shift of 3 positions). Therefore $$ d \\rightarrow d $$ $$ d \\rightarrow e $$ $$ d \\rightarrow f $$ \n",
    "\n",
    "Another more difficult example is the following:\n",
    "\n",
    "|  Variable  |            Value            |\n",
    "|:----------:|:---------------------------:|\n",
    "| Plaintext  | criptographyisacoolsubject  |\n",
    "| Key        | esz                         |\n",
    "| Ciphertext | gjhtlnkjztzxmkzggnpktfbdgl  |\n",
    "\n",
    "We've chosen as key a random chain of size 3, this is $esz$. Again, $c$ is shifted $e$ (4 positions), $r$ shifted $j$ (9 positions) and $i$ shifted by $h$ (7 positions). Then, the next character $p$ is shifted by the first letter of the key $e$, this results $t$.\n",
    "\n",
    "Let's code the Vigenere cipher\n"
   ]
  },
  {
   "cell_type": "code",
   "execution_count": 5,
   "metadata": {},
   "outputs": [
    {
     "name": "stdout",
     "output_type": "stream",
     "text": [
      "THE KEY: \n",
      "esz\n",
      "\n",
      "THE SENTENCE:\n",
      "criptographyisacoolsubject\n",
      "\n",
      "CIPHERTEXT:\n",
      "gjhtlnkjztzxmkzggnpktfbdgl\n",
      "\n",
      "PLAINTEXT:\n",
      "criptographyisacoolsubject\n"
     ]
    }
   ],
   "source": [
    "from random import randint, seed\n",
    "from copy import deepcopy\n",
    "import string\n",
    "\n",
    "seed(1) #fix seed so that we can reproduce the results\n",
    "\n",
    "characters = string.ascii_lowercase\n",
    "char_to_num = {c:i for i, c in enumerate(characters)}\n",
    "num_to_char = {i:c for i, c in enumerate(characters)}\n",
    "\n",
    "def VigenereKeyGenerator(characters, lenght = 5):\n",
    "    \"\"\"Generates a key of fixed lenght\n",
    "    \"\"\"\n",
    "    old_chars = list(deepcopy(characters))\n",
    "    key = []\n",
    "    \n",
    "    while len(key)<lenght:\n",
    "        elem = old_chars[randint(0,len(old_chars)-1)]\n",
    "        key.append(elem)\n",
    "    return ''.join(key)\n",
    "\n",
    "def ShiftLetter(letter, shiftby, forward=True):\n",
    "    \"\"\"Shift a letter a certain ammount of spaces\n",
    "    letter: an element from string.ascii_lowercase\n",
    "    shiftby: a letter from string.asccii_lowercase indicating th ammount of shift\n",
    "    \"\"\"\n",
    "    shift = char_to_num[shiftby]\n",
    "    i = char_to_num[letter]\n",
    "    \n",
    "    listed_chars = list(characters)\n",
    "    if forward:\n",
    "        return listed_chars[(i + shift)%len(characters)]\n",
    "    else:\n",
    "        return listed_chars[(i - shift)%len(characters)]\n",
    "\n",
    "\n",
    "def VigenereEncryptDecrypt(text, characters, key, encrypt = True):\n",
    "    count = 0\n",
    "    key_len = len(key)\n",
    "    list_key = list(key)\n",
    "    \n",
    "    text2 = ''\n",
    "    for letter in text:\n",
    "        c = ShiftLetter(letter, key[count%key_len],forward=encrypt)\n",
    "        text2 += c\n",
    "        count+=1\n",
    "        \n",
    "    return text2\n",
    "\n",
    "# generate key\n",
    "key = VigenereKeyGenerator(characters, 3)\n",
    "\n",
    "# encrypt a text\n",
    "sentence = 'criptographyisacoolsubject'\n",
    "ciphertext = VigenereEncryptDecrypt(sentence, characters, key = key)\n",
    "plaintext = VigenereEncryptDecrypt(ciphertext, characters, key, encrypt=False)\n",
    "\n",
    "print(\"THE KEY: \\n{}\\n\\nTHE SENTENCE:\\n{}\\n\\nCIPHERTEXT:\\n{}\\n\\nPLAINTEXT:\\n{}\".format(key,sentence,\n",
    "                                                                                       ciphertext, plaintext))\n"
   ]
  },
  {
   "cell_type": "code",
   "execution_count": 4,
   "metadata": {},
   "outputs": [
    {
     "data": {
      "text/plain": [
       "'vqdyfqmlpxapbjwtssmuffqhaygrrhmqlsloivrtxamzxqzeqyrgnbplsrgqnplnlarrtztkotazhufrsfczrzibvccaoayyihid'"
      ]
     },
     "execution_count": 4,
     "metadata": {},
     "output_type": "execute_result"
    }
   ],
   "source": [
    "key = VigenereKeyGenerator(characters, 100)\n",
    "key"
   ]
  },
  {
   "cell_type": "code",
   "execution_count": 11,
   "metadata": {},
   "outputs": [
    {
     "name": "stdout",
     "output_type": "stream",
     "text": [
      "THE KEY: \n",
      "esz\n",
      "\n",
      "THE SENTENCE:\n",
      "aaaaaaaaaaaaaaaa\n",
      "\n",
      "CIPHERTEXT:\n",
      "eszeszeszeszesze\n",
      "\n",
      "PLAINTEXT:\n",
      "aaaaaaaaaaaaaaaa\n"
     ]
    }
   ],
   "source": [
    "sentence = 'aaaaaaaaaaaaaaaa'\n",
    "ciphertext = VigenereEncryptDecrypt(sentence, characters, key = key)\n",
    "plaintext = VigenereEncryptDecrypt(ciphertext, characters, key, encrypt=False)\n",
    "\n",
    "print(\"THE KEY: \\n{}\\n\\nTHE SENTENCE:\\n{}\\n\\nCIPHERTEXT:\\n{}\\n\\nPLAINTEXT:\\n{}\".format(key,sentence,\n",
    "                                                                                       ciphertext, plaintext))"
   ]
  },
  {
   "cell_type": "code",
   "execution_count": null,
   "metadata": {},
   "outputs": [],
   "source": []
  },
  {
   "cell_type": "code",
   "execution_count": null,
   "metadata": {},
   "outputs": [],
   "source": []
  },
  {
   "cell_type": "code",
   "execution_count": null,
   "metadata": {},
   "outputs": [],
   "source": []
  },
  {
   "cell_type": "code",
   "execution_count": null,
   "metadata": {},
   "outputs": [],
   "source": []
  }
 ],
 "metadata": {
  "kernelspec": {
   "display_name": "crypto",
   "language": "python",
   "name": "crypto"
  },
  "language_info": {
   "codemirror_mode": {
    "name": "ipython",
    "version": 3
   },
   "file_extension": ".py",
   "mimetype": "text/x-python",
   "name": "python",
   "nbconvert_exporter": "python",
   "pygments_lexer": "ipython3",
   "version": "3.7.3"
  }
 },
 "nbformat": 4,
 "nbformat_minor": 2
}
