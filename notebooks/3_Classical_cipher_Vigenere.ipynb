{
 "cells": [
  {
   "cell_type": "markdown",
   "metadata": {},
   "source": [
    "## Vigenère Cipher\n",
    "\n",
    "In our quest for unbreakeable encryption schemes we've tried the shift and the mono alphabetical so far. We've showed that it was easy to break them. Both of the encryption schemes encrypted the same ciphertext for every letter, say, plaintext $e$ will be substituted by $x$ for instance. In the Vigenere cipher a letter in plaintext can be encrypted to several different letters in the ciphertext. This makes the scheme more difficult to crack.\n",
    "\n",
    "In Vigenere cipher the lenght of the key is arbitrary and indicates the permutation of the text. In the following table I show a simple example: \n",
    "\n",
    "\n",
    "|  Variable  |      Value      |\n",
    "|:----------:|:---------------:|\n",
    "| Plaintext  | ddddddddddddddd |\n",
    "| WordKey    | abc             |\n",
    "| Ciphertext | defdefdefdefdef |\n",
    "\n",
    "Here our plaintext is $ddddddddddddddd$ and we encrypt it using the key $abc$ of lenght 3. It is easy to see how it works. The first letter of the plaintext is shifted $a$ (shift of 0), the second shifted $b$ (shift of 1 position) and the third one by $c$ (shift of 3 positions). Therefore $$ d \\rightarrow d $$,$$ d \\rightarrow e $$, $$ d \\rightarrow f $$ \n",
    "\n",
    "|  Variable  |            Value            |\n",
    "|:----------:|:---------------------------:|\n",
    "| Plaintext  | criptographyisacoolsubject  |\n",
    "| WordKey    | esz                         |\n",
    "| Ciphertext | gjhtlnkjztzxmkzggnpktfbdgl  |\n",
    "\n",
    "We've chosen a key a random key of size 3, this is $esz$. \n"
   ]
  },
  {
   "cell_type": "code",
   "execution_count": 36,
   "metadata": {},
   "outputs": [
    {
     "name": "stdout",
     "output_type": "stream",
     "text": [
      "esz\n",
      "gjhtlnkjztzxmkzggnpktfbdgl\n",
      "defdefdefdefdef\n"
     ]
    }
   ],
   "source": [
    "from random import randint, seed\n",
    "from copy import deepcopy\n",
    "import string\n",
    "\n",
    "seed(1) #fix seed so that we can reproduce the results\n",
    "characters = string.ascii_lowercase\n",
    "char_to_num = {c:i for i, c in enumerate(characters)}\n",
    "num_to_char = {i:c for i, c in enumerate(characters)}\n",
    "\n",
    "def VigenereKeyGenerator(characters, lenght = 5):\n",
    "    old_chars = list(deepcopy(characters))\n",
    "    key = []\n",
    "    \n",
    "    while len(key)<lenght:\n",
    "        elem = old_chars[randint(0,len(old_chars)-1)]\n",
    "        key.append(elem)\n",
    "    return ''.join(key)\n",
    "\n",
    "def ShiftLetter(letter, shiftby):\n",
    "    shift = char_to_num[shiftby]\n",
    "    i = char_to_num[letter]\n",
    "    \n",
    "    listed_chars = list(characters)\n",
    "    c = listed_chars[(i + shift)%len(characters)]\n",
    "    \n",
    "    return c\n",
    "\n",
    "\n",
    "def VigenereEncrypt(plaintext, characters, key):\n",
    "    count = 0\n",
    "    key_len = len(key)\n",
    "    list_key = list(key)\n",
    "    \n",
    "    ciphertext = ''\n",
    "    for letter in plaintext:\n",
    "        c = ShiftLetter(letter, key[count%key_len])\n",
    "        ciphertext += c\n",
    "        count+=1\n",
    "        \n",
    "    return ciphertext\n",
    "\n",
    "\n",
    "key = VigenereKeyGenerator(characters, 3)\n",
    "print(key)\n",
    "print(VigenereEncrypt('criptographyisacoolsubject', characters, key = key))\n",
    "\n",
    "\n",
    "print(VigenereEncrypt('ddddddddddddddd', characters, key = 'abc'))"
   ]
  },
  {
   "cell_type": "code",
   "execution_count": null,
   "metadata": {},
   "outputs": [],
   "source": []
  },
  {
   "cell_type": "code",
   "execution_count": null,
   "metadata": {},
   "outputs": [],
   "source": []
  },
  {
   "cell_type": "code",
   "execution_count": null,
   "metadata": {},
   "outputs": [],
   "source": []
  },
  {
   "cell_type": "code",
   "execution_count": null,
   "metadata": {},
   "outputs": [],
   "source": []
  }
 ],
 "metadata": {
  "kernelspec": {
   "display_name": "crypto",
   "language": "python",
   "name": "crypto"
  },
  "language_info": {
   "codemirror_mode": {
    "name": "ipython",
    "version": 3
   },
   "file_extension": ".py",
   "mimetype": "text/x-python",
   "name": "python",
   "nbconvert_exporter": "python",
   "pygments_lexer": "ipython3",
   "version": "3.7.3"
  }
 },
 "nbformat": 4,
 "nbformat_minor": 2
}
