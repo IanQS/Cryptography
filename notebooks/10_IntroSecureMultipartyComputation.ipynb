{
 "cells": [
  {
   "cell_type": "markdown",
   "metadata": {},
   "source": [
    "# Introduction to Secure Multiparty Computation (SMPC)\n",
    "\n",
    "This is the first notebook that will explain the basics of multiparty computation. In essence multiparty computation tries to outsource computations to different parties. Now, this per se is easy right? If I want a certain calculation to be performed in a remote computer I just send the data, the function to be calculated and that's it. The problem arises when one wants to outsource a computation without revealing the data, just the function. Secure Multiparty Computation (SMPC) is a set of techniques that allows us to compute a function without explicitely knowing the inputs.\n",
    "\n",
    "\n",
    "## Yao's Millionaire problem\n",
    "\n",
    "The typical application example of SMPC is the Yao's millionaire problem: Lets assume there are two millionaires, named Alice and Bob. Alice and Bob what to know who is richer without revealing how much money either one of them have. This is what is known as the millionaires problem, originally introduced by [Andrew Yao](https://en.wikipedia.org/wiki/Andrew_Yao). In essence they just want to know a bit of information, who's richer but not by which ammount. "
   ]
  },
  {
   "cell_type": "code",
   "execution_count": 11,
   "metadata": {},
   "outputs": [
    {
     "name": "stdout",
     "output_type": "stream",
     "text": [
      "190724747 352783776\n",
      "(N, e, d) = (2116794727, 190724747, 28822211)\n"
     ]
    }
   ],
   "source": [
    "from crypt import RSA, PrimesSieveEratosthenes, LCM\n",
    "from random import seed\n",
    "#seed(3)\n",
    "\n",
    "bits = 16\n",
    "primes = list(PrimesSieveEratosthenes(1<<bits))\n",
    "N, e, d = RSA(bits, primes)\n",
    "print(f\"(N, e, d) = {N, e, d}\")"
   ]
  },
  {
   "cell_type": "code",
   "execution_count": 2,
   "metadata": {},
   "outputs": [
    {
     "name": "stdout",
     "output_type": "stream",
     "text": [
      "39191 34721\n",
      "[2, 5, 3919] [2, 5, 7, 31]\n",
      "136067680\n"
     ]
    }
   ],
   "source": [
    "from crypt import LCM, RandomPrime, BruteForceFactorisation\n",
    "\n",
    "p = RandomPrime(16, 40)\n",
    "q = RandomPrime(16, 40)\n",
    "primes = list(PrimesSieveEratosthenes(1<<16))\n",
    "\n",
    "print(p, q)\n",
    "\n",
    "a_factors, _ = BruteForceFactorisation(p-1, primes)\n",
    "b_factors, _ = BruteForceFactorisation(q-1, primes)\n",
    "\n",
    "print(a_factors, b_factors)\n",
    "print(LCM(p-1, q-1, primes))"
   ]
  },
  {
   "cell_type": "code",
   "execution_count": 3,
   "metadata": {},
   "outputs": [
    {
     "data": {
      "text/plain": [
       "42"
      ]
     },
     "execution_count": 3,
     "metadata": {},
     "output_type": "execute_result"
    }
   ],
   "source": [
    "LCM(21,6)"
   ]
  }
 ],
 "metadata": {
  "kernelspec": {
   "display_name": "Python 3",
   "language": "python",
   "name": "python3"
  },
  "language_info": {
   "codemirror_mode": {
    "name": "ipython",
    "version": 3
   },
   "file_extension": ".py",
   "mimetype": "text/x-python",
   "name": "python",
   "nbconvert_exporter": "python",
   "pygments_lexer": "ipython3",
   "version": "3.7.5"
  }
 },
 "nbformat": 4,
 "nbformat_minor": 4
}
