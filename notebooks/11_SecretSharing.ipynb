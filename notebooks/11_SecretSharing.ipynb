{
 "cells": [
  {
   "cell_type": "markdown",
   "metadata": {},
   "source": [
    "# Secret Sharing\n",
    "\n",
    "Secret sharing is a technique widely used in secure multiparty computation. It relies on sharing the responsability of a certain information by simply splitting it in several shares. As always we explain by example.\n",
    "\n",
    "1. In the first part we will work on additive secret sharing\n",
    "2. A more complex technique, polynomial reconstruction and Shamir secret sharing.\n",
    "\n",
    "\n",
    "## Additive Secret Sharing\n",
    "\n",
    "As said previously, secret sharing consists (at least at this stage) in splitting the information into shares. First let's choose a random integer all the parties agree on:"
   ]
  },
  {
   "cell_type": "code",
   "execution_count": 26,
   "metadata": {},
   "outputs": [
    {
     "name": "stdout",
     "output_type": "stream",
     "text": [
      "We've chosen a random prime p=193\n"
     ]
    }
   ],
   "source": [
    "from crypt import RandomPrime\n",
    "from random import seed, randrange\n",
    "\n",
    "seed(1)\n",
    "\n",
    "bits = 8\n",
    "p = RandomPrime(bits, 40)\n",
    "\n",
    "# Although in this example we work with a random number it is not strictly necessary\n",
    "print(f\"We've chosen a random prime p={p}\")"
   ]
  },
  {
   "cell_type": "markdown",
   "metadata": {},
   "source": [
    "We choose the number of parties $N$ that will participate in the calculation and the secret we want to split. Then we generate N-1 random numbers in between 0 and $p$ and finally substract the secret to generate the Nth share, this way when we sum the shares they will add up to the secret."
   ]
  },
  {
   "cell_type": "code",
   "execution_count": 32,
   "metadata": {},
   "outputs": [
    {
     "name": "stdout",
     "output_type": "stream",
     "text": [
      "Splitting to shares:\n",
      "\n",
      "secret=100\n",
      "splits=[68, 184, 58, 151, 25]\n",
      "sum_shares=100\n"
     ]
    }
   ],
   "source": [
    "N = 5\n",
    "secret = 100\n",
    "\n",
    "def AdditiveShares(secret, N, p):\n",
    "    # generate N-1 random shares\n",
    "    shares = [randrange(p) for _ in range(N-1)]\n",
    "    shares.append((secret-sum(shares))%p)\n",
    "    return shares\n",
    "\n",
    "def ReconstructAdditiveShares(shares, p):\n",
    "    return (sum(shares)%p)\n",
    "\n",
    "shares = AdditiveShares(secret, N, p)\n",
    "reconstruction = ReconstructAdditiveShares(shares, p)\n",
    "print(f\"Splitting to shares:\\n\\nsecret={secret}\\nsplits={shares}\\nsum_shares={reconstruction}\")"
   ]
  },
  {
   "cell_type": "markdown",
   "metadata": {},
   "source": [
    "What we've done here is splitting the secret into N users so that when they all share their shares they can reconstruct the secret, no $N-1$ parties can reconstruct!. Beautiful right?\n",
    "\n",
    "Now, how much information can $N-1$ parties gain from the original secret? Here's the best, there's no information. This is true due to the randomicity of this process, since $N-1$ are chosen completely at random from a uniform distribution they contain no information and by construction the Nth number also. This concept is exactly the same as the one time pad encoding we have seen previously.\n",
    "\n",
    "We can define addition and substraction on shares. "
   ]
  },
  {
   "cell_type": "code",
   "execution_count": 55,
   "metadata": {},
   "outputs": [],
   "source": [
    "def AdditiveSharesAdd(x, y, p):\n",
    "    return [(i+j)%p for i, j in zip(x,y)]\n",
    "\n",
    "def AdditiveSharesSubstract(x, y, p):\n",
    "    return [(i-j)%p for i, j in zip(x,y)]"
   ]
  },
  {
   "cell_type": "markdown",
   "metadata": {},
   "source": [
    "It is possible to outsource a summation or a substraction by sharing the values of two integers in the following way"
   ]
  },
  {
   "cell_type": "code",
   "execution_count": 52,
   "metadata": {},
   "outputs": [
    {
     "name": "stdout",
     "output_type": "stream",
     "text": [
      "I want to add secretly x and y:\n",
      "x=98\n",
      "y=87\n",
      "\n",
      "First task is to generate random shares for x and y and send them to the 5 outsourced parties:\n",
      "x_shares = [107, 48, 66, 27, 43] which reconstructed is 98\n",
      "y_shares = [64, 186, 130, 53, 40] which reconstructed is 87\n",
      "\n"
     ]
    }
   ],
   "source": [
    "x = randrange(0, p)\n",
    "y = randrange(0, p)\n",
    "\n",
    "print(f\"I want to add secretly x and y:\\nx={x}\\ny={y}\\n\")\n",
    "print(f\"First task is to generate random shares for x and y and send them to the {N} outsourced parties:\")\n",
    "x_shares = AdditiveShares(x, N, p)\n",
    "y_shares = AdditiveShares(y, N, p)\n",
    "\n",
    "x_rec = ReconstructAdditiveShares(x_shares, p)\n",
    "y_rec = ReconstructAdditiveShares(y_shares, p)\n",
    "\n",
    "print(f\"x_shares = {x_shares} which reconstructed is {x_rec}\")\n",
    "print(f\"y_shares = {y_shares} which reconstructed is {y_rec}\\n\")"
   ]
  },
  {
   "cell_type": "markdown",
   "metadata": {},
   "source": [
    "Now Alice has to send each share of X and Y to a different party"
   ]
  },
  {
   "cell_type": "code",
   "execution_count": 53,
   "metadata": {},
   "outputs": [
    {
     "name": "stdout",
     "output_type": "stream",
     "text": [
      "Party 0 gets the values x_0=107 and y_0=64\n",
      "Party 1 gets the values x_1=48 and y_1=186\n",
      "Party 2 gets the values x_2=66 and y_2=130\n",
      "Party 3 gets the values x_3=27 and y_3=53\n",
      "Party 4 gets the values x_4=43 and y_4=40\n"
     ]
    }
   ],
   "source": [
    "for i, (xs, ys) in enumerate(zip(x_shares, y_shares)):\n",
    "    print(f\"Party {i} gets the values x_{i}={xs} and y_{i}={ys}\")"
   ]
  },
  {
   "cell_type": "markdown",
   "metadata": {},
   "source": [
    "Each party calculates their sum of their shares and send it back to Alice"
   ]
  },
  {
   "cell_type": "code",
   "execution_count": 59,
   "metadata": {},
   "outputs": [
    {
     "name": "stdout",
     "output_type": "stream",
     "text": [
      "The final sum of shares is: \n",
      "x_y_sum=[171, 41, 3, 80, 83]\n"
     ]
    }
   ],
   "source": [
    "x_y_sum_shares = AdditiveSharesAdd(x_shares, y_shares, p)\n",
    "print(f\"The final sum of shares is: \\nx_y_sum={x_y_sum_shares}\")"
   ]
  },
  {
   "cell_type": "markdown",
   "metadata": {},
   "source": [
    "Now is time to reconstruct the shares and find the secret"
   ]
  },
  {
   "cell_type": "code",
   "execution_count": 60,
   "metadata": {},
   "outputs": [
    {
     "name": "stdout",
     "output_type": "stream",
     "text": [
      "The reconstruction of the secret is 185, the sum of x=98 and y=87\n"
     ]
    }
   ],
   "source": [
    "x_y_sum = ReconstructAdditiveShares(x_y_sum_shares, p)\n",
    "\n",
    "assert(x+y==x_y_sum)\n",
    "\n",
    "print(f\"The reconstruction of the secret is {x_y_sum}, the sum of x={x} and y={y}\")"
   ]
  }
 ],
 "metadata": {
  "kernelspec": {
   "display_name": "Python 3",
   "language": "python",
   "name": "python3"
  },
  "language_info": {
   "codemirror_mode": {
    "name": "ipython",
    "version": 3
   },
   "file_extension": ".py",
   "mimetype": "text/x-python",
   "name": "python",
   "nbconvert_exporter": "python",
   "pygments_lexer": "ipython3",
   "version": "3.7.5"
  }
 },
 "nbformat": 4,
 "nbformat_minor": 4
}
