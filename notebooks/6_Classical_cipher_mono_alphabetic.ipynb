{
 "cells": [
  {
   "cell_type": "markdown",
   "metadata": {},
   "source": [
    "## Mono-alphabetic sustitution cipher\n",
    "\n",
    "We've seen that the shift ciphertext is easy to break as the number of possible keys was 26. A better approach would be to simply substitute each letter of the alphabet by another random letter. This way we would have 26! different permutations (that is a number of the order of $10^{26}$), here we cannot do exhaustive search, it would take so long for our computer...\n",
    "\n",
    "Let's see an example of this encryption scheme"
   ]
  },
  {
   "cell_type": "code",
   "execution_count": 1,
   "metadata": {},
   "outputs": [
    {
     "name": "stdout",
     "output_type": "stream",
     "text": [
      "Plaintext characters are: \n",
      "\tabcdefghijklmnopqrstuvwxyz\n",
      "Equivalent in one random mono-alphabetic order: \n",
      "\tetckfuswqjgnaopybxmvhzdlir\n"
     ]
    }
   ],
   "source": [
    "import string\n",
    "from copy import deepcopy\n",
    "from random import randint, seed\n",
    "\n",
    "seed(1) #fix seed so that we can reproduce the results\n",
    "characters = string.ascii_lowercase\n",
    "\n",
    "def random_permutation(characters):\n",
    "    old_chars = list(deepcopy(characters))\n",
    "    permut_ = []\n",
    "    \n",
    "    while len(old_chars)>0:\n",
    "        elem = old_chars.pop(randint(0,len(old_chars)-1))\n",
    "        permut_.append(elem)\n",
    "    return ''.join(permut_)\n",
    "    \n",
    "print(\"Plaintext characters are: \\n\\t{}\".format(characters))\n",
    "print(\"Equivalent in one random mono-alphabetic order: \\n\\t{}\".format(random_permutation(characters)))"
   ]
  },
  {
   "cell_type": "markdown",
   "metadata": {},
   "source": [
    "Alice and Bob just have to meet once and exchange the key which is now lenght 26 (the random substitution). In this particular case $a$ in the plaintext will be substituted by $e$ in the ciphertext, $b$ by $t$... according to the results above. Let's write the functions to encrypt and decrypt"
   ]
  },
  {
   "cell_type": "code",
   "execution_count": 2,
   "metadata": {},
   "outputs": [],
   "source": [
    "# The random key generator is simply the permutation of the original characters\n",
    "key_generator = lambda c: random_permutation(c)\n",
    "\n",
    "def mono_encrypt(plaintext, characters, key):\n",
    "    convert_dict = {}\n",
    "    for p, c in zip(characters, key):\n",
    "        convert_dict[p] = c    \n",
    "    convert_dict[' '] = ' '\n",
    "    \n",
    "    c = ''\n",
    "    for p in plaintext:\n",
    "        c += convert_dict[p]\n",
    "        \n",
    "    return c\n",
    "\n",
    "\n",
    "def mono_decrypt(ciphertext, characters, key):\n",
    "    convert_dict = {}\n",
    "    for p, c in zip(characters, key):\n",
    "        convert_dict[c] = p    \n",
    "    convert_dict[' '] = ' '\n",
    "    \n",
    "    c = ''\n",
    "    for p in  ciphertext:\n",
    "        c += convert_dict[p]\n",
    "        \n",
    "    return c"
   ]
  },
  {
   "cell_type": "markdown",
   "metadata": {},
   "source": [
    "Now lets encrypt and decrypt a message using a new fresh generated key"
   ]
  },
  {
   "cell_type": "code",
   "execution_count": 3,
   "metadata": {},
   "outputs": [
    {
     "name": "stdout",
     "output_type": "stream",
     "text": [
      "The key is: avsboircylxmpgkhjwqdtzefun\n",
      "\n",
      "\n",
      "THE SENTENCE:\n",
      "\n",
      "it was a bright cold day in april and the clocks were striking thirteen winston smith his chin nuzzled into his breast in an effort to escape the vile wind slipped quickly through the glass doors of victory mansions though not quickly enough to prevent a swirl of gritty dust from entering along with him\n",
      "\n",
      "CIPHERTEXT:\n",
      "\n",
      "yd eaq a vwyrcd skmb bau yg ahwym agb dco smksxq eowo qdwyxygr dcywdoog eygqdkg qpydc cyq scyg gtnnmob ygdk cyq vwoaqd yg ag oiikwd dk oqsaho dco zymo eygb qmyhhob jtysxmu dcwktrc dco rmaqq bkkwq ki zysdkwu pagqykgq dcktrc gkd jtysxmu ogktrc dk hwozogd a qeywm ki rwyddu btqd iwkp ogdowygr amkgr eydc cyp\n",
      "\n",
      "PLAINTEXT:\n",
      "\n",
      "it was a bright cold day in april and the clocks were striking thirteen winston smith his chin nuzzled into his breast in an effort to escape the vile wind slipped quickly through the glass doors of victory mansions though not quickly enough to prevent a swirl of gritty dust from entering along with him\n"
     ]
    }
   ],
   "source": [
    "key = key_generator(characters)\n",
    "sentence = 'it was a bright cold day in april and the clocks were striking thirteen winston smith his chin nuzzled into his breast in an effort to escape the vile wind slipped quickly through the glass doors of victory mansions though not quickly enough to prevent a swirl of gritty dust from entering along with him'\n",
    "\n",
    "ciphertext = mono_encrypt(sentence, characters, key)\n",
    "plaintext = mono_decrypt(ciphertext, characters, key)\n",
    "print(\"The key is: {}\\n\\n\".format(key))\n",
    "print(\"THE SENTENCE:\\n\\n{}\\n\\nCIPHERTEXT:\\n\\n{}\\n\\nPLAINTEXT:\\n\\n{}\".format(sentence, ciphertext, plaintext))"
   ]
  },
  {
   "cell_type": "markdown",
   "metadata": {},
   "source": [
    "Seems to work well, but hold your horses... There is a plausible attack we can carry. Imagine the attacker knows the language in which Alice and Bob are comunciating, then he gained a lot of information with that!. He knows the distribution/frequency of all letters. Let me load George Orwell's book to estimate the probabilities of letters in English language"
   ]
  },
  {
   "cell_type": "code",
   "execution_count": 4,
   "metadata": {},
   "outputs": [],
   "source": [
    "from utils import download_data, process_load_textfile\n",
    "import string\n",
    "import os\n",
    "\n",
    "url = 'http://gutenberg.net.au/ebooks01/0100021.txt'\n",
    "filename = 'Nineteen-eighty-four_Orwell.txt'\n",
    "download_path = '/'.join(os.getcwd().split('/')[:-1]) + '/data/'\n",
    "\n",
    "#download data to specified path\n",
    "download_data(url, filename, download_path)\n",
    "#load data and process\n",
    "data = process_load_textfile(filename, download_path)#.replace(\" \",\"\")"
   ]
  },
  {
   "cell_type": "code",
   "execution_count": 5,
   "metadata": {},
   "outputs": [
    {
     "name": "stdout",
     "output_type": "stream",
     "text": [
      "The lenght of the book is 569427 characters\n"
     ]
    }
   ],
   "source": [
    "print(\"The lenght of the book is {} characters\".format(len(list(data))))"
   ]
  },
  {
   "cell_type": "code",
   "execution_count": 6,
   "metadata": {},
   "outputs": [
    {
     "data": {
      "text/plain": [
       "'  table width border  tr td bgcolorffeefont color sizep styletextaligncenterba hrefhttpgutenbergnetau targetblankproject gutenberg australiaabr bfontfont color sizeia treasuretrove of literatureibr fonttreasure found hidden with no evidence of ownershipptd tr table  ad goes here  pre    title nineteen eightyfour author george orwell pseudonym of eric blair   a project gutenberg of australia ebook  ebook no  txt language   english date first posted august  date most recently updated november   project gutenberg of australia ebooks are created from printed editions which are in the public domain in australia unless a copyright notice is included we do not keep any ebooks in compliance with a particular paper edition  copyright laws are changing all over the world be sure to check the copyright laws for your country before downloading or redistributing this file  this ebook is made available at no cost and with almost no restrictions whatsoever you may copy it give it away or reuse it und'"
      ]
     },
     "execution_count": 6,
     "metadata": {},
     "output_type": "execute_result"
    }
   ],
   "source": [
    "#just a sample the first 1000 characters to see how it looks like\n",
    "data[:1000]"
   ]
  },
  {
   "cell_type": "markdown",
   "metadata": {},
   "source": [
    "We assume that english letters occur with the distribution of Orwell's book so we count the letters as follows:"
   ]
  },
  {
   "cell_type": "code",
   "execution_count": 7,
   "metadata": {},
   "outputs": [
    {
     "name": "stdout",
     "output_type": "stream",
     "text": [
      "{'a': 36548, 'b': 7668, 'c': 11642, 'd': 19033, 'e': 59667, 'f': 10203, 'g': 9298, 'h': 29178, 'i': 31969, 'j': 464, 'k': 3612, 'l': 18673, 'm': 10830, 'n': 32004, 'o': 35073, 'p': 8627, 'q': 409, 'r': 26158, 's': 28987, 't': 43918, 'u': 13047, 'v': 4315, 'w': 12247, 'x': 793, 'y': 9425, 'z': 308}\n"
     ]
    }
   ],
   "source": [
    "def count_char_freqs(text, characters = string.ascii_lowercase):\n",
    "    freqs = {}\n",
    "    for letter in characters:\n",
    "        f = text.count(letter)\n",
    "        freqs[letter] = f\n",
    "    return freqs\n",
    "\n",
    "english_frequencies = count_char_freqs(data)\n",
    "print(english_frequencies)"
   ]
  },
  {
   "cell_type": "markdown",
   "metadata": {},
   "source": [
    "Let's take a random sample of length 0.01 the size of the original text and encrypt it. Then we will try to infer some information just looking at the ciphertext letter frequencies and knowing the english letter distrbution."
   ]
  },
  {
   "cell_type": "code",
   "execution_count": 8,
   "metadata": {},
   "outputs": [
    {
     "name": "stdout",
     "output_type": "stream",
     "text": [
      "We sample a chunk of 28471 characters from the book starting at position 348856\n",
      "Using the private key k = avsboircylxmpgkhjwqdtzefun\n",
      "\n",
      "\n",
      "Sampled Plaintext:\n",
      "cally acceptable way in principle it would be quite simple to waste the surplus labour of the world by building temples and pyramids by digging holes and filling them up again or even by producing vast quantities of goods and then setting fire to them but this would provide only the economic and not the emotional basis for a hierarchical society what is concerned here is not the morale of masses whose attitude is unimportant so long as they are kept steadily at work but the morale of the party itself even the humblest party member is expected to be competent industrious and even intelligent within narrow limits but it is also necessary that he should be a credulous and ignorant fanatic whose prevailing moods are fear hatred adulation and orgiastic triumph in other words it is necessary that he should have the mentality appropriate to a state of war it does not matter whether the war is actually happening and since no decisive victory is possible it does not matter whether the war is going well or badly all that is needed is that a state of war should exist the splitting of the intelligence which the party requires of its members and which is more easily achieved in an atmosphere of war is now almost universal but the higher up the ranks one goes the more marked it becomes it is precisely in the inner party that war hysteria and hatred of the enemy are strongest in his capacity as an administrator it is often necessary for a member of the inner party to know that this or that item of war news is untruthful and he may often be aware that the entire war is spurious and is either not happening or is being waged for purposes quite other than the declared ones but such knowledge is easily neutralized by the technique of doublethink meanwhile no inner party member wavers for an instant in his mystical belief that the war is real and that it is bound to end victoriously with oceania the undisputed master of the entire world  all members of the inner party believe in this coming conquest as an article of faith it is to be achieved either by gradually acquiring more and more territory and so building up an overwhelming preponderance of power or by the discovery of some new and unanswerable weapon the search for new weapons continues unceasingly and is one of the very few remaining activities in which the inventive or speculative type of mind can find any outlet in oceania at the present day science in the old sense has almost ceased to exist in newspeak there is no word for science the empirical method of thought on which all the scientific achievements of the past were founded is opposed to the most fundamental principles of ingsoc and even technological progress only happens when its products can in some way be used for the diminution of human liberty in all the useful arts the world is either standing still or going backwards the fields are cultivated with horseploughs while books are written by machinery but in matters of vital importancemeaning in effect war and police espionagethe empirical approach is still encouraged or at least tolerated the two aims of the party are to conquer the whole surface of the earth and to extinguish once and for all the possibility of independent thought there are therefore two great problems which the party is concerned to solve one is how to discover against his will what another human being is thinking and the other is how to kill several hundred million people in a few seconds without giving warning beforehand in so far as scientific research still continues this is its subject matter the scientist of today is either a mixture of psychologist and inquisitor studying with real ordinary minuteness the meaning of facial expressions gestures and tones of voice and testing the truthproducing effects of drugs shock therapy hypnosis and physical torture or he is chemist physicist or biologist concerned only with such branches of his special subject as are relevant to the taking of life in the vast laboratories of the ministry of peace and in the experimental stations hidden in the brazilian forests or in the australian desert or on lost islands of the antarctic the teams of experts are indefatigably at work some are concerned simply with planning the logistics of future wars others devise larger and larger rocket bombs more and more powerful explosives and more and more impenetrable armourplating others search for new and deadlier gases or for soluble poisons capable of being produced in such quantities as to destroy the vegetation of whole continents or for breeds of disease germs immunized against all possible antibodies others strive to produce a vehicle that shall bore its way under the soil like a submarine under the water or an aeroplane as independent of its base as a sailingship others explore even remoter possibilities such as focusing the suns rays through lenses suspended thousands of kilometres away in space or producing artificial earthquakes and tidal waves by tapping the heat at the earths centre  but none of these projects ever comes anywhere near realization and none of the three superstates ever gains a significant lead on the others what is more remarkable is that all three powers already possess in the atomic bomb a weapon far more powerful than any that their present researches are likely to discover although the party according to its habit claims the invention for itself atomic bombs first appeared as early as the nineteenforties and were first used on a large scale about ten years later at that time some hundreds of bombs were dropped on industrial centres chiefly in european russia western europe and north america the effect was to convince the ruling groups of all countries that a few more atomic bombs would mean the end of organized society and hence of their own power thereafter although no formal agreement was ever made or hinted at no more bombs were dropped all three powers merely continue to produce atomic bombs and store them up against the decisive opportunity which they all believe will come sooner or later and meanwhile the art of war has remained almost stationary for thirty or forty years helicopters are more used than they were formerly bombing planes have been largely superseded by selfpropelled projectiles and the fragile movable battleship has given way to the almost unsinkable floating fortress but otherwise there has been little development the tank the submarine the torpedo the machine gun even the rifle and the hand grenade are still in use and in spite of the endless slaughters reported in the press and on the telescreens the desperate battles of earlier wars in which hundreds of thousands or even millions of men were often killed in a few weeks have never been repeated  none of the three superstates ever attempts any manoeuvre which involves the risk of serious defeat when any large operation is undertaken it is usually a surprise attack against an ally the strategy that all three powers are following or pretend to themselves that they are following is the same the plan is by a combination of fighting bargaining and welltimed strokes of treachery to acquire a ring of bases completely encircling one or other of the rival states and then to sign a pact of friendship with that rival and remain on peaceful terms for so many years as to lull suspicion to sleep during this time rockets loaded with atomic bombs can be assembled at all the strategic spots finally they will all be fired simultaneously with effects so devastating as to make retaliation impossible it will then be time to sign a pact of friendship with the remaining worldpower in preparation for another attack this scheme it is hardly necessary to say is a mere daydream impossible of realization moreover no fighting ever occurs except in the disputed areas round the equator and the pole no invasion of enemy territory is ever undertaken this explains the fact that in some places the frontiers between the superstates are arbitrary eurasia for example could easily conquer the british isles which are geographically part of europe or on the other hand it would be possible for oceania to push its frontiers to the rhine or even to the vistula but this would violate the principle followed on all sides though never formulated of cultural integrity if oceania were to conquer the areas that used once to be known as france and germany it would be necessary either to exterminate the inhabitants a task of great physical difficulty or to assimilate a population of about a hundred million people who so far as technical development goes are roughly on the oceanic level the problem is the same for all three superstates it is absolutely necessary to their structure that there should be no contact with foreigners except to a limited extent with war prisoners and coloured slaves even the official ally of the moment is always regarded with the darkest suspicion war prisoners apart the average citizen of oceania never sets eyes on a citizen of either eurasia or eastasia and he is forbidden the knowledge of foreign languages if he were allowed contact with foreigners he would discover that they are creatures similar to himself and that most of what he has been told about them is lies the sealed world in which he lives would be broken and the fear hatred and selfrighteousness on which his morale depends might evaporate it is therefore realized on all sides that however often persia or egypt or java or ceylon may change hands the main frontiers must never be crossed by anything except bombs  under this lies a fact never mentioned aloud but tacitly understood and acted upon namely that the conditions of life in all three superstates are very much the same in oceania the prevailing philosophy is called ingsoc in eurasia it is called neobolshevism and in eastasia it is called by a chinese name usually translated as deathworship but perhaps better rendered as obliteration of the self the citizen of oceania is not allowed to know anything of the tenets of the other two philosophies but he is taught to execrate them as barbarous outrages upon morality and common sense actually the three philosophies are barely distinguishable and the social systems which they support are not distinguishable at all everywhere there is the same pyramidal structure the same worship of semidivine leader the same economy existing by and for continuous warfare it follows that the three superstates not only cannot conquer one another but would gain no advantage by doing so on the contrary so long as they remain in conflict they prop one another up like three sheaves of corn and as usual the ruling groups of all three powers are simultaneously aware and unaware of what they are doing their lives are dedicated to world conquest but they also know that it is necessary that the war should continue everlastingly and without victory meanwhile the fact that there is no danger of conquest makes possible the denial of reality which is the special feature of ingsoc and its rival systems of thought here it is necessary to repeat what has been said earlier that by becoming continuous war has fundamentally changed its character  in past ages a war almost by definition was something that sooner or later came to an end usually in unmistakable victory or defeat in the past also war was one of the main instruments by which human societies were kept in touch with physical reality all rulers in all ages have tried to impose a false view of the world upon their followers but they could not afford to encourage any illusion that tended to impair military efficiency so long as defeat meant the loss of independence or some other result generally held to be undesirable the precautions against defeat had to be serious physical facts could not be ignored in philosophy or religion or ethics or politics two and two might make five but when one was designing a gun or an aeroplane they had to make four inefficient nations were always conquered sooner or later and the struggle for efficiency was inimical to illusions moreover to be efficient it was necessary to be able to learn from the past which meant having a fairly accurate idea of what had happened in the past newspapers and history books were of course always coloured and biased but falsification of the kind that is practised today would have been impossible war was a sure safeguard of sanity and so far as the ruling classes were concerned it was probably the most important of all safeguards while wars could be won or lost no ruling class could be completely irresponsible  but when war becomes literally continuous it also ceases to be dangerous when war is continuous there is no such thing as military necessity technical progress can cease and the most palpable facts can be denied or disregarded as we have seen researches that could be called scientific are still carried out for the purposes of war but they are essentially a kind of daydreaming and their failure to show results is not important efficiency even military efficiency is no longer needed nothing is efficient in oceania except the thought police since each of the three superstates is unconquerable each is in effect a separate universe within which almost any perversion of thought can be safely practised reality only exerts its pressure through the needs of everyday lifethe need to eat and drink to get shelter and clothing to avoid swallowing poison or stepping out of topstorey windows and the like between life and death and between physical pleasure and physical pain there is still a distinction but that is all cut off from contact with the outer world and with the past the citizen of oceania is like a man in interstellar space who has no way of knowing which direction is up and which is down the rulers of such a state are absolute as the pharaohs or the caesars could not be they are obliged to prevent their followers from starving to death in numbers large enough to be inconvenient and they are obliged to remain at the same low level of military technique as their rivals but once that minimum is achieved they can twist reality into whatever shape they choose  the war therefore if we judge it by the standards of previous wars is merely an imposture it is like the battles between certain ruminant animals whose horns are set at such an angle that they are incapable of hurting one another but though it is unreal it is not meaningless it eats up the surplus of consumable goods and it helps to preserve the special mental atmosphere that a hierarchical society needs war it will be seen is now a purely internal affair in the past the ruling groups of all countries although they might recognize their common interest and therefore limit the destructiveness of war did fight against one another and the victor always plundered the vanquished in our own day they are not fighting against one another at all the war is waged by each ruling group against its own subjects and the object of the war is not to make or prevent conquests of territory but to keep the structure of society intact the very word war therefore has become misleading it would probably be accurate to say that by becoming continuous war has ceased to exist the peculiar pressure that it exerted on human beings between the neolithic age and the early twentieth century has disappeared and been replaced by something quite different the effect would be much the same if the three superstates instead of fighting one another should agree to live in perpetual peace each inviolate within its own boundaries for in that case each would still be a selfcontained universe freed for ever from the sobering influence of external danger a peace that was truly permanent would be the same as a permanent war thisalthough the vast majority of party members understand it only in a shallower senseis the inner meaning of the party slogan war is peace   winston stopped reading for a moment somewhere in remote distance a rocket bomb thundered the blissful feeling of being alone with the forbidden book in a room with no telescreen had not worn off solitude and safety were physical sensations mixed up somehow with the tiredness of his body the softness of the chair the touch of the faint breeze from the window that played upon his cheek the book fascinated him or more exactly it reassured him in a sense it told him nothing that was new but that was part of the attraction it said what he would have said if it had been possible for him to set his scattered thoughts in order it was the product of a mind similar to his own but enormously more powerful more systematic less fearridden the best books he perceived are those that tell you what you know already he had just turned back to chapter i when he heard julias footstep on the stair and started out of his chair to meet her she dumped her brown toolbag on the floor and flung herself into his arms it was more than a week since they had seen one another  ive got the book he said as they disentangled themselves  oh youve got it good she said without much interest and almost immediately knelt down beside the oil stove to make the coffee  they did not return to the subject until they had been in bed for half an hour the evening was just cool enough to make it worth while to pull up the counterpane from below came the familiar sound of singing and the scrape of boots on the flagstones the brawny redarmed woman whom winston had seen there on his first visit was almost a fixture in the yard there seemed to be no hour of daylight when she was not marching to and fro between the washtub and the line alternately gagging herself with clothes pegs and breaking forth into lusty song julia had settled down on her side and seemed to be already on the point of falling asleep he reached out for the book which was lying on the floor and sat up against the bedhead  we must read it he said you too all members of the brotherhood have to read it  you read it she said with her eyes shut read it aloud thats the best way then you can explain it to me as you go  the clocks hands said six meaning eighteen they had three or four hours ahead of them he propped the book against his knees and began reading   chapter i ignorance is strength  throughout recorded time and probably since the end of the neolithic age there have been three kinds of people in the world the high the middle and the low they have been subdivided in many ways they have borne countless different names and their relative numbers as well as their attitude towards one another have varied from age to age but the essential structure of society has never altered even after enormous upheavals and seemingly irrevocable changes the same pattern has always reasserted itself just as a gyroscope will always return to equilibrium however far it is pushed one way or the other   julia are you awake said winston  yes my love im listening go on its marvellous  he continued reading   the aims of these three groups are entirely irreconcilable the aim of the high is to remain where they are the aim of the middle is to change places with the high the aim of the low when they have an aimfor it is an abiding characteristic of the low that they are too much crushed by drudgery to be more than intermittently conscious of anything outside their daily livesis to abolish all distinctions and create a society in which all men shall be equal thus throughout history a struggle which is the same in its main outlines recurs over and over again for long periods the high seem to be securely in power but sooner or later there always comes a moment when they lose either their belief in themselves or their capacity to govern efficiently or both they are then overthrown by the middle who enlist the low on their side by pretending to them that they are fighting for liberty and justice as soon as they have reached their objective the middle thrust the low back into their old position of servitude and themselves become the high presently a new middle group splits off from one of the other groups or from both of them and the struggle begins over again of the three groups only the low are never even temporarily successful in achieving their aims it would be an exaggeration to say that throughout history there has been no progress of a material kind even today in a period of decline the average human being is physically better off than he was a few centuries ago but no advance in wealth no softening of manners no reform or revolution has ever brought human equality a millimetre nearer from the point of view of the low no historic change has ever meant much more than a change in the name of their masters  by the late nineteenth century the recurrence of this pattern had become obvious to many observers there then rose schools of thinkers who interpreted history as a cyclical process and claimed to show that inequality was the unalterable law of human life this doctrine of course had always had its adherents but in the manner in which it was now put forward there was a significant change in the past the need for a hierarchical form of society had been the doctrine specifically of the high it had been preached by kings and aristocrats and by the priests lawyers and the like who were parasitical upon them and it had generally been softened by promises of compensation in an imaginary world beyond the grave the middle so long as it was struggling for power had always made use of such terms as freedom justice and fraternity now however the concept of human brotherhood began to be assailed by people who were not yet in positions of command but merely hoped to be so before long in the past the middle had made revolutions under the banner of equality and then had established a fresh tyranny as soon as the old one was overthrown the new middle groups in effect proclaimed their tyranny beforehand socialism a theory which appeared in the early nineteenth century and was the last link in a chain of thought stretching back to the slave rebellions of antiquity was still deeply infected by the utopianism of past ages but in each variant of socialism that appeared from about  onwards the aim of establishing liberty and equality was more and more openly abandoned the new movements which appeared in the middle years of the century ingsoc in oceania neobolshevism in eurasia deathworship as it is commonly called in eastasia had the conscious aim of perpetuating unfreedom and inequality these new movements of course grew out of the old ones and tended to keep their names and pay lipservice to their ideology but the purpose of all of them was to arrest progress and freeze history at a chosen moment the familiar pendulum swing was to happen once more and then stop as usual the high were to be turned out by the middle who would then become the high but this time by conscious strategy the high would be able to maintain their position permanently  the new doctrines arose partly because of the accumulation of historical knowledge and the growth of the historical sense which had hardly existed before the nineteenth century the cyclical movement of history was now intelligible or appeared to be so and if it was intelligible then it was alterable but the principal underlying cause was that as early as the beginning of the twentieth century human equality had become technically possible it was still true that men were not equal in their native talents and that functions had to be specialized in ways that favoured some individuals against others but there was no longer any real need for class distinctions or for large differences of wealth in earlier ages class distinctions had been not only inevitable but desirable inequality was the price of civilization with the development of machine production however the case was altered even if it was still necessary for human beings to do different kinds of work it was no longer necessary for them to live at different social or economic levels therefore from the point of view of the new groups who were on the point of seizing power human equality was no longer an ideal to be striven after but a danger to be averted in more primitive ages when a just and peaceful society was in fact not possible it had been fairly easy to believe it the idea of an earthly paradise in which men should live together in a state of brotherhood without laws and without brute labour had haunted the human imagination for thousands of years and this vision had had a certain hold even on the groups who actually profited by each historical change the heirs of the french english and american revolutions had partly believed in their own phrases about the rights of man freedom of speech equality before the law and the like and have even allowed their conduct to be influenced by them to some extent but by the fourth decade of the twentieth century all the main currents of political thought were authoritarian the earthly paradise had been discredited at exactly the moment when it became realizable every new political theory by whatever name it called itself led back to hierarchy and regimentation and in the general hardening of outlook that set in round about  practices which had been long abandoned in some cases for hundreds of yearsimprisonment without trial the use of war prisoners as slaves public executions torture to extract confessions the use of hostages and the deportation of whole populationsnot only became common again but were tolerated and even defended by people who considered themselves enlightened and progressive  it was only after a decade of national wars civil wars revolutions and counterrevolutions in all parts of the world that ingsoc and its rivals emerged as fully workedout political theories but they had been foreshadowed by the various systems generally called totalitarian which had appeared earlier in the century and the main outlines of the world which would emerge from the prevailing chaos had long been obvious what kind of people would control this world had been equally obvious the new aristocracy was made up for the most part of bureaucrats scientists technicians tradeunion organizers publicity experts sociologists teachers journalists and professional politicians these people whose origins lay in the salaried middle class and the upper grades of the working class had been shaped and brought together by the barren world of monopoly industry and centralized government as compared with their opposite numbers in past ages they were less avaricious less tempted by luxury hungrier for pure power and above all more conscious of what they were doing and more intent on crushing opposition this last difference was cardinal by comparison with that existing today all the tyrannies of the past were halfhearted and inefficient the ruling groups were always infected to some extent by liberal ideas and were content to leave loose ends everywhere to regard only the overt act and to be uninterested in what their subjects were thinking even the catholic church of the middle ages was tolerant by modern standards part of the reason for this was that in the past no government had the power to keep its citizens under constant surveillance the invention of print however made it easier to manipulate public opinion and the film and the radio carried the process further with the development of television and the technical advance which made it possible to receive and transmit simultaneously on the same instrument private life came to an end every citizen or at least every citizen important enough to be worth watching could be kept for twentyfour hours a day under the eyes of the police and in the sound of official propaganda with all other channels of communication closed the possibility of enforcing not only complete obedience to the will of the state but complete uniformity of opinion on all subjects now existed for the first time  after the revolutionary period of the fifties and sixties society regrouped itself as always into high middle and low but the new high group unlike all its forerunners did not act upon instinct but knew what was needed to safeguard its position it had long been realized that the only secure basis for oligarchy is collectivism wealth and privilege are most easily defended when they are possessed jointly the socalled abolition of private property which took place in the middle years of the c\n"
     ]
    }
   ],
   "source": [
    "n = round(len(data)*0.05)\n",
    "i = randint(0, len(data)-1)\n",
    "sampled_data = data[i:i+n]\n",
    "encrypted_sampled_data = mono_encrypt(sampled_data, characters, key)\n",
    "\n",
    "print(\"We sample a chunk of {} characters from the book starting at position {}\".format(n, i))\n",
    "print(\"Using the private key k = {}\\n\\n\".format(key))\n",
    "print(\"Sampled Plaintext:\")\n",
    "print(sampled_data)"
   ]
  },
  {
   "cell_type": "code",
   "execution_count": 9,
   "metadata": {},
   "outputs": [],
   "source": [
    "ciphertext_frequencies = count_char_freqs(encrypted_sampled_data)"
   ]
  },
  {
   "cell_type": "code",
   "execution_count": 10,
   "metadata": {},
   "outputs": [
    {
     "name": "stdout",
     "output_type": "stream",
     "text": [
      "The orinal key is: \n",
      "\tavsboircylxmpgkhjwqdtzefun\n",
      "The inferred key: \n",
      "\tavimopuqgjxbhykrncwdsztfel\n"
     ]
    }
   ],
   "source": [
    "def find_key_attack(ciphertext_freqencies, english_frequencies):\n",
    "    \"\"\"Takes two frequency dictionaries on letters and outputs a plausible\n",
    "    key\n",
    "    inputs like: {'a': 36548, 'b': 7668, 'c': 11642 ...\n",
    "    outputs a key\n",
    "    \"\"\"\n",
    "    cf = sorted(ciphertext_frequencies.items(), key=lambda item: item[1])\n",
    "    ef = sorted(english_frequencies.items(), key=lambda item: item[1])\n",
    "    \n",
    "    #map english to \n",
    "    mapping = {}\n",
    "    for e, c in zip(ef, cf):\n",
    "        mapping[e[0]] = c[0]\n",
    "    \n",
    "    m = ''\n",
    "    for letter in string.ascii_lowercase:\n",
    "        m += mapping[letter]\n",
    "        \n",
    "    return m\n",
    "\n",
    "\n",
    "inferred_key = find_key_attack(ciphertext_frequencies, english_frequencies)\n",
    "\n",
    "print(\"The orinal key is: \\n\\t{}\".format(key))\n",
    "print(\"The inferred key: \\n\\t{}\".format(inferred_key))"
   ]
  },
  {
   "cell_type": "code",
   "execution_count": 11,
   "metadata": {},
   "outputs": [
    {
     "name": "stdout",
     "output_type": "stream",
     "text": [
      "We have correctly guessed 8 out of 26 digits of the key\n"
     ]
    }
   ],
   "source": [
    "count = 0\n",
    "for a, b in zip(key, inferred_key):\n",
    "    if a == b:\n",
    "        count += 1\n",
    "        \n",
    "print(\"We have correctly guessed {} out of {} digits of the key\".format(count, len(characters)))"
   ]
  },
  {
   "cell_type": "markdown",
   "metadata": {},
   "source": [
    "We see that there are some coincidences, let's try to decrypt the message using the inferred key"
   ]
  },
  {
   "cell_type": "code",
   "execution_count": 12,
   "metadata": {},
   "outputs": [
    {
     "data": {
      "text/plain": [
       "'uaddg auuemtabde yag ni msniunmde nt yowdl be jwnte hnfmde to yahte tre hwsmdwh dabows oc tre yosdl bg bwndlnip tefmdeh ail mgsafnlh bg lnppnip rodeh ail cnddnip tref wm apani os evei bg msolwunip vaht jwaitntneh oc poolh ail trei hettnip cnse to tref bwt trnh yowdl msovnle oidg tre euoiofnu ail iot tre efotnoiad bahnh cos a rnesasurnuad hounetg yrat nh uoiuesiel rese nh iot tre fosade oc fahheh yrohe attntwle nh winfmostait ho doip ah treg ase kemt htealndg at yosk bwt tre fosade oc tre mastg nthedc evei tre rwfbdeht mastg fefbes nh exmeutel to be uofmeteit nilwhtsnowh ail evei niteddnpeit yntrni iassoy dnfnth bwt nt nh adho ieuehhasg trat re hrowdl be a uselwdowh ail npiosait caiatnu yrohe msevandnip foolh ase ceas ratsel alwdatnoi ail ospnahtnu tsnwfmr ni otres yoslh nt nh ieuehhasg trat re hrowdl rave tre feitadntg ammsomsnate to a htate oc yas nt loeh iot fattes yretres tre yas nh autwaddg rammeinip ail hniue io leunhnve vnutosg nh mohhnbde nt loeh iot fattes yretres tre yas nh ponip yedd os baldg add trat nh ieelel nh trat a htate oc yas hrowdl exnht tre hmdnttnip oc tre niteddnpeiue yrnur tre mastg sejwnseh oc nth fefbesh ail yrnur nh fose eahndg aurnevel ni ai atfohmrese oc yas nh ioy adfoht winveshad bwt tre rnpres wm tre saikh oie poeh tre fose faskel nt beuofeh nt nh mseunhedg ni tre niies mastg trat yas rghtesna ail ratsel oc tre eiefg ase htsoipeht ni rnh uamauntg ah ai alfninhtsatos nt nh octei ieuehhasg cos a fefbes oc tre niies mastg to kioy trat trnh os trat ntef oc yas ieyh nh witswtrcwd ail re fag octei be ayase trat tre eitnse yas nh hmwsnowh ail nh entres iot rammeinip os nh benip yapel cos mwsmoheh jwnte otres trai tre leudasel oieh bwt hwur kioydelpe nh eahndg iewtsadnqel bg tre teurinjwe oc lowbdetrnik feaiyrnde io niies mastg fefbes yavesh cos ai nihtait ni rnh fghtnuad bednec trat tre yas nh sead ail trat nt nh bowil to eil vnutosnowhdg yntr oueaina tre wilnhmwtel fahtes oc tre eitnse yosdl  add fefbesh oc tre niies mastg bedneve ni trnh uofnip uoijweht ah ai astnude oc cantr nt nh to be aurnevel entres bg psalwaddg aujwnsnip fose ail fose tessntosg ail ho bwndlnip wm ai ovesyredfnip msemoilesaiue oc moyes os bg tre lnhuovesg oc hofe iey ail wiaihyesabde yeamoi tre heasur cos iey yeamoih uoitniweh wiueahnipdg ail nh oie oc tre vesg cey sefaninip autnvntneh ni yrnur tre niveitnve os hmeuwdatnve tgme oc fnil uai cnil aig owtdet ni oueaina at tre mseheit lag huneiue ni tre odl heihe rah adfoht ueahel to exnht ni ieyhmeak trese nh io yosl cos huneiue tre efmnsnuad fetrol oc trowprt oi yrnur add tre huneitncnu aurnevefeith oc tre maht yese cowilel nh ommohel to tre foht cwilafeitad msniunmdeh oc niphou ail evei teuriodopnuad msopsehh oidg rammeih yrei nth msolwuth uai ni hofe yag be whel cos tre lnfniwtnoi oc rwfai dnbestg ni add tre whecwd asth tre yosdl nh entres htailnip htndd os ponip baukyaslh tre cnedlh ase uwdtnvatel yntr roshemdowprh yrnde bookh ase ysnttei bg faurniesg bwt ni fattesh oc vntad nfmostaiuefeainip ni ecceut yas ail modnue ehmnoiapetre efmnsnuad ammsoaur nh htndd eiuowsapel os at deaht todesatel tre tyo anfh oc tre mastg ase to uoijwes tre yrode hwscaue oc tre eastr ail to extnipwnhr oiue ail cos add tre mohhnbndntg oc nilemeileit trowprt trese ase tresecose tyo pseat msobdefh yrnur tre mastg nh uoiuesiel to hodve oie nh roy to lnhuoves apaniht rnh yndd yrat aiotres rwfai benip nh trniknip ail tre otres nh roy to kndd hevesad rwilsel fnddnoi meomde ni a cey heuoilh yntrowt pnvnip yasinip becoserail ni ho cas ah huneitncnu seheasur htndd uoitniweh trnh nh nth hwbzeut fattes tre huneitnht oc tolag nh entres a fnxtwse oc mhgurodopnht ail nijwnhntos htwlgnip yntr sead oslniasg fniwteiehh tre feainip oc caunad exmsehhnoih pehtwseh ail toieh oc vonue ail tehtnip tre tswtrmsolwunip ecceuth oc lswph hrouk tresamg rgmiohnh ail mrghnuad tostwse os re nh urefnht mrghnunht os bnodopnht uoiuesiel oidg yntr hwur bsaiureh oc rnh hmeunad hwbzeut ah ase sedevait to tre taknip oc dnce ni tre vaht dabosatosneh oc tre fninhtsg oc meaue ail ni tre exmesnfeitad htatnoih rnllei ni tre bsaqndnai cosehth os ni tre awhtsadnai lehest os oi doht nhdailh oc tre aitasutnu tre teafh oc exmesth ase nilecatnpabdg at yosk hofe ase uoiuesiel hnfmdg yntr mdaiinip tre dopnhtnuh oc cwtwse yash otresh levnhe daspes ail daspes souket bofbh fose ail fose moyescwd exmdohnveh ail fose ail fose nfmeietsabde asfowsmdatnip otresh heasur cos iey ail lealdnes paheh os cos hodwbde monhoih uamabde oc benip msolwuel ni hwur jwaitntneh ah to lehtsog tre vepetatnoi oc yrode uoitnieith os cos bseelh oc lnheahe pesfh nffwinqel apaniht add mohhnbde aitnbolneh otresh htsnve to msolwue a vernude trat hradd bose nth yag wiles tre hond dnke a hwbfasnie wiles tre yates os ai aesomdaie ah nilemeileit oc nth bahe ah a handniphrnm otresh exmdose evei sefotes mohhnbndntneh hwur ah couwhnip tre hwih sagh trsowpr deiheh hwhmeilel trowhailh oc kndofetseh ayag ni hmaue os msolwunip astncnunad eastrjwakeh ail tnlad yaveh bg tammnip tre reat at tre eastrh ueitse  bwt ioie oc trehe msozeuth eves uofeh aigyrese ieas seadnqatnoi ail ioie oc tre trsee hwmeshtateh eves panih a hnpincnuait deal oi tre otresh yrat nh fose sefaskabde nh trat add trsee moyesh adsealg mohhehh ni tre atofnu bofb a yeamoi cas fose moyescwd trai aig trat trens mseheit seheasureh ase dnkedg to lnhuoves adtrowpr tre mastg auuoslnip to nth rabnt udanfh tre niveitnoi cos nthedc atofnu bofbh cnsht ammeasel ah easdg ah tre inieteeicostneh ail yese cnsht whel oi a daspe huade abowt tei geash dates at trat tnfe hofe rwilselh oc bofbh yese lsommel oi nilwhtsnad ueitseh urnecdg ni ewsomeai swhhna yehtesi ewsome ail iostr afesnua tre ecceut yah to uoivniue tre swdnip psowmh oc add uowitsneh trat a cey fose atofnu bofbh yowdl feai tre eil oc ospainqel hounetg ail reiue oc trens oyi moyes treseactes adtrowpr io cosfad apseefeit yah eves fale os rnitel at io fose bofbh yese lsommel add trsee moyesh fesedg uoitniwe to msolwue atofnu bofbh ail htose tref wm apaniht tre leunhnve ommostwintg yrnur treg add bedneve yndd uofe hooies os dates ail feaiyrnde tre ast oc yas rah sefaniel adfoht htatnoiasg cos trnstg os costg geash rednuomtesh ase fose whel trai treg yese cosfesdg bofbnip mdaieh rave beei daspedg hwmeshelel bg hedcmsomeddel msozeutndeh ail tre csapnde fovabde battdehrnm rah pnvei yag to tre adfoht wihnikabde cdoatnip costsehh bwt otresynhe trese rah beei dnttde levedomfeit tre taik tre hwbfasnie tre tosmelo tre faurnie pwi evei tre sncde ail tre rail pseiale ase htndd ni whe ail ni hmnte oc tre eildehh hdawprtesh semostel ni tre msehh ail oi tre tedehuseeih tre lehmesate battdeh oc easdnes yash ni yrnur rwilselh oc trowhailh os evei fnddnoih oc fei yese octei knddel ni a cey yeekh rave ieves beei semeatel  ioie oc tre trsee hwmeshtateh eves attefmth aig faioewvse yrnur nivodveh tre snhk oc hesnowh leceat yrei aig daspe omesatnoi nh wilestakei nt nh whwaddg a hwsmsnhe attauk apaniht ai addg tre htsatepg trat add trsee moyesh ase coddoynip os mseteil to trefhedveh trat treg ase coddoynip nh tre hafe tre mdai nh bg a uofbniatnoi oc cnprtnip baspaninip ail yeddtnfel htsokeh oc tseauresg to aujwnse a snip oc baheh uofmdetedg eiunsudnip oie os otres oc tre snvad htateh ail trei to hnpi a maut oc csneilhrnm yntr trat snvad ail sefani oi meauecwd tesfh cos ho faig geash ah to dwdd hwhmnunoi to hdeem lwsnip trnh tnfe souketh doalel yntr atofnu bofbh uai be ahhefbdel at add tre htsatepnu hmoth cniaddg treg yndd add be cnsel hnfwdtaieowhdg yntr ecceuth ho levahtatnip ah to fake setadnatnoi nfmohhnbde nt yndd trei be tnfe to hnpi a maut oc csneilhrnm yntr tre sefaninip yosdlmoyes ni msemasatnoi cos aiotres attauk trnh hurefe nt nh rasldg ieuehhasg to hag nh a fese laglseaf nfmohhnbde oc seadnqatnoi foseoves io cnprtnip eves ouuwsh exuemt ni tre lnhmwtel aseah sowil tre ejwatos ail tre mode io nivahnoi oc eiefg tessntosg nh eves wilestakei trnh exmdanih tre caut trat ni hofe mdaueh tre csoitnesh betyeei tre hwmeshtateh ase asbntsasg ewsahna cos exafmde uowdl eahndg uoijwes tre bsntnhr nhdeh yrnur ase peopsamrnuaddg mast oc ewsome os oi tre otres rail nt yowdl be mohhnbde cos oueaina to mwhr nth csoitnesh to tre srnie os evei to tre vnhtwda bwt trnh yowdl vnodate tre msniunmde coddoyel oi add hnleh trowpr ieves cosfwdatel oc uwdtwsad nitepsntg nc oueaina yese to uoijwes tre aseah trat whel oiue to be kioyi ah csaiue ail pesfaig nt yowdl be ieuehhasg entres to extesfniate tre nirabntaith a tahk oc pseat mrghnuad lnccnuwdtg os to ahhnfndate a momwdatnoi oc abowt a rwilsel fnddnoi meomde yro ho cas ah teurinuad levedomfeit poeh ase sowprdg oi tre oueainu deved tre msobdef nh tre hafe cos add trsee hwmeshtateh nt nh abhodwtedg ieuehhasg to trens htswutwse trat trese hrowdl be io uoitaut yntr cosenpiesh exuemt to a dnfntel exteit yntr yas msnhoiesh ail uodowsel hdaveh evei tre occnunad addg oc tre fofeit nh adyagh sepaslel yntr tre laskeht hwhmnunoi yas msnhoiesh amast tre avesape untnqei oc oueaina ieves heth egeh oi a untnqei oc entres ewsahna os eahtahna ail re nh cosbnllei tre kioydelpe oc cosenpi daipwapeh nc re yese addoyel uoitaut yntr cosenpiesh re yowdl lnhuoves trat treg ase useatwseh hnfndas to rnfhedc ail trat foht oc yrat re rah beei todl abowt tref nh dneh tre headel yosdl ni yrnur re dnveh yowdl be bsokei ail tre ceas ratsel ail hedcsnprteowhiehh oi yrnur rnh fosade lemeilh fnprt evamosate nt nh tresecose seadnqel oi add hnleh trat royeves octei meshna os epgmt os zava os uegdoi fag uraipe railh tre fani csoitnesh fwht ieves be usohhel bg aigtrnip exuemt bofbh  wiles trnh dneh a caut ieves feitnoiel adowl bwt tauntdg wileshtool ail autel wmoi iafedg trat tre uoilntnoih oc dnce ni add trsee hwmeshtateh ase vesg fwur tre hafe ni oueaina tre msevandnip mrndohomrg nh uaddel niphou ni ewsahna nt nh uaddel ieobodhrevnhf ail ni eahtahna nt nh uaddel bg a urniehe iafe whwaddg tsaihdatel ah leatryoshrnm bwt mesramh bettes seilesel ah obdntesatnoi oc tre hedc tre untnqei oc oueaina nh iot addoyel to kioy aigtrnip oc tre teieth oc tre otres tyo mrndohomrneh bwt re nh tawprt to exeusate tref ah basbasowh owtsapeh wmoi fosadntg ail uoffoi heihe autwaddg tre trsee mrndohomrneh ase basedg lnhtnipwnhrabde ail tre hounad hghtefh yrnur treg hwmmost ase iot lnhtnipwnhrabde at add evesgyrese trese nh tre hafe mgsafnlad htswutwse tre hafe yoshrnm oc hefnlnvnie deales tre hafe euoiofg exnhtnip bg ail cos uoitniwowh yascase nt coddoyh trat tre trsee hwmeshtateh iot oidg uaiiot uoijwes oie aiotres bwt yowdl pani io alvaitape bg lonip ho oi tre uoitsasg ho doip ah treg sefani ni uoicdnut treg msom oie aiotres wm dnke trsee hreaveh oc uosi ail ah whwad tre swdnip psowmh oc add trsee moyesh ase hnfwdtaieowhdg ayase ail wiayase oc yrat treg ase lonip trens dnveh ase lelnuatel to yosdl uoijweht bwt treg adho kioy trat nt nh ieuehhasg trat tre yas hrowdl uoitniwe evesdahtnipdg ail yntrowt vnutosg feaiyrnde tre caut trat trese nh io laipes oc uoijweht fakeh mohhnbde tre leinad oc seadntg yrnur nh tre hmeunad ceatwse oc niphou ail nth snvad hghtefh oc trowprt rese nt nh ieuehhasg to semeat yrat rah beei hanl easdnes trat bg beuofnip uoitniwowh yas rah cwilafeitaddg uraipel nth urasautes  ni maht apeh a yas adfoht bg lecnintnoi yah hofetrnip trat hooies os dates uafe to ai eil whwaddg ni wifnhtakabde vnutosg os leceat ni tre maht adho yas yah oie oc tre fani nihtswfeith bg yrnur rwfai hounetneh yese kemt ni towur yntr mrghnuad seadntg add swdesh ni add apeh rave tsnel to nfmohe a cadhe vney oc tre yosdl wmoi trens coddoyesh bwt treg uowdl iot accosl to eiuowsape aig nddwhnoi trat teilel to nfmans fndntasg eccnuneiug ho doip ah leceat feait tre dohh oc nilemeileiue os hofe otres sehwdt peiesaddg redl to be wilehnsabde tre mseuawtnoih apaniht leceat ral to be hesnowh mrghnuad cauth uowdl iot be npiosel ni mrndohomrg os sednpnoi os etrnuh os modntnuh tyo ail tyo fnprt fake cnve bwt yrei oie yah lehnpinip a pwi os ai aesomdaie treg ral to fake cows nieccnuneit iatnoih yese adyagh uoijwesel hooies os dates ail tre htswppde cos eccnuneiug yah ninfnuad to nddwhnoih foseoves to be eccnuneit nt yah ieuehhasg to be abde to deasi csof tre maht yrnur feait ravnip a cansdg auuwsate nlea oc yrat ral rammeiel ni tre maht ieyhmamesh ail rnhtosg bookh yese oc uowshe adyagh uodowsel ail bnahel bwt cadhncnuatnoi oc tre knil trat nh msautnhel tolag yowdl rave beei nfmohhnbde yas yah a hwse hacepwasl oc haintg ail ho cas ah tre swdnip udahheh yese uoiuesiel nt yah msobabdg tre foht nfmostait oc add hacepwaslh yrnde yash uowdl be yoi os doht io swdnip udahh uowdl be uofmdetedg nssehmoihnbde  bwt yrei yas beuofeh dntesaddg uoitniwowh nt adho ueaheh to be laipesowh yrei yas nh uoitniwowh trese nh io hwur trnip ah fndntasg ieuehhntg teurinuad msopsehh uai ueahe ail tre foht madmabde cauth uai be leinel os lnhsepaslel ah ye rave heei seheasureh trat uowdl be uaddel huneitncnu ase htndd uassnel owt cos tre mwsmoheh oc yas bwt treg ase ehheitnaddg a knil oc laglseafnip ail trens candwse to hroy sehwdth nh iot nfmostait eccnuneiug evei fndntasg eccnuneiug nh io doipes ieelel iotrnip nh eccnuneit ni oueaina exuemt tre trowprt modnue hniue eaur oc tre trsee hwmeshtateh nh wiuoijwesabde eaur nh ni ecceut a hemasate winveshe yntrni yrnur adfoht aig mesveshnoi oc trowprt uai be hacedg msautnhel seadntg oidg exesth nth msehhwse trsowpr tre ieelh oc evesglag dncetre ieel to eat ail lsnik to pet hredtes ail udotrnip to avonl hyaddoynip monhoi os htemmnip owt oc tomhtoseg yniloyh ail tre dnke betyeei dnce ail leatr ail betyeei mrghnuad mdeahwse ail mrghnuad mani trese nh htndd a lnhtniutnoi bwt trat nh add uwt occ csof uoitaut yntr tre owtes yosdl ail yntr tre maht tre untnqei oc oueaina nh dnke a fai ni niteshteddas hmaue yro rah io yag oc kioynip yrnur lnseutnoi nh wm ail yrnur nh loyi tre swdesh oc hwur a htate ase abhodwte ah tre mrasaorh os tre uaehash uowdl iot be treg ase obdnpel to mseveit trens coddoyesh csof htasvnip to leatr ni iwfbesh daspe eiowpr to be niuoiveineit ail treg ase obdnpel to sefani at tre hafe doy deved oc fndntasg teurinjwe ah trens snvadh bwt oiue trat fninfwf nh aurnevel treg uai tynht seadntg nito yrateves hrame treg uroohe  tre yas tresecose nc ye zwlpe nt bg tre htailaslh oc msevnowh yash nh fesedg ai nfmohtwse nt nh dnke tre battdeh betyeei uestani swfniait ainfadh yrohe rosih ase het at hwur ai aipde trat treg ase niuamabde oc rwstnip oie aiotres bwt trowpr nt nh wisead nt nh iot feainipdehh nt eath wm tre hwsmdwh oc uoihwfabde poolh ail nt redmh to msehesve tre hmeunad feitad atfohmrese trat a rnesasurnuad hounetg ieelh yas nt yndd be heei nh ioy a mwsedg nitesiad accans ni tre maht tre swdnip psowmh oc add uowitsneh adtrowpr treg fnprt seuopinqe trens uoffoi niteseht ail tresecose dnfnt tre lehtswutnveiehh oc yas lnl cnprt apaniht oie aiotres ail tre vnutos adyagh mdwilesel tre vaijwnhrel ni ows oyi lag treg ase iot cnprtnip apaniht oie aiotres at add tre yas nh yapel bg eaur swdnip psowm apaniht nth oyi hwbzeuth ail tre obzeut oc tre yas nh iot to fake os mseveit uoijwehth oc tessntosg bwt to keem tre htswutwse oc hounetg nitaut tre vesg yosl yas tresecose rah beuofe fnhdealnip nt yowdl msobabdg be auuwsate to hag trat bg beuofnip uoitniwowh yas rah ueahel to exnht tre meuwdnas msehhwse trat nt exestel oi rwfai beniph betyeei tre ieodntrnu ape ail tre easdg tyeitnetr ueitwsg rah lnhammeasel ail beei semdauel bg hofetrnip jwnte lncceseit tre ecceut yowdl be fwur tre hafe nc tre trsee hwmeshtateh nihteal oc cnprtnip oie aiotres hrowdl apsee to dnve ni mesmetwad meaue eaur nivnodate yntrni nth oyi bowilasneh cos ni trat uahe eaur yowdl htndd be a hedcuoitaniel winveshe cseel cos eves csof tre hobesnip nicdweiue oc extesiad laipes a meaue trat yah tswdg mesfaieit yowdl be tre hafe ah a mesfaieit yas trnhadtrowpr tre vaht fazosntg oc mastg fefbesh wileshtail nt oidg ni a hraddoyes heihenh tre niies feainip oc tre mastg hdopai yas nh meaue   ynihtoi htommel sealnip cos a fofeit hofeyrese ni sefote lnhtaiue a souket bofb trwilesel tre bdnhhcwd ceednip oc benip adoie yntr tre cosbnllei book ni a soof yntr io tedehuseei ral iot yosi occ hodntwle ail hacetg yese mrghnuad heihatnoih fnxel wm hoferoy yntr tre tnseliehh oc rnh bolg tre hoctiehh oc tre urans tre towur oc tre canit bseeqe csof tre yniloy trat mdagel wmoi rnh ureek tre book cahuniatel rnf os fose exautdg nt seahhwsel rnf ni a heihe nt todl rnf iotrnip trat yah iey bwt trat yah mast oc tre attsautnoi nt hanl yrat re yowdl rave hanl nc nt ral beei mohhnbde cos rnf to het rnh huattesel trowprth ni osles nt yah tre msolwut oc a fnil hnfndas to rnh oyi bwt eiosfowhdg fose moyescwd fose hghtefatnu dehh ceassnllei tre beht bookh re mesuenvel ase trohe trat tedd gow yrat gow kioy adsealg re ral zwht twsiel bauk to uramtes n yrei re reasl zwdnah coothtem oi tre htans ail htastel owt oc rnh urans to feet res hre lwfmel res bsoyi toodbap oi tre cdoos ail cdwip reshedc nito rnh asfh nt yah fose trai a yeek hniue treg ral heei oie aiotres  nve pot tre book re hanl ah treg lnheitaipdel trefhedveh  or gowve pot nt pool hre hanl yntrowt fwur niteseht ail adfoht nffelnatedg kiedt loyi behnle tre ond htove to fake tre uoccee  treg lnl iot setwsi to tre hwbzeut witnd treg ral beei ni bel cos radc ai rows tre eveinip yah zwht uood eiowpr to fake nt yostr yrnde to mwdd wm tre uowitesmaie csof bedoy uafe tre cafndnas howil oc hnipnip ail tre husame oc booth oi tre cdaphtoieh tre bsayig selasfel yofai yrof ynihtoi ral heei trese oi rnh cnsht vnhnt yah adfoht a cnxtwse ni tre gasl trese heefel to be io rows oc lagdnprt yrei hre yah iot fasurnip to ail cso betyeei tre yahrtwb ail tre dnie adtesiatedg pappnip reshedc yntr udotreh meph ail bseaknip costr nito dwhtg hoip zwdna ral hettdel loyi oi res hnle ail heefel to be adsealg oi tre monit oc caddnip ahdeem re seaurel owt cos tre book yrnur yah dgnip oi tre cdoos ail hat wm apaniht tre belreal  ye fwht seal nt re hanl gow too add fefbesh oc tre bsotresrool rave to seal nt  gow seal nt hre hanl yntr res egeh hrwt seal nt adowl trath tre beht yag trei gow uai exmdani nt to fe ah gow po  tre udoukh railh hanl hnx feainip enprteei treg ral trsee os cows rowsh areal oc tref re msommel tre book apaniht rnh kieeh ail bepai sealnip   uramtes n npiosaiue nh htseiptr  trsowprowt seuoslel tnfe ail msobabdg hniue tre eil oc tre ieodntrnu ape trese rave beei trsee knilh oc meomde ni tre yosdl tre rnpr tre fnllde ail tre doy treg rave beei hwblnvnlel ni faig yagh treg rave bosie uowitdehh lncceseit iafeh ail trens sedatnve iwfbesh ah yedd ah trens attntwle toyaslh oie aiotres rave vasnel csof ape to ape bwt tre ehheitnad htswutwse oc hounetg rah ieves adtesel evei actes eiosfowh wmreavadh ail heefnipdg nssevouabde uraipeh tre hafe mattesi rah adyagh seahhestel nthedc zwht ah a pgsohuome yndd adyagh setwsi to ejwndnbsnwf royeves cas nt nh mwhrel oie yag os tre otres   zwdna ase gow ayake hanl ynihtoi  geh fg dove nf dnhteinip po oi nth fasveddowh  re uoitniwel sealnip   tre anfh oc trehe trsee psowmh ase eitnsedg nsseuoiundabde tre anf oc tre rnpr nh to sefani yrese treg ase tre anf oc tre fnllde nh to uraipe mdaueh yntr tre rnpr tre anf oc tre doy yrei treg rave ai anfcos nt nh ai abnlnip urasautesnhtnu oc tre doy trat treg ase too fwur uswhrel bg lswlpesg to be fose trai nitesfntteitdg uoihunowh oc aigtrnip owthnle trens landg dnvehnh to abodnhr add lnhtniutnoih ail useate a hounetg ni yrnur add fei hradd be ejwad trwh trsowprowt rnhtosg a htswppde yrnur nh tre hafe ni nth fani owtdnieh seuwsh oves ail oves apani cos doip mesnolh tre rnpr heef to be heuwsedg ni moyes bwt hooies os dates trese adyagh uofeh a fofeit yrei treg dohe entres trens bednec ni trefhedveh os trens uamauntg to povesi eccnuneitdg os botr treg ase trei ovestrsoyi bg tre fnllde yro eidnht tre doy oi trens hnle bg mseteilnip to tref trat treg ase cnprtnip cos dnbestg ail zwhtnue ah hooi ah treg rave seaurel trens obzeutnve tre fnllde trswht tre doy bauk nito trens odl mohntnoi oc hesvntwle ail trefhedveh beuofe tre rnpr mseheitdg a iey fnllde psowm hmdnth occ csof oie oc tre otres psowmh os csof botr oc tref ail tre htswppde bepnih oves apani oc tre trsee psowmh oidg tre doy ase ieves evei tefmosasndg hwuuehhcwd ni aurnevnip trens anfh nt yowdl be ai exappesatnoi to hag trat trsowprowt rnhtosg trese rah beei io msopsehh oc a fatesnad knil evei tolag ni a mesnol oc leudnie tre avesape rwfai benip nh mrghnuaddg bettes occ trai re yah a cey ueitwsneh apo bwt io alvaiue ni yeadtr io hocteinip oc faiiesh io secosf os sevodwtnoi rah eves bsowprt rwfai ejwadntg a fnddnfetse ieases csof tre monit oc vney oc tre doy io rnhtosnu uraipe rah eves feait fwur fose trai a uraipe ni tre iafe oc trens fahtesh  bg tre date inieteeitr ueitwsg tre seuwsseiue oc trnh mattesi ral beuofe obvnowh to faig obhesvesh trese trei sohe huroodh oc trnikesh yro nitesmsetel rnhtosg ah a ugudnuad msouehh ail udanfel to hroy trat niejwadntg yah tre wiadtesabde day oc rwfai dnce trnh loutsnie oc uowshe ral adyagh ral nth alreseith bwt ni tre faiies ni yrnur nt yah ioy mwt cosyasl trese yah a hnpincnuait uraipe ni tre maht tre ieel cos a rnesasurnuad cosf oc hounetg ral beei tre loutsnie hmeuncnuaddg oc tre rnpr nt ral beei mseaurel bg kniph ail asnhtousath ail bg tre msnehth daygesh ail tre dnke yro yese masahntnuad wmoi tref ail nt ral peiesaddg beei hocteiel bg msofnheh oc uofmeihatnoi ni ai nfapniasg yosdl begoil tre psave tre fnllde ho doip ah nt yah htswppdnip cos moyes ral adyagh fale whe oc hwur tesfh ah cseelof zwhtnue ail csatesintg ioy royeves tre uoiuemt oc rwfai bsotresrool bepai to be ahhandel bg meomde yro yese iot get ni mohntnoih oc uoffail bwt fesedg romel to be ho becose doip ni tre maht tre fnllde ral fale sevodwtnoih wiles tre baiies oc ejwadntg ail trei ral ehtabdnhrel a csehr tgsaiig ah hooi ah tre odl oie yah ovestrsoyi tre iey fnllde psowmh ni ecceut msoudanfel trens tgsaiig becoserail hounadnhf a treosg yrnur ammeasel ni tre easdg inieteeitr ueitwsg ail yah tre daht dnik ni a urani oc trowprt htseturnip bauk to tre hdave sebeddnoih oc aitnjwntg yah htndd leemdg niceutel bg tre wtomnainhf oc maht apeh bwt ni eaur vasnait oc hounadnhf trat ammeasel csof abowt  oiyaslh tre anf oc ehtabdnhrnip dnbestg ail ejwadntg yah fose ail fose omeidg abailoiel tre iey fovefeith yrnur ammeasel ni tre fnllde geash oc tre ueitwsg niphou ni oueaina ieobodhrevnhf ni ewsahna leatryoshrnm ah nt nh uoffoidg uaddel ni eahtahna ral tre uoihunowh anf oc mesmetwatnip wicseelof ail niejwadntg trehe iey fovefeith oc uowshe psey owt oc tre odl oieh ail teilel to keem trens iafeh ail mag dnmhesvnue to trens nleodopg bwt tre mwsmohe oc add oc tref yah to asseht msopsehh ail cseeqe rnhtosg at a urohei fofeit tre cafndnas meilwdwf hynip yah to rammei oiue fose ail trei htom ah whwad tre rnpr yese to be twsiel owt bg tre fnllde yro yowdl trei beuofe tre rnpr bwt trnh tnfe bg uoihunowh htsatepg tre rnpr yowdl be abde to fanitani trens mohntnoi mesfaieitdg  tre iey loutsnieh asohe mastdg beuawhe oc tre auuwfwdatnoi oc rnhtosnuad kioydelpe ail tre psoytr oc tre rnhtosnuad heihe yrnur ral rasldg exnhtel becose tre inieteeitr ueitwsg tre ugudnuad fovefeit oc rnhtosg yah ioy niteddnpnbde os ammeasel to be ho ail nc nt yah niteddnpnbde trei nt yah adtesabde bwt tre msniunmad wilesdgnip uawhe yah trat ah easdg ah tre bepniinip oc tre tyeitnetr ueitwsg rwfai ejwadntg ral beuofe teurinuaddg mohhnbde nt yah htndd tswe trat fei yese iot ejwad ni trens iatnve tadeith ail trat cwiutnoih ral to be hmeunadnqel ni yagh trat cavowsel hofe nilnvnlwadh apaniht otresh bwt trese yah io doipes aig sead ieel cos udahh lnhtniutnoih os cos daspe lncceseiueh oc yeadtr ni easdnes apeh udahh lnhtniutnoih ral beei iot oidg nievntabde bwt lehnsabde niejwadntg yah tre msnue oc unvndnqatnoi yntr tre levedomfeit oc faurnie msolwutnoi royeves tre uahe yah adtesel evei nc nt yah htndd ieuehhasg cos rwfai beniph to lo lncceseit knilh oc yosk nt yah io doipes ieuehhasg cos tref to dnve at lncceseit hounad os euoiofnu devedh tresecose csof tre monit oc vney oc tre iey psowmh yro yese oi tre monit oc henqnip moyes rwfai ejwadntg yah io doipes ai nlead to be htsnvei actes bwt a laipes to be avestel ni fose msnfntnve apeh yrei a zwht ail meauecwd hounetg yah ni caut iot mohhnbde nt ral beei cansdg eahg to bedneve nt tre nlea oc ai eastrdg masalnhe ni yrnur fei hrowdl dnve topetres ni a htate oc bsotresrool yntrowt dayh ail yntrowt bswte dabows ral rawitel tre rwfai nfapniatnoi cos trowhailh oc geash ail trnh vnhnoi ral ral a uestani rodl evei oi tre psowmh yro autwaddg msocntel bg eaur rnhtosnuad uraipe tre rensh oc tre cseiur eipdnhr ail afesnuai sevodwtnoih ral mastdg bednevel ni trens oyi mrsaheh abowt tre snprth oc fai cseelof oc hmeeur ejwadntg becose tre day ail tre dnke ail rave evei addoyel trens uoilwut to be nicdweiuel bg tref to hofe exteit bwt bg tre cowstr leuale oc tre tyeitnetr ueitwsg add tre fani uwsseith oc modntnuad trowprt yese awtrosntasnai tre eastrdg masalnhe ral beei lnhuselntel at exautdg tre fofeit yrei nt beuafe seadnqabde evesg iey modntnuad treosg bg yrateves iafe nt uaddel nthedc del bauk to rnesasurg ail sepnfeitatnoi ail ni tre peiesad rasleinip oc owtdook trat het ni sowil abowt  msautnueh yrnur ral beei doip abailoiel ni hofe uaheh cos rwilselh oc geashnfmsnhoifeit yntrowt tsnad tre whe oc yas msnhoiesh ah hdaveh mwbdnu exeuwtnoih tostwse to extsaut uoicehhnoih tre whe oc rohtapeh ail tre lemostatnoi oc yrode momwdatnoihiot oidg beuafe uoffoi apani bwt yese todesatel ail evei leceilel bg meomde yro uoihnlesel trefhedveh eidnprteiel ail msopsehhnve  nt yah oidg actes a leuale oc iatnoiad yash unvnd yash sevodwtnoih ail uowitessevodwtnoih ni add masth oc tre yosdl trat niphou ail nth snvadh efespel ah cwddg yoskelowt modntnuad treosneh bwt treg ral beei cosehraloyel bg tre vasnowh hghtefh peiesaddg uaddel totadntasnai yrnur ral ammeasel easdnes ni tre ueitwsg ail tre fani owtdnieh oc tre yosdl yrnur yowdl efespe csof tre msevandnip uraoh ral doip beei obvnowh yrat knil oc meomde yowdl uoitsod trnh yosdl ral beei ejwaddg obvnowh tre iey asnhtousaug yah fale wm cos tre foht mast oc bwseawusath huneitnhth teurinunaih tsalewinoi ospainqesh mwbdnuntg exmesth hounodopnhth teauresh zowsiadnhth ail msocehhnoiad modntnunaih trehe meomde yrohe osnpnih dag ni tre hadasnel fnllde udahh ail tre wmmes psaleh oc tre yosknip udahh ral beei hramel ail bsowprt topetres bg tre bassei yosdl oc foiomodg nilwhtsg ail ueitsadnqel povesifeit ah uofmasel yntr trens ommohnte iwfbesh ni maht apeh treg yese dehh avasnunowh dehh tefmtel bg dwxwsg rwipsnes cos mwse moyes ail above add fose uoihunowh oc yrat treg yese lonip ail fose niteit oi uswhrnip ommohntnoi trnh daht lncceseiue yah uaslniad bg uofmasnhoi yntr trat exnhtnip tolag add tre tgsaiineh oc tre maht yese radcreastel ail nieccnuneit tre swdnip psowmh yese adyagh niceutel to hofe exteit bg dnbesad nleah ail yese uoiteit to deave doohe eilh evesgyrese to sepasl oidg tre ovest aut ail to be winitesehtel ni yrat trens hwbzeuth yese trniknip evei tre uatrodnu urwsur oc tre fnllde apeh yah todesait bg folesi htailaslh mast oc tre seahoi cos trnh yah trat ni tre maht io povesifeit ral tre moyes to keem nth untnqeih wiles uoihtait hwsvenddaiue tre niveitnoi oc msnit royeves fale nt eahnes to fainmwdate mwbdnu omninoi ail tre cndf ail tre salno uassnel tre msouehh cwstres yntr tre levedomfeit oc tedevnhnoi ail tre teurinuad alvaiue yrnur fale nt mohhnbde to seuenve ail tsaihfnt hnfwdtaieowhdg oi tre hafe nihtswfeit msnvate dnce uafe to ai eil evesg untnqei os at deaht evesg untnqei nfmostait eiowpr to be yostr yaturnip uowdl be kemt cos tyeitgcows rowsh a lag wiles tre egeh oc tre modnue ail ni tre howil oc occnunad msomapaila yntr add otres uraiiedh oc uoffwinuatnoi udohel tre mohhnbndntg oc eicosunip iot oidg uofmdete obelneiue to tre yndd oc tre htate bwt uofmdete wincosfntg oc omninoi oi add hwbzeuth ioy exnhtel cos tre cnsht tnfe  actes tre sevodwtnoiasg mesnol oc tre cnctneh ail hnxtneh hounetg sepsowmel nthedc ah adyagh nito rnpr fnllde ail doy bwt tre iey rnpr psowm widnke add nth coseswiiesh lnl iot aut wmoi nihtniut bwt kiey yrat yah ieelel to hacepwasl nth mohntnoi nt ral doip beei seadnqel trat tre oidg heuwse bahnh cos odnpasurg nh uoddeutnvnhf yeadtr ail msnvndepe ase foht eahndg leceilel yrei treg ase mohhehhel zonitdg tre houaddel abodntnoi oc msnvate msomestg yrnur took mdaue ni tre fnllde geash oc tre u'"
      ]
     },
     "execution_count": 12,
     "metadata": {},
     "output_type": "execute_result"
    }
   ],
   "source": [
    "mono_decrypt(encrypted_sampled_data, characters, inferred_key)"
   ]
  },
  {
   "cell_type": "markdown",
   "metadata": {},
   "source": [
    "We can see that some words are easily readable to the human eye. In fact, we have guessed quite a lot of information just by looking at the ciphertext and this is dangerous!. If the attacker keeps on gathering encrypted messages in between Alice and Bob, he'll gather a lot of information and eventually will be able to find the key."
   ]
  }
 ],
 "metadata": {
  "kernelspec": {
   "display_name": "Python 3",
   "language": "python",
   "name": "python3"
  },
  "language_info": {
   "codemirror_mode": {
    "name": "ipython",
    "version": 3
   },
   "file_extension": ".py",
   "mimetype": "text/x-python",
   "name": "python",
   "nbconvert_exporter": "python",
   "pygments_lexer": "ipython3",
   "version": "3.7.5"
  }
 },
 "nbformat": 4,
 "nbformat_minor": 2
}
