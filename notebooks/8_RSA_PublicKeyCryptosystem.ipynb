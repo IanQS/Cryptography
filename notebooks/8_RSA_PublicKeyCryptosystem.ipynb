{
 "cells": [
  {
   "cell_type": "markdown",
   "metadata": {},
   "source": [
    "# RSA Public Key Cryptosystem\n",
    "\n",
    "The [RSA](https://en.wikipedia.org/wiki/RSA_(cryptosystem)) is a asymmetric cryptosystem, just like ElGamal. Was invented in 1977 by Rivest, Shamir and Adleman and relies on the difficulty of factorizing large prime numbers.\n",
    "\n",
    "First Alice generates two large random primes *p* and *q* along with *N=pq*"
   ]
  },
  {
   "cell_type": "code",
   "execution_count": 1,
   "metadata": {},
   "outputs": [
    {
     "name": "stdout",
     "output_type": "stream",
     "text": [
      "Two large primes:\n",
      "p=58313\n",
      "q=44453\n",
      "N=pq=2592187789\n"
     ]
    }
   ],
   "source": [
    "from crypt import RandomPrime, xgcd, PrimesSieveEratosthenes, fastPowering\n",
    "\n",
    "bits = 16\n",
    "\n",
    "p = RandomPrime(bits, 40)\n",
    "q = RandomPrime(bits, 40)\n",
    "primes = list(PrimesSieveEratosthenes(1<<bits))\n",
    "\n",
    "while p==q:\n",
    "  q = RandomPrime(bits, 40)  \n",
    "N = p*q\n",
    "print(\"Two large primes:\\np={}\\nq={}\\nN=pq={}\".format(p, q, N))"
   ]
  },
  {
   "cell_type": "markdown",
   "metadata": {},
   "source": [
    "Then again Alice choose a number $e$ such that is coprime to the Carmichael function of N, this is $\\lambda(N)$. This is the same as the least common multiple of $p-1$ and $q-1$, \n",
    "\n",
    "$$\\lambda(N)=LCM(\\lambda(p), \\lambda(q))$$\n",
    "\n",
    "but since $p$ and $q$ are prime numbers, the Carmichael totient function  of $p$ and $q$ are, respectively $p-1$ and $q-1$. Therefore \n",
    "\n",
    "$$\\lambda(N)=LCM(p-1, q-1)$$\n",
    "\n",
    "Therefore $e$ has to be in the range of 2 and $\\lambda(N)$ and gcd between $e$ and $\\lambda(N)$ is 1, i.e. they factorise with different numbers.\n",
    "\n",
    "Let's begin by writing a function of the least common multiple"
   ]
  },
  {
   "cell_type": "code",
   "execution_count": 2,
   "metadata": {},
   "outputs": [],
   "source": [
    "def LCM(a, b):\n",
    "    g, _, _ = xgcd(a, b)\n",
    "    return a*b//g"
   ]
  },
  {
   "cell_type": "markdown",
   "metadata": {},
   "source": [
    "Now the full algorithm to generate $e$"
   ]
  },
  {
   "cell_type": "code",
   "execution_count": 3,
   "metadata": {},
   "outputs": [],
   "source": [
    "from random import randrange\n",
    "\n",
    "def RSA_choose_e(p, q):\n",
    "    # p and q must be different primes\n",
    "\n",
    "    lm = LCM(p-1, q-1)\n",
    "\n",
    "    while True:\n",
    "        e = randrange(2, lm)\n",
    "        g, _, _ = xgcd(e, lm)\n",
    "        if g==1:\n",
    "            return e\n"
   ]
  },
  {
   "cell_type": "code",
   "execution_count": 4,
   "metadata": {},
   "outputs": [
    {
     "name": "stdout",
     "output_type": "stream",
     "text": [
      "e=15397931\n"
     ]
    }
   ],
   "source": [
    "e = RSA_choose_e(p, q)\n",
    "print(\"e={}\".format(e))"
   ]
  },
  {
   "cell_type": "markdown",
   "metadata": {},
   "source": [
    "Alice sends *N* and *e* to Bob (the public key). Then bob can encrypt a message *m* and send it securely to Alice. "
   ]
  },
  {
   "cell_type": "code",
   "execution_count": 5,
   "metadata": {},
   "outputs": [
    {
     "name": "stdout",
     "output_type": "stream",
     "text": [
      "m=1234\n",
      "ciphertext of m is c=2116871445\n"
     ]
    }
   ],
   "source": [
    "m = 1234\n",
    "c = fastPowering(m, e, N)\n",
    "\n",
    "print(\"m={}\\nciphertext of m is c={}\".format(m, c))"
   ]
  },
  {
   "cell_type": "markdown",
   "metadata": {},
   "source": [
    "Alice receives the ciphertext *c* and decrypts it."
   ]
  },
  {
   "cell_type": "code",
   "execution_count": 6,
   "metadata": {},
   "outputs": [
    {
     "name": "stdout",
     "output_type": "stream",
     "text": [
      "Recovered message m=1234\n"
     ]
    }
   ],
   "source": [
    "from crypt import InverseMod\n",
    "\n",
    "d = InverseMod(e, (p-1)*(q-1))\n",
    "mp = fastPowering(c, d, N)\n",
    "\n",
    "print(\"Recovered message m={}\".format(mp))"
   ]
  },
  {
   "cell_type": "markdown",
   "metadata": {},
   "source": [
    "## A better implementation of RSA\n",
    "\n",
    "I've coded the same algorithm in a more compact way so key generation encryption and decryption is easier to implement in aplications."
   ]
  },
  {
   "cell_type": "code",
   "execution_count": 7,
   "metadata": {},
   "outputs": [
    {
     "name": "stdout",
     "output_type": "stream",
     "text": [
      "Public Key is (N, e)=(141437240279199282481413125071538008717, 7754970719310291013295796330747715243)\n",
      "Private Key is (N, d)=(141437240279199282481413125071538008717, 9090511355638364784677135903623826947)\n"
     ]
    }
   ],
   "source": [
    "from crypt import RSAKeyGenerator, RSAEncrypt, RSADecrypt\n",
    "\n",
    "bits = 64\n",
    "PublicKey, PrivateKey = RSAKeyGenerator(bits)\n",
    "\n",
    "print(f\"Public Key is (N, e)=({PublicKey[0]}, {PublicKey[1]})\")\n",
    "print(f\"Private Key is (N, d)=({PrivateKey[0]}, {PrivateKey[1]})\")"
   ]
  },
  {
   "cell_type": "code",
   "execution_count": 8,
   "metadata": {},
   "outputs": [
    {
     "name": "stdout",
     "output_type": "stream",
     "text": [
      "A random message to send: 12621084038085508916\n",
      "The encrypted ciphertext: 4628440639712269705731535002613312286\n",
      "The decrypted ciphertext i.e. the message is 12621084038085508916\n"
     ]
    }
   ],
   "source": [
    "message = randrange(2, 1<<bits)\n",
    "ciphertext = RSAEncrypt(message, PublicKey)\n",
    "decrypted_message = RSADecrypt(ciphertext, PrivateKey)\n",
    "\n",
    "print(f\"A random message to send: {message}\")\n",
    "print(f\"The encrypted ciphertext: {ciphertext}\")\n",
    "print(f\"The decrypted ciphertext i.e. the message is {decrypted_message}\")\n"
   ]
  },
  {
   "cell_type": "markdown",
   "metadata": {},
   "source": [
    "Try the above code with larger number of bits, e.g 128 or 256 to see that it works with larger prime numbers. The larger the prime number the better the securtity is"
   ]
  },
  {
   "cell_type": "code",
   "execution_count": null,
   "metadata": {},
   "outputs": [],
   "source": []
  }
 ],
 "metadata": {
  "kernelspec": {
   "display_name": "Python 3",
   "language": "python",
   "name": "python3"
  },
  "language_info": {
   "codemirror_mode": {
    "name": "ipython",
    "version": 3
   },
   "file_extension": ".py",
   "mimetype": "text/x-python",
   "name": "python",
   "nbconvert_exporter": "python",
   "pygments_lexer": "ipython3",
   "version": "3.7.5"
  }
 },
 "nbformat": 4,
 "nbformat_minor": 2
}
