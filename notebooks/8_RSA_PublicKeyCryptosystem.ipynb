{
 "cells": [
  {
   "cell_type": "markdown",
   "metadata": {},
   "source": [
    "# RSA Public Key Cryptosystem\n",
    "\n",
    "The [RSA](https://en.wikipedia.org/wiki/RSA_(cryptosystem)) is a asymmetric cryptosystem, just like ElGamal. Was invented in 1977 by Rivest, Shamir and Adleman and relies on the difficulty of factorizing large prime numbers.\n",
    "\n",
    "First Alice generates two large random primes *p* and *q* along with *N=pq*"
   ]
  },
  {
   "cell_type": "code",
   "execution_count": 1,
   "metadata": {},
   "outputs": [
    {
     "name": "stdout",
     "output_type": "stream",
     "text": [
      "Two large primes:\n",
      "p=42461\n",
      "q=41023\n",
      "N=pq=1741877603\n"
     ]
    }
   ],
   "source": [
    "from crypt import generateLargePrime, xgcd, fastPowering\n",
    "\n",
    "p = generateLargePrime(16, 40)\n",
    "q = generateLargePrime(16, 40)\n",
    "N = p*q\n",
    "print(\"Two large primes:\\np={}\\nq={}\\nN=pq={}\".format(p, q, N))"
   ]
  },
  {
   "cell_type": "markdown",
   "metadata": {},
   "source": [
    "Then again Alice choose a number *e* such that is coprime to *(p-1)(q-1)*"
   ]
  },
  {
   "cell_type": "code",
   "execution_count": 2,
   "metadata": {},
   "outputs": [],
   "source": [
    "from random import randrange\n",
    "\n",
    "def RSA_choose_e(p, q):\n",
    "    prime = max(p, q)\n",
    "    pq_ = (p-1)*(q-1)\n",
    "    \n",
    "    while True:\n",
    "        e = randrange(2, prime)\n",
    "        g, _, _ = xgcd(e, pq_)\n",
    "        if g==1:\n",
    "            return e"
   ]
  },
  {
   "cell_type": "code",
   "execution_count": 3,
   "metadata": {},
   "outputs": [
    {
     "name": "stdout",
     "output_type": "stream",
     "text": [
      "e=26087\n"
     ]
    }
   ],
   "source": [
    "e = RSA_choose_e(p, q)\n",
    "print(\"e={}\".format(e))"
   ]
  },
  {
   "cell_type": "markdown",
   "metadata": {},
   "source": [
    "Alice sends *N* and *e* to Bob (the public key). Then bob can encrypt a message *m* and send it securely to Alice. "
   ]
  },
  {
   "cell_type": "code",
   "execution_count": 4,
   "metadata": {},
   "outputs": [
    {
     "name": "stdout",
     "output_type": "stream",
     "text": [
      "m=1234\n",
      "ciphertext of m is c=547783636\n"
     ]
    }
   ],
   "source": [
    "m = 1234\n",
    "c = fastPowering(m, e, N)\n",
    "\n",
    "print(\"m={}\\nciphertext of m is c={}\".format(m, c))"
   ]
  },
  {
   "cell_type": "markdown",
   "metadata": {},
   "source": [
    "Alice receives the ciphertext *c* and decrypts it."
   ]
  },
  {
   "cell_type": "code",
   "execution_count": 5,
   "metadata": {},
   "outputs": [
    {
     "name": "stdout",
     "output_type": "stream",
     "text": [
      "Recovered message m=1234\n"
     ]
    }
   ],
   "source": [
    "from crypt import InverseMod\n",
    "\n",
    "d = InverseMod(e, (p-1)*(q-1))\n",
    "mp = fastPowering(c, d, N)\n",
    "\n",
    "print(\"Recovered message m={}\".format(mp))"
   ]
  },
  {
   "cell_type": "code",
   "execution_count": null,
   "metadata": {},
   "outputs": [],
   "source": []
  }
 ],
 "metadata": {
  "kernelspec": {
   "display_name": "Python 3",
   "language": "python",
   "name": "python3"
  },
  "language_info": {
   "codemirror_mode": {
    "name": "ipython",
    "version": 3
   },
   "file_extension": ".py",
   "mimetype": "text/x-python",
   "name": "python",
   "nbconvert_exporter": "python",
   "pygments_lexer": "ipython3",
   "version": "3.7.5"
  }
 },
 "nbformat": 4,
 "nbformat_minor": 2
}
