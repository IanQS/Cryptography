{
 "cells": [
  {
   "cell_type": "markdown",
   "metadata": {},
   "source": [
    "# El Gamal\n",
    "\n",
    "The first public key cryptosystem was the RSA (Rivest, Shamir and Adleman) published in 1978. Although RSA was published earlier, the most natural (academically speaking) study to follow after understanding the discrete logarithm problem is the one published by ElGamal in 1985. The algorithm described here works in $F_p$ but the construction works quite generally using the discrete logarithm problem in any group. It will be interesting and is explained in [An introduction to mathematical cryptography](https://www.springer.com/gp/book/9781441926746) how this concept can be applied in elliptic curves. Also in this book page 64 you can read more about the ElGamal cryptosystem."
   ]
  },
  {
   "cell_type": "code",
   "execution_count": 1,
   "metadata": {},
   "outputs": [],
   "source": [
    "from crypt import isPrime, RandomPrime, GeneratePrimeGeneratorPair, InverseFermat\n",
    "from random import randrange, seed"
   ]
  },
  {
   "cell_type": "markdown",
   "metadata": {},
   "source": [
    "First Alice and Bob agree on a public large prime $p$ and a generator $g$ of the group (ideally should be a generator because it can generate all numbers in the field but it would suffice an element with large order)"
   ]
  },
  {
   "cell_type": "code",
   "execution_count": 2,
   "metadata": {},
   "outputs": [
    {
     "name": "stdout",
     "output_type": "stream",
     "text": [
      "We choose a prime and a generator:\n",
      "p=61129\n",
      "g=26367\n"
     ]
    }
   ],
   "source": [
    "seed(1)\n",
    "\n",
    "bits = 16\n",
    "p, g = GeneratePrimeGeneratorPair(bits)\n",
    "print(f\"We choose a prime and a generator:\\np={p}\\ng={g}\")"
   ]
  },
  {
   "cell_type": "markdown",
   "metadata": {},
   "source": [
    "Alice chooses randomly a secret key which won't share with Bob"
   ]
  },
  {
   "cell_type": "code",
   "execution_count": 3,
   "metadata": {},
   "outputs": [
    {
     "name": "stdout",
     "output_type": "stream",
     "text": [
      "Secret Key is sk = 10620\n"
     ]
    }
   ],
   "source": [
    "sk = randrange(2, p-1)\n",
    "print(\"Secret Key is sk = {}\".format(sk))"
   ]
  },
  {
   "cell_type": "markdown",
   "metadata": {},
   "source": [
    "Alice calculates $A = g^{sk}$ mod (p) and sends $A$ to Bob"
   ]
  },
  {
   "cell_type": "code",
   "execution_count": 4,
   "metadata": {},
   "outputs": [
    {
     "name": "stdout",
     "output_type": "stream",
     "text": [
      "A = 58635\n"
     ]
    }
   ],
   "source": [
    "A = pow(g, sk, p)\n",
    "print(\"A = {}\".format(A))"
   ]
  },
  {
   "cell_type": "markdown",
   "metadata": {},
   "source": [
    "Now on Bob's side, say he wants to send a message $m=1234$ to Alice over an insecure comunication channel. He chooses a key $k$ (every time Bob wants to send a message, he has to referesh $k$). Then he uses Alice public key $A$ to calculate $c_1=g^k$(mod p) and $c_2=mA^k$(mod p) and sends ($c_1$, $c_2$) to Alice."
   ]
  },
  {
   "cell_type": "code",
   "execution_count": 5,
   "metadata": {},
   "outputs": [],
   "source": [
    "m = 1234 #the message I want to send\n",
    "k = randrange(2, p-1)\n",
    "\n",
    "c1 = pow(g, k, p)\n",
    "c2 = pow(A, k, p)*m %p"
   ]
  },
  {
   "cell_type": "code",
   "execution_count": 6,
   "metadata": {},
   "outputs": [
    {
     "name": "stdout",
     "output_type": "stream",
     "text": [
      "Values (c1, c2) = (47929,9630)\n"
     ]
    }
   ],
   "source": [
    "print(\"Values (c1, c2) = ({},{})\".format(c1, c2))"
   ]
  },
  {
   "cell_type": "markdown",
   "metadata": {},
   "source": [
    "Now Bob sends $c_1$ and $c_2$ to Alice that calculates the following to get back the original message:"
   ]
  },
  {
   "cell_type": "code",
   "execution_count": 7,
   "metadata": {},
   "outputs": [
    {
     "name": "stdout",
     "output_type": "stream",
     "text": [
      "The original message is 1234\n"
     ]
    }
   ],
   "source": [
    "x = InverseFermat(pow(c1, sk, p), p)\n",
    "m2 = (x * c2)%p\n",
    "\n",
    "print(\"The original message is {}\".format(m2))"
   ]
  },
  {
   "cell_type": "markdown",
   "metadata": {},
   "source": [
    "Let's recap: Bob can send messages encrypted that can only be decrypted with the secret key (owned by Alice and not shared). This means that if Charlie had the public key he couldn't decrypt the cyphertext sent by Bob (recall that we generate a random $k$ each time we send a message). This is great! But what if Alice wants to send private messages to Bob? then Bob can generate his own public-private key pair and do the same as Alice. Therefore each participant in the comunication has his public and private key and sends the public key to whomever he wants to receive encrypted messages from, then, another person can send him a public key so that he can send encrypted messages to him. \n",
    "\n",
    "Summing up, for a complete secure communication between two people each participant should generate a public-private key pair and share the public to the other person."
   ]
  },
  {
   "cell_type": "code",
   "execution_count": null,
   "metadata": {},
   "outputs": [],
   "source": []
  }
 ],
 "metadata": {
  "kernelspec": {
   "display_name": "Python 3",
   "language": "python",
   "name": "python3"
  },
  "language_info": {
   "codemirror_mode": {
    "name": "ipython",
    "version": 3
   },
   "file_extension": ".py",
   "mimetype": "text/x-python",
   "name": "python",
   "nbconvert_exporter": "python",
   "pygments_lexer": "ipython3",
   "version": "3.7.5"
  }
 },
 "nbformat": 4,
 "nbformat_minor": 4
}
