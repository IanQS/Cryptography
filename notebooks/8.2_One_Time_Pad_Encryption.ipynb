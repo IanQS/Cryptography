{
 "cells": [
  {
   "cell_type": "markdown",
   "metadata": {},
   "source": [
    "# One-time Pad Encryption\n",
    "\n",
    "This concept is explained in most of the crypto books at the beggining since it is perhaps the simplest and most powerful encryption scheme however is not practical... I will be very short in this tutorial but you can find more resources in the [MIT crypto class](https://www.youtube.com/watch?v=jDsfV2ohFPs&list=PL6ogFv-ieghe8MOIcpD6UDtdK-UMHG8oH) by Prof. Shafi Goldwasser and the books [Introduction to modern cryptography](https://www.crcpress.com/Introduction-to-Modern-Cryptography/Katz-Lindell/p/book/9781466570269) by Prof. Katz and Prof. [Lindell](https://u.cs.biu.ac.il/~lindell/)\n",
    "\n",
    "Let's set a situation in which Alice has to send Bob a message and there can be a man in the middle when Alice sends the ciphertext to Bob. The question is, how much information can a man in the middle gain from the ciphertext?\n",
    "\n",
    "Imagine that Alice and Bob meet physically once to agree on a n-bit secret key (i.e. when they share the secret key there's nobody that can read it)"
   ]
  },
  {
   "cell_type": "code",
   "execution_count": 19,
   "metadata": {},
   "outputs": [
    {
     "name": "stdout",
     "output_type": "stream",
     "text": [
      "The random secret key is 00101111001011011001000010100110\n",
      "and has lenght 32\n"
     ]
    }
   ],
   "source": [
    "from random import randint, seed \n",
    "\n",
    "seed(1)\n",
    "\n",
    "bits = 32\n",
    "base = 2\n",
    "\n",
    "secret_key = [randint(0,1) for _ in range(bits)]\n",
    "print(f\"The random secret key is {''.join(map(str, secret_key))}\")\n",
    "print(f\"and has lenght {len(secret_key)}\")"
   ]
  },
  {
   "cell_type": "markdown",
   "metadata": {},
   "source": [
    "Now imagine that Alice wants to send Bob a message (of the same lenght as the key) through a unsecure channel, we define the encryption and decryption as the XOR operation of the message or the ciphertext with the secret key."
   ]
  },
  {
   "cell_type": "code",
   "execution_count": 27,
   "metadata": {},
   "outputs": [
    {
     "name": "stdout",
     "output_type": "stream",
     "text": [
      "m = 00100001111110010001111110011010\n",
      "s = 00101111001011011001000010100110\n",
      "c = 00001110110101001000111100111100\n",
      "m = 00100001111110010001111110011010\n",
      "We've been able to reconstruct the message from the ciphertext\n"
     ]
    }
   ],
   "source": [
    "def encrypt(m, sk):\n",
    "    assert(len(m)==len(sk))\n",
    "    return [(x+y)%base for x, y in zip(m, sk)]\n",
    "\n",
    "def decrypt(c, sk):\n",
    "    assert(len(c)==len(sk))\n",
    "    return [(x+y)%base for x, y in zip(c, sk)]\n",
    "\n",
    "m = [randint(0,1) for _ in range(bits)]\n",
    "c = encrypt(m, secret_key)\n",
    "m2 = decrypt(c, secret_key)\n",
    "\n",
    "print(f\"m = {''.join(map(str, m))}\\ns = {''.join(map(str, secret_key))}\\nc = {''.join(map(str, c))}\\nm = {''.join(map(str, m2))}\")\n",
    "\n",
    "assert(m == m2)\n",
    "print(\"We've been able to reconstruct the message from the ciphertext\")"
   ]
  },
  {
   "cell_type": "markdown",
   "metadata": {},
   "source": [
    "Notice that the secret key is chosen initially completely at random (i.e. carries no information) and combined with the message (that contains the info) generates a completely random string $c$ therefore carrying no information. This fact makes that when a man in the middle reads $c$ he has no way to infer any information about the original message $m$. We've reached what is normally called in the books *perfect secrecy* (from the information theoretic perspective).\n",
    "\n",
    "Definition:\n",
    "A cryptosystem has perfect secrecy if $$P(m|c)=P(m)$$\n",
    "for all $m$ that is in the possible messages $M$ and all the ciphertext that are in the possible ciphertext $C$.\n",
    "Equivalently $$P(m|c)=P(m|c^\\prime),$$\n",
    "for all $c$ and $c^\\prime$ in the ciphertext corpus $C$.\n",
    "\n",
    "In the first equation it is expressed that the probability of a message given a ciphertext is independent of the ciphertext, in essense this is to say that no matter what is our ciphertext we have no clue to know anything about the message. In the second equation this is expressed in a different way, the probability of a certain message is the same no matter which ciphertext we observe, again this means the cyphertext contains no information about the original message.\n",
    "\n",
    "At this point you may think, that's the perfect cryptosystem, why don't we use it in a day to day cryptographyc aplications? Well, one time pad ony works once. After Alice has sent an encrypted ciphertext to Bob they have to meet again to agree on a new random secret key of n bits. The reason is that the attacker may know the probability distribution of the messages (for instance, if Alice and Bob send messages in english one can perform an attack similar to the Vigenere cryptosystem by counting the frequency of words in english). Therefore as the attacker keeps on getting many n-bit ciphertext he can combine the frequencies and eventually be able to find most of the secret key.\n",
    "\n",
    "The concept of *perfect secrecy* will be revisited in secure multiparty computation later on.\n",
    "\n",
    "For further details on *perfect secrecy*/*Shannon perfect secrecy* go to the first chapters in [Introduction to modern cryptography](https://www.crcpress.com/Introduction-to-Modern-Cryptography/Katz-Lindell/p/book/9781466570269)"
   ]
  }
 ],
 "metadata": {
  "kernelspec": {
   "display_name": "Python 3",
   "language": "python",
   "name": "python3"
  },
  "language_info": {
   "codemirror_mode": {
    "name": "ipython",
    "version": 3
   },
   "file_extension": ".py",
   "mimetype": "text/x-python",
   "name": "python",
   "nbconvert_exporter": "python",
   "pygments_lexer": "ipython3",
   "version": "3.7.5"
  }
 },
 "nbformat": 4,
 "nbformat_minor": 4
}
