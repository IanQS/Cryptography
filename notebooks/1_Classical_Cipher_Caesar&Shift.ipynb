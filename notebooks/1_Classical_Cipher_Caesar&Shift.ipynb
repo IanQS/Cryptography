{
 "cells": [
  {
   "cell_type": "markdown",
   "metadata": {},
   "source": [
    "# Classical Ciphers\n",
    "\n",
    "In this notebook series we'll demonstrate some classical cyphers (before the so called modern cryptography era) and how to break them.\n",
    "\n",
    "\n",
    "## Shift Cipher\n",
    "\n",
    "One of the oldest known ciphers is the Caesar's cipher. In this cipher we encrypt the alphabet by shifting 3 places the letters. We'll do it in general, say we have a value $k$ in betweek 0 and 24, this is our secret key, Alice and Bob have to know this secret before starting to comunicate. Notice that they have to meet physically to comunicate this secret otherwise some man in the middle could interecept the secret and compromise all communications.\n",
    "\n",
    "This is the equivalence between letters in the Caesar's cipher:\n"
   ]
  },
  {
   "cell_type": "code",
   "execution_count": 9,
   "metadata": {},
   "outputs": [
    {
     "name": "stdout",
     "output_type": "stream",
     "text": [
      "Plaintext characters are: \n",
      "\tabcdefghijklmnopqrstuvwxyz\n",
      "Caesar's equivalent is: \n",
      "\txyzabcdefghijklmnopqrstuvw\n"
     ]
    }
   ],
   "source": [
    "import string\n",
    "\n",
    "characters = string.ascii_lowercase\n",
    "\n",
    "def shift_by(characters, key):\n",
    "    listed_chars = list(characters)\n",
    "    return ''.join([characters[i - key] for i in range(len(characters))])\n",
    "    \n",
    "print(\"Plaintext characters are: \\n\\t{}\".format(characters))\n",
    "print(\"Caesar's equivalent is: \\n\\t{}\".format(shift_by(characters, 3)))"
   ]
  },
  {
   "cell_type": "markdown",
   "metadata": {},
   "source": [
    "So every timne Alice wants to send a message to Bob using Casear's cipher, she substitutes $a$ by $x$, $b$ by $y$ and so on... Easy right? Let's write two functions to encrypt and decript no matter what our secret key $k$ is"
   ]
  },
  {
   "cell_type": "code",
   "execution_count": 5,
   "metadata": {},
   "outputs": [],
   "source": [
    "def shift_encrypt(plaintext, characters, k):\n",
    "    shifted = shift_by(characters, k)\n",
    "    \n",
    "    convert_dict = {}\n",
    "    for p, c in zip(characters, shifted):\n",
    "        convert_dict[p] = c    \n",
    "    convert_dict[' '] = ' '\n",
    "    \n",
    "    c = ''\n",
    "    for p in plaintext:\n",
    "        c += convert_dict[p]\n",
    "        \n",
    "    return c\n",
    "    \n",
    "    \n",
    "def shift_decrypt(ciphertext, characters, k):\n",
    "    shifted = shift_by(characters, k)\n",
    "    \n",
    "    convert_dict = {}\n",
    "    for p, c in zip(characters, shifted):\n",
    "        convert_dict[c] = p\n",
    "    convert_dict[' '] = ' '\n",
    "    \n",
    "    p = ''\n",
    "    for c in ciphertext:\n",
    "        p += convert_dict[c]\n",
    "\n",
    "    return p"
   ]
  },
  {
   "cell_type": "markdown",
   "metadata": {},
   "source": [
    "And take the first sentence from 1984 book by George Orwell to see how we would encrypt and decrypt having a secret key of $k=4$"
   ]
  },
  {
   "cell_type": "code",
   "execution_count": 6,
   "metadata": {},
   "outputs": [
    {
     "name": "stdout",
     "output_type": "stream",
     "text": [
      "THE SENTENCE:\n",
      "\n",
      "it was a bright cold day in april and the clocks were striking thirteen winston smith his chin nuzzled into his breast in an effort to escape the vile wind slipped quickly through the glass doors of victory mansions though not quickly enough to prevent a swirl of gritty dust from entering along with him\n",
      "\n",
      "CIPHERTEXT:\n",
      "\n",
      "ep swo w xnecdp ykhz zwu ej wlneh wjz pda yhkygo sana opnegejc pdenpaaj sejopkj oiepd deo ydej jqvvhaz ejpk deo xnawop ej wj abbknp pk aoywla pda reha sejz ohellaz mqeyghu pdnkqcd pda chwoo zkkno kb reypknu iwjoekjo pdkqcd jkp mqeyghu ajkqcd pk lnarajp w osenh kb cneppu zqop bnki ajpanejc whkjc sepd dei\n",
      "\n",
      "PLAINTEXT:\n",
      "\n",
      "it was a bright cold day in april and the clocks were striking thirteen winston smith his chin nuzzled into his breast in an effort to escape the vile wind slipped quickly through the glass doors of victory mansions though not quickly enough to prevent a swirl of gritty dust from entering along with him\n"
     ]
    }
   ],
   "source": [
    "sentence = 'it was a bright cold day in april and the clocks were striking thirteen winston smith his chin nuzzled into his breast in an effort to escape the vile wind slipped quickly through the glass doors of victory mansions though not quickly enough to prevent a swirl of gritty dust from entering along with him'\n",
    "k = 4\n",
    "ciphertext = shift_encrypt(sentence, characters, k)\n",
    "plaintext = shift_decrypt(ciphertext, characters, k)\n",
    "print(\"THE SENTENCE:\\n\\n{}\\n\\nCIPHERTEXT:\\n\\n{}\\n\\nPLAINTEXT:\\n\\n{}\".format(sentence, ciphertext, plaintext))"
   ]
  },
  {
   "cell_type": "markdown",
   "metadata": {},
   "source": [
    "Now we may wonder, for an attacker not knowing the key but intercepting the ciphertext, is it easy to decript the text? Well, it is trivial, he/she has to try all possible keys (just 26) and check which text makes sense. Let's try this"
   ]
  },
  {
   "cell_type": "code",
   "execution_count": 7,
   "metadata": {},
   "outputs": [
    {
     "name": "stdout",
     "output_type": "stream",
     "text": [
      "it was a bright cold day in april and the clocks were striking thirteen winston smith his chin nuzzled into his breast in an effort to escape the vile wind slipped quickly through the glass doors of victory mansions though not quickly enough to prevent a swirl of gritty dust from entering along with him\n"
     ]
    }
   ],
   "source": [
    "print(shift_encrypt(sentence, characters, 26))"
   ]
  },
  {
   "cell_type": "code",
   "execution_count": 8,
   "metadata": {},
   "outputs": [
    {
     "name": "stdout",
     "output_type": "stream",
     "text": [
      "k = 0\n",
      "yj mqi q rhywxj sebt tqo yd qfhyb qdt jxu sbesai muhu ijhyaydw jxyhjuud mydijed icyjx xyi sxyd dkppbut ydje xyi rhuqij yd qd uvvehj je uisqfu jxu lybu mydt ibyffut gkysabo jxhekwx jxu wbqii teehi ev lysjeho cqdiyedi jxekwx dej gkysabo udekwx je fhuludj q imyhb ev whyjjo tkij vhec udjuhydw qbedw myjx xyc\n",
      "k = 1\n",
      "zk nrj r sizxyk tfcu urp ze rgizc reu kyv tcftbj nviv jkizbzex kyzikvve nzejkfe jdzky yzj tyze elqqcvu zekf yzj sivrjk ze re vwwfik kf vjtrgv kyv mzcv nzeu jczggvu hlztbcp kyiflxy kyv xcrjj uffij fw mztkfip drejzfej kyflxy efk hlztbcp veflxy kf givmvek r jnzic fw xizkkp uljk wifd vekvizex rcfex nzky yzd\n",
      "k = 2\n",
      "al osk s tjayzl ugdv vsq af shjad sfv lzw udguck owjw kljacafy lzajlwwf oafklgf kealz zak uzaf fmrrdwv aflg zak tjwskl af sf wxxgjl lg wkushw lzw nadw oafv kdahhwv imaucdq lzjgmyz lzw ydskk vggjk gx naulgjq esfkagfk lzgmyz fgl imaucdq wfgmyz lg hjwnwfl s koajd gx yjallq vmkl xjge wflwjafy sdgfy oalz zae\n",
      "k = 3\n",
      "bm ptl t ukbzam vhew wtr bg tikbe tgw max vehvdl pxkx lmkbdbgz mabkmxxg pbglmhg lfbma abl vabg gnssexw bgmh abl ukxtlm bg tg xyyhkm mh xlvtix max obex pbgw lebiixw jnbvder makhnza max zetll whhkl hy obvmhkr ftglbhgl mahnza ghm jnbvder xghnza mh ikxoxgm t lpbke hy zkbmmr wnlm ykhf xgmxkbgz tehgz pbma abf\n",
      "k = 4\n",
      "cn qum u vlcabn wifx xus ch ujlcf uhx nby wfiwem qyly mnlcecha nbclnyyh qchmnih mgcnb bcm wbch hottfyx chni bcm vlyumn ch uh yzziln ni ymwujy nby pcfy qchx mfcjjyx kocwefs nblioab nby afumm xiilm iz pcwnils guhmcihm nbioab hin kocwefs yhioab ni jlypyhn u mqclf iz alcnns xomn zlig yhnylcha ufiha qcnb bcg\n",
      "k = 5\n",
      "do rvn v wmdbco xjgy yvt di vkmdg viy ocz xgjxfn rzmz nomdfdib ocdmozzi rdinoji nhdoc cdn xcdi ipuugzy dioj cdn wmzvno di vi zaajmo oj znxvkz ocz qdgz rdiy ngdkkzy lpdxfgt ocmjpbc ocz bgvnn yjjmn ja qdxojmt hvindjin ocjpbc ijo lpdxfgt zijpbc oj kmzqzio v nrdmg ja bmdoot ypno amjh ziozmdib vgjib rdoc cdh\n",
      "k = 6\n",
      "ep swo w xnecdp ykhz zwu ej wlneh wjz pda yhkygo sana opnegejc pdenpaaj sejopkj oiepd deo ydej jqvvhaz ejpk deo xnawop ej wj abbknp pk aoywla pda reha sejz ohellaz mqeyghu pdnkqcd pda chwoo zkkno kb reypknu iwjoekjo pdkqcd jkp mqeyghu ajkqcd pk lnarajp w osenh kb cneppu zqop bnki ajpanejc whkjc sepd dei\n",
      "k = 7\n",
      "fq txp x yofdeq zlia axv fk xmofi xka qeb zilzhp tbob pqofhfkd qefoqbbk tfkpqlk pjfqe efp zefk krwwiba fkql efp yobxpq fk xk bccloq ql bpzxmb qeb sfib tfka pifmmba nrfzhiv qeolrde qeb dixpp allop lc sfzqlov jxkpflkp qelrde klq nrfzhiv bklrde ql mobsbkq x ptfoi lc dofqqv arpq colj bkqbofkd xilkd tfqe efj\n",
      "k = 8\n",
      "gr uyq y zpgefr amjb byw gl ynpgj ylb rfc ajmaiq ucpc qrpgigle rfgprccl uglqrml qkgrf fgq afgl lsxxjcb glrm fgq zpcyqr gl yl cddmpr rm cqaync rfc tgjc uglb qjgnncb osgaijw rfpmsef rfc ejyqq bmmpq md tgarmpw kylqgmlq rfmsef lmr osgaijw clmsef rm npctclr y qugpj md epgrrw bsqr dpmk clrcpgle yjmle ugrf fgk\n",
      "k = 9\n",
      "hs vzr z aqhfgs bnkc czx hm zoqhk zmc sgd bknbjr vdqd rsqhjhmf sghqsddm vhmrsnm rlhsg ghr bghm mtyykdc hmsn ghr aqdzrs hm zm deenqs sn drbzod sgd uhkd vhmc rkhoodc pthbjkx sgqntfg sgd fkzrr cnnqr ne uhbsnqx lzmrhnmr sgntfg mns pthbjkx dmntfg sn oqdudms z rvhqk ne fqhssx ctrs eqnl dmsdqhmf zknmf vhsg ghl\n",
      "k = 10\n",
      "it was a bright cold day in april and the clocks were striking thirteen winston smith his chin nuzzled into his breast in an effort to escape the vile wind slipped quickly through the glass doors of victory mansions though not quickly enough to prevent a swirl of gritty dust from entering along with him\n",
      "k = 11\n",
      "ju xbt b csjhiu dpme ebz jo bqsjm boe uif dmpdlt xfsf tusjljoh uijsuffo xjotupo tnjui ijt dijo ovaamfe joup ijt csfbtu jo bo fggpsu up ftdbqf uif wjmf xjoe tmjqqfe rvjdlmz uispvhi uif hmbtt eppst pg wjdupsz nbotjpot uipvhi opu rvjdlmz fopvhi up qsfwfou b txjsm pg hsjuuz evtu gspn foufsjoh bmpoh xjui ijn\n",
      "k = 12\n",
      "kv ycu c dtkijv eqnf fca kp crtkn cpf vjg enqemu ygtg uvtkmkpi vjktvggp ykpuvqp uokvj jku ejkp pwbbngf kpvq jku dtgcuv kp cp ghhqtv vq guecrg vjg xkng ykpf unkrrgf swkemna vjtqwij vjg incuu fqqtu qh xkevqta ocpukqpu vjqwij pqv swkemna gpqwij vq rtgxgpv c uyktn qh itkvva fwuv htqo gpvgtkpi cnqpi ykvj jko\n",
      "k = 13\n",
      "lw zdv d euljkw frog gdb lq dsulo dqg wkh forfnv zhuh vwulnlqj wkluwhhq zlqvwrq vplwk klv fklq qxccohg lqwr klv euhdvw lq dq hiiruw wr hvfdsh wkh yloh zlqg volsshg txlfnob wkurxjk wkh jodvv grruv ri ylfwrub pdqvlrqv wkrxjk qrw txlfnob hqrxjk wr suhyhqw d vzluo ri julwwb gxvw iurp hqwhulqj dorqj zlwk klp\n",
      "k = 14\n",
      "mx aew e fvmklx gsph hec mr etvmp erh xli gpsgow aivi wxvmomrk xlmvxiir amrwxsr wqmxl lmw glmr ryddpih mrxs lmw fviewx mr er ijjsvx xs iwgeti xli zmpi amrh wpmttih uymgopc xlvsykl xli kpeww hssvw sj zmgxsvc qerwmsrw xlsykl rsx uymgopc irsykl xs tvizirx e wamvp sj kvmxxc hywx jvsq irxivmrk epsrk amxl lmq\n",
      "k = 15\n",
      "ny bfx f gwnlmy htqi ifd ns fuwnq fsi ymj hqthpx bjwj xywnpnsl ymnwyjjs bnsxyts xrnym mnx hmns szeeqji nsyt mnx gwjfxy ns fs jkktwy yt jxhfuj ymj anqj bnsi xqnuuji vznhpqd ymwtzlm ymj lqfxx ittwx tk anhytwd rfsxntsx ymtzlm sty vznhpqd jstzlm yt uwjajsy f xbnwq tk lwnyyd izxy kwtr jsyjwnsl fqtsl bnym mnr\n",
      "k = 16\n",
      "oz cgy g hxomnz iurj jge ot gvxor gtj znk iruiqy ckxk yzxoqotm znoxzkkt cotyzut ysozn noy inot taffrkj otzu noy hxkgyz ot gt klluxz zu kyigvk znk bork cotj yrovvkj waoiqre znxuamn znk mrgyy juuxy ul boizuxe sgtyouty znuamn tuz waoiqre ktuamn zu vxkbktz g ycoxr ul mxozze jayz lxus ktzkxotm grutm cozn nos\n",
      "k = 17\n",
      "pa dhz h iypnoa jvsk khf pu hwyps huk aol jsvjrz dlyl zayprpun aopyallu dpuzavu ztpao opz jopu ubggslk puav opz iylhza pu hu lmmvya av lzjhwl aol cpsl dpuk zspwwlk xbpjrsf aoyvbno aol nshzz kvvyz vm cpjavyf thuzpvuz aovbno uva xbpjrsf luvbno av wylclua h zdpys vm nypaaf kbza myvt lualypun hsvun dpao opt\n",
      "k = 18\n",
      "qb eia i jzqopb kwtl lig qv ixzqt ivl bpm ktwksa emzm abzqsqvo bpqzbmmv eqvabwv auqbp pqa kpqv vchhtml qvbw pqa jzmiab qv iv mnnwzb bw makixm bpm dqtm eqvl atqxxml ycqkstg bpzwcop bpm otiaa lwwza wn dqkbwzg uivaqwva bpwcop vwb ycqkstg mvwcop bw xzmdmvb i aeqzt wn ozqbbg lcab nzwu mvbmzqvo itwvo eqbp pqu\n",
      "k = 19\n",
      "rc fjb j karpqc lxum mjh rw jyaru jwm cqn luxltb fnan bcartrwp cqracnnw frwbcxw bvrcq qrb lqrw wdiiunm rwcx qrb kanjbc rw jw nooxac cx nbljyn cqn erun frwm buryynm zdrltuh cqaxdpq cqn pujbb mxxab xo erlcxah vjwbrxwb cqxdpq wxc zdrltuh nwxdpq cx yanenwc j bfrau xo parcch mdbc oaxv nwcnarwp juxwp frcq qrv\n",
      "k = 20\n",
      "sd gkc k lbsqrd myvn nki sx kzbsv kxn dro mvymuc gobo cdbsusxq drsbdoox gsxcdyx cwsdr rsc mrsx xejjvon sxdy rsc lbokcd sx kx oppybd dy ocmkzo dro fsvo gsxn cvszzon aesmuvi drbyeqr dro qvkcc nyybc yp fsmdybi wkxcsyxc dryeqr xyd aesmuvi oxyeqr dy zbofoxd k cgsbv yp qbsddi necd pbyw oxdobsxq kvyxq gsdr rsw\n",
      "k = 21\n",
      "te hld l mctrse nzwo olj ty lactw lyo esp nwznvd hpcp dectvtyr estceppy htydezy dxtes std nsty yfkkwpo tyez std mcplde ty ly pqqzce ez pdnlap esp gtwp htyo dwtaapo bftnvwj esczfrs esp rwldd ozzcd zq gtnezcj xlydtzyd eszfrs yze bftnvwj pyzfrs ez acpgpye l dhtcw zq rcteej ofde qczx pyepctyr lwzyr htes stx\n",
      "k = 22\n",
      "uf ime m ndustf oaxp pmk uz mbdux mzp ftq oxaowe iqdq efduwuzs ftudfqqz iuzefaz eyuft tue otuz zgllxqp uzfa tue ndqmef uz mz qrradf fa qeombq ftq huxq iuzp exubbqp cguowxk ftdagst ftq sxmee paade ar huofadk ymzeuaze ftagst zaf cguowxk qzagst fa bdqhqzf m eiudx ar sduffk pgef rday qzfqduzs mxazs iuft tuy\n",
      "k = 23\n",
      "vg jnf n oevtug pbyq qnl va ncevy naq gur pybpxf jrer fgevxvat guvegrra jvafgba fzvgu uvf puva ahmmyrq vagb uvf oernfg va na rssbeg gb rfpncr gur ivyr jvaq fyvccrq dhvpxyl guebhtu gur tynff qbbef bs ivpgbel znafvbaf gubhtu abg dhvpxyl rabhtu gb cerirag n fjvey bs tevggl qhfg sebz ragrevat nybat jvgu uvz\n",
      "k = 24\n",
      "wh kog o pfwuvh qczr rom wb odfwz obr hvs qzcqyg ksfs ghfwywbu hvwfhssb kwbghcb gawhv vwg qvwb binnzsr wbhc vwg pfsogh wb ob sttcfh hc sgqods hvs jwzs kwbr gzwddsr eiwqyzm hvfciuv hvs uzogg rccfg ct jwqhcfm aobgwcbg hvciuv bch eiwqyzm sbciuv hc dfsjsbh o gkwfz ct ufwhhm righ tfca sbhsfwbu ozcbu kwhv vwa\n",
      "k = 25\n",
      "xi lph p qgxvwi rdas spn xc pegxa pcs iwt radrzh ltgt higxzxcv iwxgittc lxchidc hbxiw wxh rwxc cjooats xcid wxh qgtphi xc pc tuudgi id thrpet iwt kxat lxcs haxeets fjxrzan iwgdjvw iwt vaphh sddgh du kxridgn bpchxdch iwdjvw cdi fjxrzan tcdjvw id egtktci p hlxga du vgxiin sjhi ugdb tcitgxcv padcv lxiw wxb\n"
     ]
    }
   ],
   "source": [
    "k = 10 #this is unknown for the attaker\n",
    "ciphertext = shift_encrypt(sentence, characters, k)\n",
    "\n",
    "for key_trial in range(len(characters)): \n",
    "    print('k = {}\\n{}'.format(key_trial, shift_decrypt(ciphertext, characters, key_trial)))"
   ]
  },
  {
   "cell_type": "markdown",
   "metadata": {},
   "source": [
    "It is super easy to identify that the secret key $k$ is 10. The problem is that the secret key space is way too small. This brings us to a necessity that all crypto-systems must accomplish for it to be secure: The key space must be large enough so that the attacker cannot do an exhaustive search.\n",
    "\n",
    "In the next notebook we will see another technique to overcome this small key space but spoiler... Won't be safe too"
   ]
  }
 ],
 "metadata": {
  "kernelspec": {
   "display_name": "crypto",
   "language": "python",
   "name": "crypto"
  },
  "language_info": {
   "codemirror_mode": {
    "name": "ipython",
    "version": 3
   },
   "file_extension": ".py",
   "mimetype": "text/x-python",
   "name": "python",
   "nbconvert_exporter": "python",
   "pygments_lexer": "ipython3",
   "version": "3.7.3"
  }
 },
 "nbformat": 4,
 "nbformat_minor": 2
}
