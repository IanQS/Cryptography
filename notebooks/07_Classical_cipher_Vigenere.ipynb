{
 "cells": [
  {
   "cell_type": "markdown",
   "metadata": {},
   "source": [
    "## Vigenère Cipher\n",
    "\n",
    "In our quest for unbreakeable encryption schemes we've tried the shift and the mono alphabetical so far. We've showed that it was easy to break them. Both of the encryption schemes encrypted the same ciphertext for every letter, say, plaintext $e$ will be substituted by $x$ for instance. In the Vigenere cipher a letter in plaintext can be encrypted to several different letters in the ciphertext. This makes the scheme more difficult to crack.\n",
    "\n",
    "In Vigenere cipher the lenght of the key is arbitrary and indicates the permutation of the text. In the following table I show a simple example: \n",
    "\n",
    "\n",
    "|  Variable  |      Value      |\n",
    "|:----------:|:---------------:|\n",
    "| Plaintext  | ddddddddddddddd |\n",
    "| Key        | abc             |\n",
    "| Ciphertext | defdefdefdefdef |\n",
    "\n",
    "Here our plaintext is $ddddddddddddddd$ and we encrypt it using the key $abc$ of lenght 3. It is easy to see how it works. The first letter of the plaintext is shifted $a$ (shift of 0), the second shifted $b$ (shift of 1 position) and the third one by $c$ (shift of 3 positions). Therefore $$ d \\rightarrow d $$ $$ d \\rightarrow e $$ $$ d \\rightarrow f $$ \n",
    "\n",
    "Another more difficult example is the following:\n",
    "\n",
    "|  Variable  |            Value            |\n",
    "|:----------:|:---------------------------:|\n",
    "| Plaintext  | criptographyisacoolsubject  |\n",
    "| Key        | esz                         |\n",
    "| Ciphertext | gjhtlnkjztzxmkzggnpktfbdgl  |\n",
    "\n",
    "We've chosen as key a random chain of size 3, this is $esz$. Again, $c$ is shifted $e$ (4 positions), $r$ shifted $j$ (9 positions) and $i$ shifted by $h$ (7 positions). Then, the next character $p$ is shifted by the first letter of the key $e$, this results $t$.\n",
    "\n",
    "Let's code the Vigenere cipher\n"
   ]
  },
  {
   "cell_type": "code",
   "execution_count": 1,
   "metadata": {},
   "outputs": [
    {
     "name": "stdout",
     "output_type": "stream",
     "text": [
      "THE KEY: \n",
      "esz\n",
      "\n",
      "THE SENTENCE:\n",
      "criptographyisacoolsubject\n",
      "\n",
      "CIPHERTEXT:\n",
      "gjhtlnkjztzxmkzggnpktfbdgl\n",
      "\n",
      "PLAINTEXT:\n",
      "criptographyisacoolsubject\n"
     ]
    }
   ],
   "source": [
    "from random import randint, seed\n",
    "from copy import deepcopy\n",
    "import string\n",
    "\n",
    "seed(1) #fix seed so that we can reproduce the results\n",
    "\n",
    "characters = string.ascii_lowercase\n",
    "char_to_num = {c:i for i, c in enumerate(characters)}\n",
    "num_to_char = {i:c for i, c in enumerate(characters)}\n",
    "\n",
    "def VigenereKeyGenerator(characters, lenght = 5):\n",
    "    \"\"\"Generates a key of fixed lenght\n",
    "    \"\"\"\n",
    "    old_chars = list(deepcopy(characters))\n",
    "    key = []\n",
    "    \n",
    "    while len(key)<lenght:\n",
    "        elem = old_chars[randint(0,len(old_chars)-1)]\n",
    "        key.append(elem)\n",
    "    return ''.join(key)\n",
    "\n",
    "def ShiftLetter(letter, shiftby, forward=True):\n",
    "    \"\"\"Shift a letter a certain ammount of spaces\n",
    "    letter: an element from string.ascii_lowercase\n",
    "    shiftby: a letter from string.asccii_lowercase indicating th ammount of shift\n",
    "    \"\"\"\n",
    "    \n",
    "    listed_chars = list(characters)\n",
    "    if letter == ' ':\n",
    "        return letter\n",
    "    \n",
    "    shift = char_to_num[shiftby]\n",
    "    i = char_to_num[letter]\n",
    "    \n",
    "    if forward:\n",
    "        return listed_chars[(i + shift)%len(characters)]\n",
    "    else:\n",
    "        return listed_chars[(i - shift)%len(characters)]\n",
    "\n",
    "\n",
    "def VigenereEncryptDecrypt(text, characters, key, encrypt = True):\n",
    "    count = 0\n",
    "    key_len = len(key)\n",
    "    list_key = list(key)\n",
    "    \n",
    "    text2 = ''\n",
    "    for letter in text:\n",
    "        c = ShiftLetter(letter, key[count%key_len],forward=encrypt)\n",
    "        text2 += c\n",
    "        count+=1\n",
    "        \n",
    "    return text2\n",
    "\n",
    "# generate key\n",
    "key = VigenereKeyGenerator(characters, 3)\n",
    "\n",
    "# encrypt a text\n",
    "sentence = 'criptographyisacoolsubject'\n",
    "ciphertext = VigenereEncryptDecrypt(sentence, characters, key = key)\n",
    "plaintext = VigenereEncryptDecrypt(ciphertext, characters, key, encrypt=False)\n",
    "\n",
    "print(\"THE KEY: \\n{}\\n\\nTHE SENTENCE:\\n{}\\n\\nCIPHERTEXT:\\n{}\\n\\nPLAINTEXT:\\n{}\".format(key,sentence,\n",
    "                                                                                       ciphertext, plaintext))\n"
   ]
  },
  {
   "cell_type": "markdown",
   "metadata": {},
   "source": [
    "Obviously the larger the key is, the more difficult it is to decrypt since the space of the keys increases as $26^n$ where $n$ is the lenght of the key. For instance, let's generate a $n=100$ lenght key."
   ]
  },
  {
   "cell_type": "code",
   "execution_count": 2,
   "metadata": {},
   "outputs": [
    {
     "data": {
      "text/plain": [
       "'ycidpyopumzgdpamntyyawoixzhsdkaaauramvgnxaqhyoprhlhvhyojanrudfuxjdxkxwqnqvgjjspqmsbphxzmnvflrwyvxlco'"
      ]
     },
     "execution_count": 2,
     "metadata": {},
     "output_type": "execute_result"
    }
   ],
   "source": [
    "VigenereKeyGenerator(characters, 100)"
   ]
  },
  {
   "cell_type": "markdown",
   "metadata": {},
   "source": [
    "It is possible to attack this encryption method if we know the lenght of the key $n$. As in the mono alphabetic encryption we can use the english letters frequency. Let's try it out"
   ]
  },
  {
   "cell_type": "code",
   "execution_count": 3,
   "metadata": {},
   "outputs": [],
   "source": [
    "def count_char_freqs(text, characters = string.ascii_lowercase):\n",
    "    freqs = {}\n",
    "    for letter in characters:\n",
    "        f = text.count(letter)\n",
    "        freqs[letter] = f\n",
    "    return freqs"
   ]
  },
  {
   "cell_type": "markdown",
   "metadata": {},
   "source": [
    "We download the book 1984 from Orwell and count the characters."
   ]
  },
  {
   "cell_type": "code",
   "execution_count": 4,
   "metadata": {},
   "outputs": [],
   "source": [
    "from utils import download_data, process_load_textfile\n",
    "import string\n",
    "import os\n",
    "\n",
    "url = 'http://gutenberg.net.au/ebooks01/0100021.txt'\n",
    "filename = 'Nineteen-eighty-four_Orwell.txt'\n",
    "download_path = '/'.join(os.getcwd().split('/')[:-1]) + '/data/'\n",
    "\n",
    "#download data to specified path\n",
    "download_data(url, filename, download_path)\n",
    "#load data and process\n",
    "data = process_load_textfile(filename, download_path)\n",
    "\n",
    "#count letters frequency\n",
    "english_frequencies = count_char_freqs(data)"
   ]
  },
  {
   "cell_type": "markdown",
   "metadata": {},
   "source": [
    "As before, we consider a random message from the book 1984 to send as a message. The attacker can only see the ciphertext from the message and knows the lenght of the key."
   ]
  },
  {
   "cell_type": "code",
   "execution_count": 5,
   "metadata": {},
   "outputs": [
    {
     "name": "stdout",
     "output_type": "stream",
     "text": [
      "We sample a chunk of 28471 characters from the book starting at position 533123\n",
      "Using the private key k = esz\n",
      "\n",
      "\n",
      "Sampled Plaintext:\n",
      "ny longer  no he said you dont feel the same  there did not seem to be anything more to say the wind plastered their thin overalls against their bodies almost at once it became embarrassing to sit there in silence besides it was too cold to keep still she said something about catching her tube and stood up to go  we must meet again he said  yes she said we must meet again  he followed irresolutely for a little distance half a pace behind her they did not speak again she did not actually try to shake him off but walked at just such a speed as to prevent his keeping abreast of her he had made up his mind that he would accompany her as far as the tube station but suddenly this process of trailing along in the cold seemed pointless and unbearable he was overwhelmed by a desire not so much to get away from julia as to get back to the chestnut tree cafe which had never seemed so attractive as at this moment he had a nostalgic vision of his corner table with the newspaper and the chessboard and the everflowing gin above all it would be warm in there the next moment not altogether by accident he allowed himself to become separated from her by a small knot of people he made a halfhearted attempt to catch up then slowed down turned and made off in the opposite direction when he had gone fifty metres he looked back the street was not crowded but already he could not distinguish her any one of a dozen hurrying figures might have been hers perhaps her thickened stiffened body was no longer recognizable from behind  at the time when it happens she had said you do mean it he had meant it he had not merely said it he had wished it he had wished that she and not he should be delivered over to the  something changed in the music that trickled from the telescreen a cracked and jeering note a yellow note came into it and thenperhaps it was not happening perhaps it was only a memory taking on the semblance of sounda voice was singing     under the spreading chestnut tree   i sold you and you sold me   the tears welled up in his eyes a passing waiter noticed that his glass was empty and came back with the gin bottle  he took up his glass and sniffed at it the stuff grew not less but more horrible with every mouthful he drank but it had become the element he swam in it was his life his death and his resurrection it was gin that sank him into stupor every night and gin that revived him every morning when he woke seldom before eleven hundred with gummedup eyelids and fiery mouth and a back that seemed to be broken it would have been impossible even to rise from the horizontal if it had not been for the bottle and teacup placed beside the bed overnight through the midday hours he sat with glazed face the bottle handy listening to the telescreen from fifteen to closingtime he was a fixture in the chestnut tree no one cared what he did any longer no whistle woke him no telescreen admonished him occasionally perhaps twice a week he went to a dusty forgottenlooking office in the ministry of truth and did a little work or what was called work he had been appointed to a subcommittee of a subcommittee which had sprouted from one of the innumerable committees dealing with minor difficulties that arose in the compilation of the eleventh edition of the newspeak dictionary they were engaged in producing something called an interim report but what it was that they were reporting on he had never definitely found out it was something to do with the question of whether commas should be placed inside brackets or outside there were four others on the committee all of them persons similar to himself there were days when they assembled and then promptly dispersed again frankly admitting to one another that there was not really anything to be done but there were other days when they settled down to their work almost eagerly making a tremendous show of entering up their minutes and drafting long memoranda which were never finishedwhen the argument as to what they were supposedly arguing about grew extraordinarily involved and abstruse with subtle haggling over definitions enormous digressions quarrelsthreats even to appeal to higher authority and then suddenly the life would go out of them and they would sit round the table looking at one another with extinct eyes like ghosts fading at cockcrow  the telescreen was silent for a moment winston raised his head again the bulletin but no they were merely changing the music he had the map of africa behind his eyelids the movement of the armies was a diagram a black arrow tearing vertically southward and a white arrow horizontally eastward across the tail of the first as though for reassurance he looked up at the imperturbable face in the portrait was it conceivable that the second arrow did not even exist  his interest flagged again he drank another mouthful of gin picked up the white knight and made a tentative move check but it was evidently not the right move because  uncalled a memory floated into his mind he saw a candlelit room with a vast whitecounterpaned bed and himself a boy of nine or ten sitting on the floor shaking a dicebox and laughing excitedly his mother was sitting opposite him and also laughing  it must have been about a month before she disappeared it was a moment of reconciliation when the nagging hunger in his belly was forgotten and his earlier affection for her had temporarily revived he remembered the day well a pelting drenching day when the water streamed down the windowpane and the light indoors was too dull to read by the boredom of the two children in the dark cramped bedroom became unbearable winston whined and grizzled made futile demands for food fretted about the room pulling everything out of place and kicking the wainscoting until the neighbours banged on the wall while the younger child wailed intermittently in the end his mother said now be good and ill buy you a toy a lovely toyyoull love it and then she had gone out in the rain to a little general shop which was still sporadically open nearby and came back with a cardboard box containing an outfit of snakes and ladders he could still remember the smell of the damp cardboard it was a miserable outfit the board was cracked and the tiny wooden dice were so illcut that they would hardly lie on their sides winston looked at the thing sulkily and without interest but then his mother lit a piece of candle and they sat down on the floor to play soon he was wildly excited and shouting with laughter as the tiddlywinks climbed hopefully up the ladders and then came slithering down the snakes again almost to the startingpoint they played eight games winning four each his tiny sister too young to understand what the game was about had sat propped up against a bolster laughing because the others were laughing for a whole afternoon they had all been happy together as in his earlier childhood  he pushed the picture out of his mind it was a false memory he was troubled by false memories occasionally they did not matter so long as one knew them for what they were some things had happened others had not happened he turned back to the chessboard and picked up the white knight again almost in the same instant it dropped on to the board with a clatter he had started as though a pin had run into him  a shrill trumpetcall had pierced the air it was the bulletin victory it always meant victory when a trumpetcall preceded the news a sort of electric drill ran through the cafe even the waiters had started and pricked up their ears  the trumpetcall had let loose an enormous volume of noise already an excited voice was gabbling from the telescreen but even as it started it was almost drowned by a roar of cheering from outside the news had run round the streets like magic he could hear just enough of what was issuing from the telescreen to realize that it had all happened as he had foreseen a vast seaborne armada had secretly assembled a sudden blow in the enemys rear the white arrow tearing across the tail of the black fragments of triumphant phrases pushed themselves through the din vast strategic manoeuvreperfect coordinationutter routhalf a million prisonerscomplete demoralizationcontrol of the whole of africabring the war within measurable distance of its endvictorygreatest victory in human historyvictory victory victory  under the table winstons feet made convulsive movements he had not stirred from his seat but in his mind he was running swiftly running he was with the crowds outside cheering himself deaf he looked up again at the portrait of big brother the colossus that bestrode the world the rock against which the hordes of asia dashed themselves in vain he thought how ten minutes agoyes only ten minutesthere had still been equivocation in his heart as he wondered whether the news from the front would be of victory or defeat ah it was more than a eurasian army that had perished much had changed in him since that first day in the ministry of love but the final indispensable healing change had never happened until this moment  the voice from the telescreen was still pouring forth its tale of prisoners and booty and slaughter but the shouting outside had died down a little the waiters were turning back to their work one of them approached with the gin bottle winston sitting in a blissful dream paid no attention as his glass was filled up he was not running or cheering any longer he was back in the ministry of love with everything forgiven his soul white as snow he was in the public dock confessing everything implicating everybody he was walking down the whitetiled corridor with the feeling of walking in sunlight and an armed guard at his back the longhopedfor bullet was entering his brain  he gazed up at the enormous face forty years it had taken him to learn what kind of smile was hidden beneath the dark moustache o cruel needless misunderstanding o stubborn selfwilled exile from the loving breast two ginscented tears trickled down the sides of his nose but it was all right everything was all right the struggle was finished he had won the victory over himself he loved big brother    the end    appendix  the principles of newspeak    newspeak was the official language of oceania and had been devised to meet the ideological needs of ingsoc or english socialism in the year  there was not as yet anyone who used newspeak as his sole means of communication either in speech or writing the leading articles in the times were written in it but this was a tour de force which could only be carried out by a specialist it was expected that newspeak would have finally superseded oldspeak or standard english as we should call it by about the year  meanwhile it gained ground steadily all party members tending to use newspeak words and grammatical constructions more and more in their everyday speech the version in use in  and embodied in the ninth and tenth editions of the newspeak dictionary was a provisional one and contained many superfluous words and archaic formations which were due to be suppressed later it is with the final perfected version as embodied in the eleventh edition of the dictionary that we are concerned here  the purpose of newspeak was not only to provide a medium of expression for the worldview and mental habits proper to the devotees of ingsoc but to make all other modes of thought impossible it was intended that when newspeak had been adopted once and for all and oldspeak forgotten a heretical thoughtthat is a thought diverging from the principles of ingsocshould be literally unthinkable at least so far as thought is dependent on words its vocabulary was so constructed as to give exact and often very subtle expression to every meaning that a party member could properly wish to express while excluding all other meanings and also the possibility of arriving at them by indirect methods this was done partly by the invention of new words but chiefly by eliminating undesirable words and by stripping such words as remained of unorthodox meanings and so far as possible of all secondary meanings whatever to give a single example the word free still existed in newspeak but it could only be used in such statements as this dog is free from lice or this field is free from weeds it could not be used in its old sense of politically free or intellectually free since political and intellectual freedom no longer existed even as concepts and were therefore of necessity nameless quite apart from the suppression of definitely heretical words reduction of vocabulary was regarded as an end in itself and no word that could be dispensed with was allowed to survive newspeak was designed not to extend but to diminish the range of thought and this purpose was indirectly assisted by cutting the choice of words down to a minimum  newspeak was founded on the english language as we now know it though many newspeak sentences even when not containing newlycreated words would be barely intelligible to an englishspeaker of our own day newspeak words were divided into three distinct classes known as the a vocabulary the b vocabulary also called compound words and the c vocabulary it will be simpler to discuss each class separately but the grammatical peculiarities of the language can be dealt with in the section devoted to the a vocabulary since the same rules held good for all three categories   the a vocabulary the a vocabulary consisted of the words needed for the business of everyday lifefor such things as eating drinking working putting on ones clothes going up and down stairs riding in vehicles gardening cooking and the like it was composed almost entirely of words that we already possess words like hit run dog tree sugar house fieldbut in comparison with the presentday english vocabulary their number was extremely small while their meanings were far more rigidly defined all ambiguities and shades of meaning had been purged out of them so far as it could be achieved a newspeak word of this class was simply a staccato sound expressing one clearly understood concept it would have been quite impossible to use the a vocabulary for literary purposes or for political or philosophical discussion it was intended only to express simple purposive thoughts usually involving concrete objects or physical actions  the grammar of newspeak had two outstanding peculiarities the first of these was an almost complete interchangeability between different parts of speech any word in the language in principle this applied even to very abstract words such as if or when could be used either as verb noun adjective or adverb between the verb and the noun form when they were of the same root there was never any variation this rule of itself involving the destruction of many archaic forms the word thought for example did not exist in newspeak its place was taken by think which did duty for both noun and verb no etymological principle was followed here in some cases it was the original noun that was chosen for retention in other cases the verb even where a noun and verb of kindred meaning were not etymologically connected one or other of them was frequently suppressed there was for example no such word as cut its meaning being sufficiently covered by the nounverb knife adjectives were formed by adding the suffix ful to the nounverb and adverbs by adding wise thus for example speedful meant rapid and speedwise meant quickly certain of our presentday adjectives such as good strong big black soft were retained but their total number was very small there was little need for them since almost any adjectival meaning could be arrived at by adding ful to a nounverb none of the nowexisting adverbs was retained except for a very few already ending in wise the wise termination was invariable the word well for example was replaced by goodwise  in addition any wordthis again applied in principle to every word in the languagecould be negatived by adding the affix un or could be strengthened by the affix plus or for still greater emphasis doubleplus thus for example uncold meant warm while pluscold and doublepluscold meant respectively very cold and superlatively cold it was also possible as in presentday english to modify the meaning of almost any word by prepositional affixes such as ante post up down etc by such methods it was found possible to bring about an enormous diminution of vocabulary given for instance the word good there was no need for such a word as bad since the required meaning was equally wellindeed betterexpressed by ungood all that was necessary in any case where two words formed a natural pair of opposites was to decide which of them to suppress dark for example could be replaced by unlight or light by undark according to preference  the second distinguishing mark of newspeak grammar was its regularity subject to a few exceptions which are mentioned below all inflexions followed the same rules thus in all verbs the preterite and the past participle were the same and ended in ed the preterite of steal was stealed the preterite of think was thinked and so on throughout the language all such forms as swam gave brought spoke taken etc being abolished all plurals were made by adding s or es as the case might be the plurals of man ox life were mans oxes lifes comparison of adjectives was invariably made by adding er est good gooder goodest irregular forms and the more most formation being suppressed  the only classes of words that were still allowed to inflect irregularly were the pronouns the relatives the demonstrative adjectives and the auxiliary verbs all of these followed their ancient usage except that whom had been scrapped as unnecessary and the shall should tenses had been dropped all their uses being covered by will and would there were also certain irregularities in wordformation arising out of the need for rapid and easy speech a word which was difficult to utter or was liable to be incorrectly heard was held to be ipso facto a bad word occasionally therefore for the sake of euphony extra letters were inserted into a word or an archaic formation was retained but this need made itself felt chiefly in connexion with the b vocabulary why so great an importance was attached to ease of pronunciation will be made clear later in this essay   the b vocabulary the b vocabulary consisted of words which had been deliberately constructed for political purposes words that is to say which not only had in every case a political implication but were intended to impose a desirable mental attitude upon the person using them without a full understanding of the principles of ingsoc it was difficult to use these words correctly in some cases they could be translated into oldspeak or even into words taken from the a vocabulary but this usually demanded a long paraphrase and always involved the loss of certain overtones the b words were a sort of verbal shorthand often packing whole ranges of ideas into a few syllables and at the same time more accurate and forcible than ordinary language  the b words were in all cases compound words compound words such as speakwrite were of course to be found in the a vocabulary but these were merely convenient abbreviations and had no special ideological colour they consisted of two or more words or portions of words welded together in an easily pronounceable form the resulting amalgam was always a nounverb and inflected according to the ordinary rules to take a single example the word goodthink meaning very roughly orthodoxy or if one chose to regard it as a verb to think in an orthodox manner this inflected as follows nounverb goodthink past tense and past participle goodthinked present participle goodthinking adjective goodthinkful adverb goodthinkwise verbal noun goodthinker  the b words were not constructed on any etymological plan the words of which they were made up could be any parts of speech and could be placed in any order and mutilated in any way which made them easy to pronounce while indicating their derivation in the word crimethink thoughtcrime for instance the think came second whereas in thinkpol thought police it came first and in the latter word police had lost its second syllable because of the great difficulty in securing euphony irregular formations were commoner in the b vocabulary than in the a vocabulary for example the adjective forms of minitrue minipax and miniluv were respectively minitruthful minipeaceful and minilovely simply because trueful paxful and loveful were slightly awkward to pronounce in principle however all b words could inflect and all inflected in exactly the same way  some of the b words had highly subtilized meanings barely intelligible to anyone who had not mastered the language as a whole consider for example such a typical sentence from a times leading article as oldthinkers unbellyfeel ingsoc the shortest rendering that one could make of this in oldspeak would be those whose ideas were formed before the revolution cannot have a full emotional understanding of the principles of english socialism but this is not an adequate translation to begin with in order to grasp the full meaning of the newspeak sentence quoted above one would have to have a clear idea of what is meant by ingsoc and in addition only a person thoroughly grounded in ingsoc could appreciate the full force of the word bellyfeel which implied a blind enthusiastic acceptance difficult to imagine today or of the word oldthink which was inextricably mixed up with the idea of wickedness and decadence but the special function of certain newspeak words of which oldthink was one was not so much to express meanings as to destroy them these words necessarily few in number had had their meanings extended until they contained within themselves whole batteries of words which as they were sufficiently covered by a single comprehensive term could now be scrapped and forgotten the greatest difficulty facing the compilers of the newspeak dictionary was not to invent new words but having invented them to make sure what they meant to make sure that is to say what ranges of words they cancelled by their existence  as we have already seen in the case of the word free words which had once borne a heretical meaning were sometimes retained for the sake of convenience but only with the undesirable meanings purged out of them countless other words such as honour justice morality internationalism democracy science and religion had simply ceased to exist a few blanket words covered them and in covering them abolished them all words grouping themselves round the concepts of liberty and equality for instance were contained in the single word crimethink while all words grouping themselves round the concepts of objectivity and rationalism were contained in the single word oldthink greater precision would have been dangerous what was required in a party member was an outlook similar to that of the ancient hebrew who knew without knowing much else that all nations other than his own worshipped false gods he did not need to know that these gods were called baal osiris moloch ashtaroth and the like probably the less he knew about them the better for his orthodoxy he knew jehovah and the commandments of jehovah he knew therefore that all gods with other names or other attributes were false gods in somewhat the same way the party member knew what constituted right conduct and in exceedingly vague generalized terms he knew what kinds of departure from it were possible his sexual life for example was entirely regulated by the two newspeak words sexcrime sexual immorality and goodsex chastity sexcrime covered all sexual misdeeds whatever it covered fornication adultery homosexuality and other perversions and in addition normal intercourse practised for its own sake there was no need to enumerate them separately since they were all equally culpable and in principle all punishable by death in the c vocabulary which consisted of scientific and technical words it might be necessary to give specialized names to certain sexual aberrations but the ordinary citizen had no need of them he knew what was meant by goodsexthat is to say normal intercourse between man and wife for the sole purpose of begetting children and without physical pleasure on the part of the woman all else was sexcrime in newspeak it was seldom possible to follow a heretical thought further than the perception that it was heretical beyond that point the necessary words were nonexistent  no word in the b vocabulary was ideologically neutral a great many were euphemisms such words for instance as joycamp forcedlabour camp or minipax ministry of peace ie ministry of war meant almost the exact opposite of what they appeared to mean some words on the other hand displayed a frank and contemptuous understanding of the real nature of oceanic society an example was prolefeed meaning the rubbishy entertainment and spurious news which the party handed out to the masses other words again were ambivalent having the connotation good when applied to the party and bad when applied to its enemies but in addition there were great numbers of words which at first sight appeared to be mere abbreviations and which derived their ideological colour not from their meaning but from their structure  so far as it could be contrived everything that had or might have political significance of any kind was fitted into the b vocabulary the name of every organization or body of people or doctrine or country or institution or public building was invariably cut down into the familiar shape that is a single easily pronounced word with the smallest number of syllables that would preserve the original derivation in the ministry of truth for example the records department in which winston smith worked was called recdep the fiction department was called ficdep the teleprogrammes department was called teledep and so on this was not done solely with the object of saving time even in the early decades of the twentieth century telescoped words and phrases had been one of the characteristic features of political language and it had been noticed that the tendency to use abbreviations of this kind was most marked in totalitarian countries and totalitarian organizations examples were such words as nazi gestapo comintern inprecorr agitprop in the beginning the practice had been adopted as it were instinctively but in newspeak it was used with a conscious purpose it was perceived that in thus abbreviating a name one narrowed and subtly altered its meaning by cutting out most of the associations that would otherwise cling to it the words communist international for instance call up a composite picture of universal human brotherhood red flags barricades karl marx and the paris commune the word comintern on the other hand suggests merely a tightlyknit organization and a welldefined body of doctrine it refers to something almost as easily recognized and as limited in purpose as a chair or a table comintern is a word that can be uttered almost without taking thought whereas communist international is a phrase over which one is obliged to linger at least momentarily in the same way the associations called up by a word like minitrue are fewer and more controllable than those called up by ministry of truth this accounted not only for the habit of abbreviating whenever possible but also for the almost exaggerated care that was taken to make every word easily pronounceable  in newspeak euphony outweighed every consideration other than exactitude of meaning regularity of grammar was always sacrificed to it when it seemed necessary and rightly so since what was required above all for political purposes was short clipped words of unmistakable meaning which could be uttered rapidly and which roused the minimum of echoes in the speakers mind the words of the b vocabulary even gained in force from the fact that nearly all of them were very much alike almost invariably these wordsgoodthink minipax prolefeed sexcrime joycamp ingsoc bellyfeel thinkpol and countless otherswere words of two or three syllables with the stress distributed equally between the first syllable and the last the use of them encouraged a gabbling style of speech at once staccato and monotonous and this was exactly what was aimed at the intention was to make speech and especially speech on any subject not ideologically neutral as nearly as\n"
     ]
    }
   ],
   "source": [
    "n = round(len(data)*0.05)\n",
    "i = randint(0, len(data)-1)\n",
    "sampled_data = data[i:i+n]\n",
    "encrypted_sampled_data = VigenereEncryptDecrypt(sampled_data, characters, key, encrypt=True)\n",
    "\n",
    "print(\"We sample a chunk of {} characters from the book starting at position {}\".format(n, i))\n",
    "print(\"Using the private key k = {}\\n\\n\".format(key))\n",
    "print(\"Sampled Plaintext:\")\n",
    "print(sampled_data)"
   ]
  },
  {
   "cell_type": "markdown",
   "metadata": {},
   "source": [
    "Let's write a function for the attacker strategy"
   ]
  },
  {
   "cell_type": "code",
   "execution_count": 6,
   "metadata": {},
   "outputs": [],
   "source": [
    "def find_key_attack(ciphertext_freqencies, english_frequencies, key_len):\n",
    "    #now there are a number of key_len different dictionaries to match\n",
    "    pass"
   ]
  }
 ],
 "metadata": {
  "kernelspec": {
   "display_name": "Python 3",
   "language": "python",
   "name": "python3"
  },
  "language_info": {
   "codemirror_mode": {
    "name": "ipython",
    "version": 3
   },
   "file_extension": ".py",
   "mimetype": "text/x-python",
   "name": "python",
   "nbconvert_exporter": "python",
   "pygments_lexer": "ipython3",
   "version": "3.7.5"
  }
 },
 "nbformat": 4,
 "nbformat_minor": 2
}
