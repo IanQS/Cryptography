{
 "cells": [
  {
   "cell_type": "markdown",
   "metadata": {},
   "source": [
    "## Divisibility and greatest common divisor\n",
    "\n",
    "Let $a$ and $b$ be integers with $b!=0$. We say that $b$ **divides** $a$, if there is an integer $c$ such tat $a=bc$. \n",
    "\n",
    "A **common divisor** of two integers $a$ and $b$ is a positive integer $d$ that divides both of them.\n",
    "\n",
    "Let **a** and **b** be positive integers. Then we say that *a divided by b has quotient q and remainder r* if $a=bq+r$ with $0\\leq r < b$.\n",
    "\n",
    "### Finding the greatest common divisor using the Euclidean altorithm\n",
    "\n",
    "A nice explanation can be found [here](https://en.wikipedia.org/wiki/Euclidean_algorithm). Also in the book [An introduction to mathematical cryptography](https://www.springer.com/gp/book/9781441926746) in page 13.\n",
    "\n",
    "Let $a$ and $b$ be positive integers with $a>b$. The following is the euclidean algorithm to calculate the greatest common divisor of $a$ and $b$ (i.e. the largest number that divides both).\n",
    "\n",
    "1. Let $r_0=a$ and $r_1=b$.\n",
    "2. Set $i=1$.\n",
    "3. Divide $r_{i-1}$ by $r_i$ to get the quotient $q_i$ and the remainder $r_{i+1}$.\n",
    "4. If $r_{i+1}=0$ then $r_i$ is the greatest common divisor.\n",
    "5. Otherwise set $i=i+1$ and go to step 3.\n",
    "\n",
    "Here's the code for this"
   ]
  },
  {
   "cell_type": "code",
   "execution_count": 10,
   "metadata": {},
   "outputs": [],
   "source": [
    "def gcd(a,b):\n",
    "    #a must be greater than a, otherwise flip a and b\n",
    "    a, b = (a,b) if a>b else (b,a)\n",
    "    r_prev, r = a, b\n",
    "    \n",
    "    while r!=0:\n",
    "        r_post = r_prev%r\n",
    "        if r_post == 0:\n",
    "            return r\n",
    "        else:\n",
    "            r_prev, r = r, r_post\n",
    "    "
   ]
  },
  {
   "cell_type": "code",
   "execution_count": 18,
   "metadata": {},
   "outputs": [
    {
     "name": "stdout",
     "output_type": "stream",
     "text": [
      "gcd of 2024 and 748 is 44\n",
      "remainder of a/gcd(a,b) = 0, remainder of b/gcd(a,b) = 0\n"
     ]
    }
   ],
   "source": [
    "a = 2024\n",
    "b = 748\n",
    "c = gcd(a,b)\n",
    "print(\"gcd of {} and {} is {}\".format(a,b,c))\n",
    "print(\"remainder of a/gcd(a,b) = {}, remainder of b/gcd(a,b) = {}\".format(a%c, b%c))"
   ]
  },
  {
   "cell_type": "code",
   "execution_count": 19,
   "metadata": {},
   "outputs": [
    {
     "name": "stdout",
     "output_type": "stream",
     "text": [
      "gcd of 16261 and 85652 is 161\n",
      "remainder of a/gcd(a,b) = 0, remainder of b/gcd(a,b) = 0\n"
     ]
    }
   ],
   "source": [
    "a = 16261\n",
    "b = 85652\n",
    "c = gcd(a,b)\n",
    "print(\"gcd of {} and {} is {}\".format(a,b,c))\n",
    "print(\"remainder of a/gcd(a,b) = {}, remainder of b/gcd(a,b) = {}\".format(a%c, b%c))"
   ]
  },
  {
   "cell_type": "code",
   "execution_count": 20,
   "metadata": {},
   "outputs": [],
   "source": [
    "def extended_gcd(a, b):\n",
    "    # Solving equation au+bv=gcd(a,b)\n",
    "    # result is: (g,u,v) where g is greatest common divisor and u,v the solution of the eq above\n",
    "    \n",
    "    u, g, x, y = 1, a, 0, b\n",
    "    \n",
    "    while True:\n",
    "        if y==0:\n",
    "            v = (g-a*u)/b\n",
    "            return g, u, v\n",
    "        q, t = g/y, g%y\n",
    "        s = u - q*x\n",
    "\n",
    "        u, g = x, y\n",
    "        x, y = s, t\n",
    "    "
   ]
  },
  {
   "cell_type": "code",
   "execution_count": 37,
   "metadata": {},
   "outputs": [
    {
     "name": "stdout",
     "output_type": "stream",
     "text": [
      "the solution to the equation au+bv=gcd(a,b) where (a,b)=(16261,85652)\n",
      "is g, u, v = (161, -168.09607016257183, 31.91485542560104) where g is the gcd\n",
      "\n",
      "therefore the equation holds:\n",
      "16261u+85652v=161 for the above mentioned values of u and v\n",
      "\n",
      "Let's check the equation:\n",
      "Left hand side a*u+b*v=161\n",
      "Right hand side gcd(a,b)=161\n"
     ]
    }
   ],
   "source": [
    "a = 16261\n",
    "b = 85652\n",
    "g, u, v = extended_gcd(a,b)\n",
    "\n",
    "print(\"the solution to the equation au+bv=gcd(a,b) where (a,b)=({},{})\".format(a,b))\n",
    "print(\"is g, u, v = ({}, {}, {}) where g is the gcd\\n\".format(g,u,v))\n",
    "print(\"therefore the equation holds:\")\n",
    "print(\"{}u+{}v={} for the above mentioned values of u and v\\n\".format(a,b,g))\n",
    "\n",
    "print(\"Let's check the equation:\")\n",
    "print(\"Left hand side a*u+b*v={}\".format(int(a*u+b*v)))\n",
    "print(\"Right hand side gcd(a,b)={}\".format(g))\n",
    "\n",
    "\n",
    "assert int(a*u+b*v)==g, \"Warning, something is wrong!. g, u, v does not match the equation!\""
   ]
  },
  {
   "cell_type": "code",
   "execution_count": 40,
   "metadata": {},
   "outputs": [
    {
     "name": "stdout",
     "output_type": "stream",
     "text": [
      "the solution to the equation au+bv=gcd(a,b) where (a,b)=(139024789,93278890)\n",
      "is g, u, v = (1, 44682007.522771195, -66594989.15509905) where g is the gcd\n",
      "\n",
      "therefore the equation holds:\n",
      "139024789u+93278890v=1 for the above mentioned values of u and v\n",
      "\n",
      "Let's check the equation:\n",
      "Left hand side a*u+b*v=1\n",
      "Right hand side gcd(a,b)=1\n"
     ]
    }
   ],
   "source": [
    "a = 139024789\n",
    "b = 93278890\n",
    "g, u, v = extended_gcd(a,b)\n",
    "\n",
    "print(\"the solution to the equation au+bv=gcd(a,b) where (a,b)=({},{})\".format(a,b))\n",
    "print(\"is g, u, v = ({}, {}, {}) where g is the gcd\\n\".format(g,u,v))\n",
    "print(\"therefore the equation holds:\")\n",
    "print(\"{}u+{}v={} for the above mentioned values of u and v\\n\".format(a,b,g))\n",
    "\n",
    "print(\"Let's check the equation:\")\n",
    "print(\"Left hand side a*u+b*v={}\".format(int(a*u+b*v)))\n",
    "print(\"Right hand side gcd(a,b)={}\".format(g))\n",
    "\n",
    "\n",
    "assert int(a*u+b*v)==g, \"Warning, something is wrong!. g, u, v does not match the equation!\""
   ]
  },
  {
   "cell_type": "markdown",
   "metadata": {},
   "source": [
    "In this last case the greatest common divisor is 1, in this special case $a$ and $b$ are said to be comprimes. I.e. two naturals $a$ and $b$ are coprimes iff $au+bv=gcd(a,b)=1$. For any two natural numbers we can find two coprimes by simply dividing by the gcd(a,b) on both sides of the equation:\n",
    "\n",
    "$$\\frac{a}{gcd(a,b)}u+\\frac{b}{gcd(a,b)}v=1$$\n",
    "\n",
    "Then $a/gcd(a,b)$ and $b/gcd(a,b)$ are coprimes. Let's test this with a simple example"
   ]
  },
  {
   "cell_type": "code",
   "execution_count": 44,
   "metadata": {},
   "outputs": [
    {
     "name": "stdout",
     "output_type": "stream",
     "text": [
      "the solution to the equation au+bv=gcd(a,b) where (a,b)=(16261,85652)\n",
      "is g, u, v = (161, -168.09607016257183, 31.91485542560104) where g is the gcd\n",
      "\n",
      "The coprimes are 101 and 532\n",
      "the solution to the equation au+bv=gcd(a,b) where (a,b)=(101,532)\n",
      "is g, u, v = (1, -168.09607016257183, 31.914855425601043) where g is the gcd\n",
      "\n"
     ]
    }
   ],
   "source": [
    "a = 16261\n",
    "b = 85652\n",
    "g, u, v = extended_gcd(a,b)\n",
    "\n",
    "print(\"the solution to the equation au+bv=gcd(a,b) where (a,b)=({},{})\".format(a,b))\n",
    "print(\"is g, u, v = ({}, {}, {}) where g is the gcd\\n\".format(g,u,v))\n",
    "\n",
    "a_coprime = int(a/g)\n",
    "b_coprime = int(b/g)\n",
    "\n",
    "print(\"The coprimes are {} and {}\".format(a_coprime,b_coprime))\n",
    "\n",
    "g, u, v = extended_gcd(a_coprime, b_coprime)\n",
    "print(\"the solution to the equation au+bv=gcd(a,b) where (a,b)=({},{})\".format(a_coprime,b_coprime))\n",
    "print(\"is g, u, v = ({}, {}, {}) where g is the gcd\\n\".format(g,u,v))"
   ]
  }
 ],
 "metadata": {
  "kernelspec": {
   "display_name": "crypto",
   "language": "python",
   "name": "crypto"
  },
  "language_info": {
   "codemirror_mode": {
    "name": "ipython",
    "version": 3
   },
   "file_extension": ".py",
   "mimetype": "text/x-python",
   "name": "python",
   "nbconvert_exporter": "python",
   "pygments_lexer": "ipython3",
   "version": "3.7.3"
  }
 },
 "nbformat": 4,
 "nbformat_minor": 2
}
