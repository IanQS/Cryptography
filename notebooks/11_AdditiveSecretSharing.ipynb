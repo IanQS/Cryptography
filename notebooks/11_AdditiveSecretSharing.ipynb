{
 "cells": [
  {
   "cell_type": "markdown",
   "metadata": {},
   "source": [
    "# Secret Sharing\n",
    "\n",
    "Secret sharing is a technique widely used in secure multiparty computation. It relies on sharing the responsability of a certain information by simply splitting it in several shares. As always we explain by example.\n",
    "\n",
    "1. In the first part we will work on additive secret sharing\n",
    "2. A more complex technique, polynomial reconstruction and Shamir secret sharing.\n",
    "\n",
    "\n",
    "## Additive Secret Sharing\n",
    "\n",
    "As said previously, secret sharing consists (at least at this stage) in splitting the information into shares. First let's choose a random integer all the parties agree on:"
   ]
  },
  {
   "cell_type": "code",
   "execution_count": 1,
   "metadata": {},
   "outputs": [
    {
     "name": "stdout",
     "output_type": "stream",
     "text": [
      "We've chosen a random prime p=2272212871\n"
     ]
    }
   ],
   "source": [
    "from crypt import RandomPrime\n",
    "from random import seed, randrange\n",
    "\n",
    "seed(1)\n",
    "\n",
    "bits = 32\n",
    "p = RandomPrime(bits, 100)\n",
    "\n",
    "# Although in this example we work with a random number it is not strictly necessary\n",
    "print(f\"We've chosen a random prime p={p}\")"
   ]
  },
  {
   "cell_type": "markdown",
   "metadata": {},
   "source": [
    "We choose the number of parties $N$ that will participate in the calculation and the secret we want to split. Then we generate N-1 random numbers in between 0 and $p$ and finally substract the secret to generate the Nth share, this way when we sum the shares they will add up to the secret."
   ]
  },
  {
   "cell_type": "code",
   "execution_count": 2,
   "metadata": {},
   "outputs": [
    {
     "name": "stdout",
     "output_type": "stream",
     "text": [
      "Splitting to shares:\n",
      "\n",
      "secret=100\n",
      "splits=[298566280, 719279514, 685586411, 1096144879, 1744848758]\n",
      "sum_shares=100\n"
     ]
    }
   ],
   "source": [
    "N = 5\n",
    "secret = 100\n",
    "\n",
    "def AdditiveShares(secret, N, p):\n",
    "    # generate N-1 random shares\n",
    "    shares = [randrange(p) for _ in range(N-1)]\n",
    "    shares.append((secret-sum(shares))%p)\n",
    "    return shares\n",
    "\n",
    "def ReconstructAdditiveShares(shares, p):\n",
    "    return (sum(shares)%p)\n",
    "\n",
    "shares = AdditiveShares(secret, N, p)\n",
    "reconstruction = ReconstructAdditiveShares(shares, p)\n",
    "print(f\"Splitting to shares:\\n\\nsecret={secret}\\nsplits={shares}\\nsum_shares={reconstruction}\")"
   ]
  },
  {
   "cell_type": "markdown",
   "metadata": {},
   "source": [
    "What we've done here is splitting the secret into N users so that when they all share their shares they can reconstruct the secret, no $N-1$ parties can reconstruct!. Beautiful right?\n",
    "\n",
    "Now, how much information can $N-1$ parties gain from the original secret? Here's the best, there's no information. This is true due to the randomicity of this process, since $N-1$ are chosen completely at random from a uniform distribution they contain no information and by construction the Nth number also. This concept is exactly the same as the one time pad encoding we have seen previously.\n",
    "\n"
   ]
  },
  {
   "cell_type": "markdown",
   "metadata": {},
   "source": [
    "## Defining sum on shares\n",
    "\n",
    "We can define addition and substraction on two vectors of shares. "
   ]
  },
  {
   "cell_type": "code",
   "execution_count": 3,
   "metadata": {},
   "outputs": [],
   "source": [
    "def AdditiveSharesAdd(x, y, p):\n",
    "    return [(i+j)%p for i, j in zip(x,y)]\n",
    "\n",
    "def AdditiveSharesSubstract(x, y, p):\n",
    "    return [(i-j)%p for i, j in zip(x,y)]"
   ]
  },
  {
   "cell_type": "markdown",
   "metadata": {},
   "source": [
    "It is possible to outsource a summation or a substraction by sharing the values of two integers in the following way. Supplose that Alice has the value $x$ and Bob the value $y$, both want to calculate $x+y$ without the other knowing their value (actually, if they know $x+y$ and one value they can know the other value). First what they do is split into $N$ shares:"
   ]
  },
  {
   "cell_type": "code",
   "execution_count": 4,
   "metadata": {},
   "outputs": [
    {
     "name": "stdout",
     "output_type": "stream",
     "text": [
      "I want to add secretly x and y:\n",
      "x=1132540770\n",
      "y=361088521\n",
      "\n",
      "First task is to generate random shares for x and y and send them to the 5 outsourced parties:\n",
      "x_shares = [1172158589, 1264836847, 1952928634, 1382987043, 2176268270] which reconstructed is 1132540770\n",
      "y_shares = [2132424030, 2034831019, 490445119, 101509731, 146304364] which reconstructed is 361088521\n",
      "\n"
     ]
    }
   ],
   "source": [
    "x = randrange(0, p//2-1)\n",
    "y = randrange(0, p//2-1)\n",
    "\n",
    "print(f\"I want to add secretly x and y:\\nx={x}\\ny={y}\\n\")\n",
    "print(f\"First task is to generate random shares for x and y and send them to the {N} outsourced parties:\")\n",
    "x_shares = AdditiveShares(x, N, p)\n",
    "y_shares = AdditiveShares(y, N, p)\n",
    "\n",
    "x_rec = ReconstructAdditiveShares(x_shares, p)\n",
    "y_rec = ReconstructAdditiveShares(y_shares, p)\n",
    "\n",
    "print(f\"x_shares = {x_shares} which reconstructed is {x_rec}\")\n",
    "print(f\"y_shares = {y_shares} which reconstructed is {y_rec}\\n\")"
   ]
  },
  {
   "cell_type": "markdown",
   "metadata": {},
   "source": [
    "Now Alice has to send each share of $x$ and Bob its shares of $y$ to a different party"
   ]
  },
  {
   "cell_type": "code",
   "execution_count": 5,
   "metadata": {},
   "outputs": [
    {
     "name": "stdout",
     "output_type": "stream",
     "text": [
      "Party 0 gets the values x_0=1172158589 and y_0=2132424030\n",
      "Party 1 gets the values x_1=1264836847 and y_1=2034831019\n",
      "Party 2 gets the values x_2=1952928634 and y_2=490445119\n",
      "Party 3 gets the values x_3=1382987043 and y_3=101509731\n",
      "Party 4 gets the values x_4=2176268270 and y_4=146304364\n"
     ]
    }
   ],
   "source": [
    "for i, (xs, ys) in enumerate(zip(x_shares, y_shares)):\n",
    "    print(f\"Party {i} gets the values x_{i}={xs} and y_{i}={ys}\")"
   ]
  },
  {
   "cell_type": "markdown",
   "metadata": {},
   "source": [
    "Each party calculates their sum of their shares and send it back to Alice"
   ]
  },
  {
   "cell_type": "code",
   "execution_count": 6,
   "metadata": {},
   "outputs": [
    {
     "name": "stdout",
     "output_type": "stream",
     "text": [
      "The final sum of shares is: \n",
      "x_y_sum=[1032369748, 1027454995, 171160882, 1484496774, 50359763]\n"
     ]
    }
   ],
   "source": [
    "x_y_sum_shares = AdditiveSharesAdd(x_shares, y_shares, p)\n",
    "print(f\"The final sum of shares is: \\nx_y_sum={x_y_sum_shares}\")"
   ]
  },
  {
   "cell_type": "markdown",
   "metadata": {},
   "source": [
    "Now is time to reconstruct the shares and find the secret"
   ]
  },
  {
   "cell_type": "code",
   "execution_count": 7,
   "metadata": {},
   "outputs": [
    {
     "name": "stdout",
     "output_type": "stream",
     "text": [
      "The reconstruction of the secret is 1493629291, the sum of x=1132540770 and y=361088521\n"
     ]
    }
   ],
   "source": [
    "x_y_sum = ReconstructAdditiveShares(x_y_sum_shares, p)\n",
    "\n",
    "assert(x+y==x_y_sum)\n",
    "\n",
    "print(f\"The reconstruction of the secret is {x_y_sum}, the sum of x={x} and y={y}\")"
   ]
  },
  {
   "cell_type": "markdown",
   "metadata": {},
   "source": [
    "Done!. We've split two secrets, sent them to different parties that sum their shares and finally we get each contribution in a vector. We just need to add this vector to reconstruct as we did.\n"
   ]
  },
  {
   "cell_type": "markdown",
   "metadata": {},
   "source": [
    "### Problems with overflow\n",
    "\n",
    "You may notice that we've generated two random numbers in the range of $0$ to $p//2-1$, we do this to avoid overflow, this is, if we add two numbers and the sum is larger than $p$ then when we apply the modulo operation we are back to square one and the sum has no meaning. Let me show an example"
   ]
  },
  {
   "cell_type": "code",
   "execution_count": 8,
   "metadata": {},
   "outputs": [
    {
     "name": "stdout",
     "output_type": "stream",
     "text": [
      "Prime number selected: q=17\n",
      "Chosen x, y = 10, 8\n",
      "Modulo sum of x, y = (x+y)mod q = 1\n",
      "Overflow!\n"
     ]
    }
   ],
   "source": [
    "from crypt import isPrime\n",
    "\n",
    "# Choose a small prime\n",
    "q = 17 \n",
    "assert isPrime(q), f\"{q} is not prime, please choose a small prime\"\n",
    "print(f\"Prime number selected: q={q}\")\n",
    "\n",
    "# Choose two numbers smaller than p so that when are summed are larger than q\n",
    "x, y = 10, 8\n",
    "\n",
    "print(f\"Chosen x, y = {x}, {y}\")\n",
    "print(f\"Modulo sum of x, y = (x+y)mod q = {(x+y)%q}\")\n",
    "\n",
    "if x+y!=(x+y)%q:\n",
    "    print(\"Overflow!\")"
   ]
  },
  {
   "cell_type": "markdown",
   "metadata": {},
   "source": [
    "Let's do the same sum but using the shares"
   ]
  },
  {
   "cell_type": "code",
   "execution_count": 9,
   "metadata": {},
   "outputs": [
    {
     "name": "stdout",
     "output_type": "stream",
     "text": [
      "x_shares = [9, 12, 10, 13, 0] which reconstructed is 10\n",
      "y_shares = [6, 8, 3, 8, 0] which reconstructed is 8\n",
      "\n"
     ]
    }
   ],
   "source": [
    "x_shares = AdditiveShares(x, N, q)\n",
    "y_shares = AdditiveShares(y, N, q)\n",
    "\n",
    "x_rec = ReconstructAdditiveShares(x_shares, q)\n",
    "y_rec = ReconstructAdditiveShares(y_shares, q)\n",
    "\n",
    "print(f\"x_shares = {x_shares} which reconstructed is {x_rec}\")\n",
    "print(f\"y_shares = {y_shares} which reconstructed is {y_rec}\\n\")"
   ]
  },
  {
   "cell_type": "code",
   "execution_count": 10,
   "metadata": {},
   "outputs": [
    {
     "name": "stdout",
     "output_type": "stream",
     "text": [
      "Party 0 gets the values x_0=9 and y_0=6\n",
      "Party 1 gets the values x_1=12 and y_1=8\n",
      "Party 2 gets the values x_2=10 and y_2=3\n",
      "Party 3 gets the values x_3=13 and y_3=8\n",
      "Party 4 gets the values x_4=0 and y_4=0\n"
     ]
    }
   ],
   "source": [
    "for i, (xs, ys) in enumerate(zip(x_shares, y_shares)):\n",
    "    print(f\"Party {i} gets the values x_{i}={xs} and y_{i}={ys}\")"
   ]
  },
  {
   "cell_type": "code",
   "execution_count": 11,
   "metadata": {},
   "outputs": [
    {
     "name": "stdout",
     "output_type": "stream",
     "text": [
      "The reconstruction of the secret is 1, the sum of x=10 and y=8\n",
      "Overflow!, i.e. bad reconstruction.\n"
     ]
    }
   ],
   "source": [
    "x_y_sum_shares = AdditiveSharesAdd(x_shares, y_shares, q)\n",
    "x_y_sum = ReconstructAdditiveShares(x_y_sum_shares, q)\n",
    "\n",
    "print(f\"The reconstruction of the secret is {x_y_sum}, the sum of x={x} and y={y}\")\n",
    "if x+1!=x_y_sum:\n",
    "    print(f\"Overflow!, i.e. bad reconstruction.\")"
   ]
  },
  {
   "cell_type": "markdown",
   "metadata": {},
   "source": [
    "## Defining multiplication on shares\n",
    "\n",
    "It is possible to define a multiplication in this additive scheme, we will use N=3 parties for simplicity.\n",
    "\n",
    "The initial step is the same as before, Alice splits $x$ into shares while Bob does the same with $y$. Then they both send the values to each party, in this case:\n",
    "\n",
    "Party 0: $x_1$, $x_2$, $y_1$, $y_2$\n",
    "\n",
    "Party 1: $x_2$, $x_0$, $y_2$, $y_0$\n",
    "\n",
    "Party 2: $x_0$, $x_1$, $y_0$, $y_1$\n",
    "\n",
    "Nottice that, no party can fully reconstruct x or y, however here if two parties agree they can reconstruct a variable. For instance, if Party 0 and Party 1 are both malitious they can fully reconstruct x and y.\n",
    "\n",
    "\n",
    "Recall that x = [$x_0$, $x_1$, $x_2$] and y = [$y_0$, $y_1$, $y_2$]\n",
    "and \n",
    "\n",
    "$$x * y = x_1*y_1+x_1*y_2+x_2*y_1+$$\n",
    "$$x_2*y_0+x_2*y_2+x_0*y_2+$$\n",
    "$$+x_0*y_0+x_0*y_1+x_1*y_0$$\n",
    "\n",
    "Party 0 can compute line 0 (containing indexes 1 and 2), Party 1 can compute line 1 (contain indexes 0 and 2) and party 2 calculates line 2 (again contains indexes 0 and 1). Recall the permutation nature of this calculation. We define the following quantities:\n",
    "\n",
    "\n",
    "$$z_0 = x_1*y_1+x_1*y_2+x_2*y_1$$\n",
    "$$z_1 = x_2*y_0+x_2*y_2+x_0*y_2$$\n",
    "$$z_2 = x_0*y_0+x_0*y_1+x_1*y_0$$\n",
    "\n",
    "whose sum is $x*y$\n",
    "\n",
    "$$x*y = z = z_0 + z_1 + z_2$$"
   ]
  },
  {
   "cell_type": "code",
   "execution_count": 74,
   "metadata": {},
   "outputs": [],
   "source": [
    "N = 3\n",
    "\n",
    "x = 10\n",
    "y = 17\n",
    "\n",
    "# Definition of the crossed terms\n",
    "def indexes(i):\n",
    "    if i==0:\n",
    "        return [1, 2]\n",
    "    if i==1:\n",
    "        return [2, 0]\n",
    "    if i==2:\n",
    "        return [0, 1]\n",
    "    return None\n",
    "\n",
    "def SharesToi(v, party):\n",
    "    i, j = indexes(party)\n",
    "    return [v[i], v[j]]\n",
    "\n",
    "def LocalMult(shares, p):   \n",
    "    return AdditiveShares(shares[0]*shares[2]+shares[0]*shares[3]+shares[1]*shares[2], N, p)"
   ]
  },
  {
   "cell_type": "code",
   "execution_count": 75,
   "metadata": {},
   "outputs": [],
   "source": [
    "x_shares = AdditiveShares(x, N, p)\n",
    "y_shares = AdditiveShares(x, N, p)\n",
    "\n",
    "party_shares_send = []\n",
    "\n",
    "for party in range(N):\n",
    "    sharex0, sharex1 = SharesToi(x_shares, party)\n",
    "    sharey0, sharey1 = SharesToi(y_shares, party)\n",
    "    \n",
    "    party_shares_send.append([sharex0, sharex1, sharey0, sharey1])"
   ]
  },
  {
   "cell_type": "code",
   "execution_count": 76,
   "metadata": {},
   "outputs": [
    {
     "data": {
      "text/plain": [
       "[[312214448, 2161357666, 1749384769, 1693119088],\n",
       " [2161357666, 2070853638, 1693119088, 1101921895],\n",
       " [2070853638, 312214448, 1101921895, 1749384769]]"
      ]
     },
     "execution_count": 76,
     "metadata": {},
     "output_type": "execute_result"
    }
   ],
   "source": [
    "party_shares_send"
   ]
  },
  {
   "cell_type": "code",
   "execution_count": 77,
   "metadata": {},
   "outputs": [],
   "source": [
    "z_shared = []\n",
    "\n",
    "for elem in party_shares_send:\n",
    "    z_shared.append(LocalMult(elem, p))"
   ]
  },
  {
   "cell_type": "code",
   "execution_count": 78,
   "metadata": {},
   "outputs": [
    {
     "data": {
      "text/plain": [
       "[[864850215, 35561698, 1990326120],\n",
       " [1635165130, 2208832078, 1635279890],\n",
       " [2091974696, 328191011, 570883617]]"
      ]
     },
     "execution_count": 78,
     "metadata": {},
     "output_type": "execute_result"
    }
   ],
   "source": [
    "z_shared"
   ]
  },
  {
   "cell_type": "code",
   "execution_count": 80,
   "metadata": {},
   "outputs": [
    {
     "name": "stdout",
     "output_type": "stream",
     "text": [
      "[47564299, 300371916, 1924276756]\n"
     ]
    }
   ],
   "source": [
    "w = [ sum(row) % p for row in zip(*z_shared) ]\n",
    "print(w)"
   ]
  },
  {
   "cell_type": "code",
   "execution_count": 65,
   "metadata": {},
   "outputs": [
    {
     "data": {
      "text/plain": [
       "20"
      ]
     },
     "execution_count": 65,
     "metadata": {},
     "output_type": "execute_result"
    }
   ],
   "source": [
    "def mul(x, y, p):\n",
    "    # local computation\n",
    "    z0 = (x[0]*y[0] + x[0]*y[1] + x[1]*y[0]) % p\n",
    "    z1 = (x[1]*y[1] + x[1]*y[2] + x[2]*y[1]) % p\n",
    "    z2 = (x[2]*y[2] + x[2]*y[0] + x[0]*y[2]) % p\n",
    "    # reshare and distribute; this requires communication\n",
    "    Z = [ AdditiveShares(z0, 3, p), AdditiveShares(z1, 3, p), AdditiveShares(z2, 3, p) ]\n",
    "    w = [ sum(row) % p for row in zip(*Z) ]\n",
    "    # bring precision back down from double to single\n",
    "    return w\n",
    "\n",
    "kk = mul(AdditiveShares(4, 3, p), AdditiveShares(5, 3, p), p)\n",
    "sum(kk)%p"
   ]
  },
  {
   "cell_type": "code",
   "execution_count": null,
   "metadata": {},
   "outputs": [],
   "source": []
  }
 ],
 "metadata": {
  "kernelspec": {
   "display_name": "Python 3",
   "language": "python",
   "name": "python3"
  },
  "language_info": {
   "codemirror_mode": {
    "name": "ipython",
    "version": 3
   },
   "file_extension": ".py",
   "mimetype": "text/x-python",
   "name": "python",
   "nbconvert_exporter": "python",
   "pygments_lexer": "ipython3",
   "version": "3.7.5"
  }
 },
 "nbformat": 4,
 "nbformat_minor": 4
}
