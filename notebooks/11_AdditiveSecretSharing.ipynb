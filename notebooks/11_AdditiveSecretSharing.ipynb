{
 "cells": [
  {
   "cell_type": "markdown",
   "metadata": {},
   "source": [
    "# Secret Sharing\n",
    "\n",
    "Secret sharing is a technique widely used in secure multiparty computation. It relies on sharing the responsability of a certain information by simply splitting it in several shares. As always we explain by example.\n",
    "\n",
    "1. In the first part we will work on additive secret sharing\n",
    "2. A more complex technique, polynomial reconstruction and Shamir secret sharing.\n",
    "\n",
    "\n",
    "## Additive Secret Sharing\n",
    "\n",
    "As said previously, secret sharing consists (at least at this stage) in splitting the information into shares. First let's choose a random integer all the parties agree on:"
   ]
  },
  {
   "cell_type": "code",
   "execution_count": 1,
   "metadata": {},
   "outputs": [
    {
     "name": "stdout",
     "output_type": "stream",
     "text": [
      "We've chosen a random prime p=13931278444523239403\n"
     ]
    }
   ],
   "source": [
    "from crypt import RandomPrime\n",
    "from random import seed, randrange\n",
    "\n",
    "seed(1)\n",
    "\n",
    "bits = 64\n",
    "p = RandomPrime(bits, 100)\n",
    "\n",
    "# Although in this example we work with a random number it is not strictly necessary\n",
    "print(f\"We've chosen a random prime p={p}\")"
   ]
  },
  {
   "cell_type": "markdown",
   "metadata": {},
   "source": [
    "We choose the number of parties $N$ that will participate in the calculation and the secret we want to split. Then we generate N-1 random numbers in between 0 and $p$ and finally substract the secret to generate the Nth share, this way when we sum the shares they will add up to the secret."
   ]
  },
  {
   "cell_type": "code",
   "execution_count": 3,
   "metadata": {},
   "outputs": [
    {
     "name": "stdout",
     "output_type": "stream",
     "text": [
      "Splitting to shares:\n",
      "\n",
      "secret=100\n",
      "splits=[2988738511823670261, 8317795916909459611, 12560204332531295242, 2932013314605955158, 1063804813176098634]\n",
      "sum_shares=100\n"
     ]
    }
   ],
   "source": [
    "N = 5\n",
    "secret = 100\n",
    "\n",
    "def Share(secret, N, p):\n",
    "    # generate N-1 random shares\n",
    "    shares = [randrange(p) for _ in range(N-1)]\n",
    "    shares.append((secret-sum(shares))%p)\n",
    "    return shares\n",
    "\n",
    "def ReconstructShares(shares, p):\n",
    "    return (sum(shares)%p)\n",
    "\n",
    "shares = Share(secret, N, p)\n",
    "reconstruction = ReconstructShares(shares, p)\n",
    "print(f\"Splitting to shares:\\n\\nsecret={secret}\\nsplits={shares}\\nsum_shares={reconstruction}\")"
   ]
  },
  {
   "cell_type": "markdown",
   "metadata": {},
   "source": [
    "What we've done here is splitting the secret into N users so that when they all share their shares they can reconstruct the secret, no $N-1$ parties can reconstruct!. Beautiful right?\n",
    "\n",
    "Now, how much information can $N-1$ parties gain from the original secret? Here's the best, there's no information. This is true due to the randomicity of this process, since $N-1$ are chosen completely at random from a uniform distribution they contain no information and by construction the Nth number also. This concept is exactly the same as the one time pad encoding we have seen previously.\n",
    "\n"
   ]
  },
  {
   "cell_type": "markdown",
   "metadata": {},
   "source": [
    "## Defining sum on shares\n",
    "\n",
    "We can define addition and substraction on two vectors of shares. "
   ]
  },
  {
   "cell_type": "code",
   "execution_count": 4,
   "metadata": {},
   "outputs": [],
   "source": [
    "def SharesAdd(x, y, p):\n",
    "    return [(i+j)%p for i, j in zip(x,y)]\n",
    "\n",
    "def SharesSubstract(x, y, p):\n",
    "    return [(i-j)%p for i, j in zip(x,y)]"
   ]
  },
  {
   "cell_type": "markdown",
   "metadata": {},
   "source": [
    "It is possible to outsource a summation or a substraction by sharing the values of two integers in the following way. Supplose that Alice has the value $x$ and Bob the value $y$, both want to calculate $x+y$ without the other knowing their value (actually, if they know $x+y$ and one value they can know the other value). First what they do is split into $N$ shares:"
   ]
  },
  {
   "cell_type": "code",
   "execution_count": 6,
   "metadata": {},
   "outputs": [
    {
     "name": "stdout",
     "output_type": "stream",
     "text": [
      "I want to add secretly x and y:\n",
      "x=5074783073015767331\n",
      "y=6563452504667815066\n",
      "\n",
      "First task is to generate random shares for x and y and send them to the 5 outsourced parties:\n",
      "x_shares = [5800758372187592044, 3829813701094019164, 5855298019442606879, 502905284296215807, 3017286140518572840] which reconstructed is 5074783073015767331\n",
      "y_shares = [13401259479117932483, 5907593270417480351, 7217640161438925556, 7352045119361723576, 547471363378231906] which reconstructed is 6563452504667815066\n",
      "\n"
     ]
    }
   ],
   "source": [
    "x = randrange(0, p//2-1)\n",
    "y = randrange(0, p//2-1)\n",
    "\n",
    "print(f\"I want to add secretly x and y:\\nx={x}\\ny={y}\\n\")\n",
    "print(f\"First task is to generate random shares for x and y and send them to the {N} outsourced parties:\")\n",
    "x_shares = Share(x, N, p)\n",
    "y_shares = Share(y, N, p)\n",
    "\n",
    "x_rec = ReconstructShares(x_shares, p)\n",
    "y_rec = ReconstructShares(y_shares, p)\n",
    "\n",
    "print(f\"x_shares = {x_shares} which reconstructed is {x_rec}\")\n",
    "print(f\"y_shares = {y_shares} which reconstructed is {y_rec}\\n\")"
   ]
  },
  {
   "cell_type": "markdown",
   "metadata": {},
   "source": [
    "Now Alice has to send each share of $x$ and Bob its shares of $y$ to a different party"
   ]
  },
  {
   "cell_type": "code",
   "execution_count": 7,
   "metadata": {},
   "outputs": [
    {
     "name": "stdout",
     "output_type": "stream",
     "text": [
      "Party 0 gets the values x_0=5800758372187592044 and y_0=13401259479117932483\n",
      "Party 1 gets the values x_1=3829813701094019164 and y_1=5907593270417480351\n",
      "Party 2 gets the values x_2=5855298019442606879 and y_2=7217640161438925556\n",
      "Party 3 gets the values x_3=502905284296215807 and y_3=7352045119361723576\n",
      "Party 4 gets the values x_4=3017286140518572840 and y_4=547471363378231906\n"
     ]
    }
   ],
   "source": [
    "for i, (xs, ys) in enumerate(zip(x_shares, y_shares)):\n",
    "    print(f\"Party {i} gets the values x_{i}={xs} and y_{i}={ys}\")"
   ]
  },
  {
   "cell_type": "markdown",
   "metadata": {},
   "source": [
    "Each party calculates their sum of their shares and send it back to Alice"
   ]
  },
  {
   "cell_type": "code",
   "execution_count": 8,
   "metadata": {},
   "outputs": [
    {
     "name": "stdout",
     "output_type": "stream",
     "text": [
      "The final sum of shares is: \n",
      "x_y_sum=[5270739406782285124, 9737406971511499515, 13072938180881532435, 7854950403657939383, 3564757503896804746]\n"
     ]
    }
   ],
   "source": [
    "x_y_sum_shares = SharesAdd(x_shares, y_shares, p)\n",
    "print(f\"The final sum of shares is: \\nx_y_sum={x_y_sum_shares}\")"
   ]
  },
  {
   "cell_type": "markdown",
   "metadata": {},
   "source": [
    "Now is time to reconstruct the shares and find the secret"
   ]
  },
  {
   "cell_type": "code",
   "execution_count": 9,
   "metadata": {},
   "outputs": [
    {
     "name": "stdout",
     "output_type": "stream",
     "text": [
      "The reconstruction of the secret is 11638235577683582397, the sum of x=5074783073015767331 and y=6563452504667815066\n"
     ]
    }
   ],
   "source": [
    "x_y_sum = ReconstructShares(x_y_sum_shares, p)\n",
    "\n",
    "assert(x+y==x_y_sum)\n",
    "\n",
    "print(f\"The reconstruction of the secret is {x_y_sum}, the sum of x={x} and y={y}\")"
   ]
  },
  {
   "cell_type": "markdown",
   "metadata": {},
   "source": [
    "Done!. We've split two secrets, sent them to different parties that sum their shares and finally we get each contribution in a vector. We just need to add this vector to reconstruct as we did.\n"
   ]
  },
  {
   "cell_type": "markdown",
   "metadata": {},
   "source": [
    "### Problems with overflow\n",
    "\n",
    "You may notice that we've generated two random numbers in the range of $0$ to $p//2-1$, we do this to avoid overflow, this is, if we add two numbers and the sum is larger than $p$ then when we apply the modulo operation we are back to square one and the sum has no meaning. Let me show an example"
   ]
  },
  {
   "cell_type": "code",
   "execution_count": 10,
   "metadata": {},
   "outputs": [
    {
     "name": "stdout",
     "output_type": "stream",
     "text": [
      "Prime number selected: q=17\n",
      "Chosen x, y = 10, 8\n",
      "Modulo sum of x, y = (x+y)mod q = 1\n",
      "Overflow!\n"
     ]
    }
   ],
   "source": [
    "from crypt import isPrime\n",
    "\n",
    "# Choose a small prime\n",
    "q = 17 \n",
    "assert isPrime(q), f\"{q} is not prime, please choose a small prime\"\n",
    "print(f\"Prime number selected: q={q}\")\n",
    "\n",
    "# Choose two numbers smaller than p so that when are summed are larger than q\n",
    "x, y = 10, 8\n",
    "\n",
    "print(f\"Chosen x, y = {x}, {y}\")\n",
    "print(f\"Modulo sum of x, y = (x+y)mod q = {(x+y)%q}\")\n",
    "\n",
    "if x+y!=(x+y)%q:\n",
    "    print(\"Overflow!\")"
   ]
  },
  {
   "cell_type": "markdown",
   "metadata": {},
   "source": [
    "Let's do the same sum but using the shares"
   ]
  },
  {
   "cell_type": "code",
   "execution_count": 11,
   "metadata": {},
   "outputs": [
    {
     "name": "stdout",
     "output_type": "stream",
     "text": [
      "x_shares = [2, 2, 10, 14, 16] which reconstructed is 10\n",
      "y_shares = [3, 8, 6, 15, 10] which reconstructed is 8\n",
      "\n"
     ]
    }
   ],
   "source": [
    "x_shares = Share(x, N, q)\n",
    "y_shares = Share(y, N, q)\n",
    "\n",
    "x_rec = ReconstructShares(x_shares, q)\n",
    "y_rec = ReconstructShares(y_shares, q)\n",
    "\n",
    "print(f\"x_shares = {x_shares} which reconstructed is {x_rec}\")\n",
    "print(f\"y_shares = {y_shares} which reconstructed is {y_rec}\\n\")"
   ]
  },
  {
   "cell_type": "code",
   "execution_count": 12,
   "metadata": {},
   "outputs": [
    {
     "name": "stdout",
     "output_type": "stream",
     "text": [
      "Party 0 gets the values x_0=2 and y_0=3\n",
      "Party 1 gets the values x_1=2 and y_1=8\n",
      "Party 2 gets the values x_2=10 and y_2=6\n",
      "Party 3 gets the values x_3=14 and y_3=15\n",
      "Party 4 gets the values x_4=16 and y_4=10\n"
     ]
    }
   ],
   "source": [
    "for i, (xs, ys) in enumerate(zip(x_shares, y_shares)):\n",
    "    print(f\"Party {i} gets the values x_{i}={xs} and y_{i}={ys}\")"
   ]
  },
  {
   "cell_type": "code",
   "execution_count": 13,
   "metadata": {},
   "outputs": [
    {
     "name": "stdout",
     "output_type": "stream",
     "text": [
      "The reconstruction of the secret is 1, the sum of x=10 and y=8\n",
      "Overflow!, i.e. bad reconstruction.\n"
     ]
    }
   ],
   "source": [
    "x_y_sum_shares = SharesAdd(x_shares, y_shares, q)\n",
    "x_y_sum = ReconstructShares(x_y_sum_shares, q)\n",
    "\n",
    "print(f\"The reconstruction of the secret is {x_y_sum}, the sum of x={x} and y={y}\")\n",
    "if x+1!=x_y_sum:\n",
    "    print(f\"Overflow!, i.e. bad reconstruction.\")"
   ]
  },
  {
   "cell_type": "markdown",
   "metadata": {},
   "source": [
    "## Defining multiplication on shares\n",
    "\n",
    "It is possible to define a multiplication in this additive scheme, we will use N=3 parties for simplicity.\n",
    "\n",
    "The initial step is the same as before, Alice splits $x$ into shares while Bob does the same with $y$. Then they both send the values to each party, in this case:\n",
    "\n",
    "Party 0: $x_1$, $x_2$, $y_1$, $y_2$\n",
    "\n",
    "Party 1: $x_2$, $x_0$, $y_2$, $y_0$\n",
    "\n",
    "Party 2: $x_0$, $x_1$, $y_0$, $y_1$\n",
    "\n",
    "Nottice that, no party can fully reconstruct x or y, however here if two parties agree they can reconstruct a variable. For instance, if Party 0 and Party 1 are both malitious they can fully reconstruct x and y.\n",
    "\n",
    "\n",
    "Recall that x = [$x_0$, $x_1$, $x_2$] and y = [$y_0$, $y_1$, $y_2$]\n",
    "and \n",
    "\n",
    "$$x * y = x_1*y_1+x_1*y_2+x_2*y_1+$$\n",
    "$$x_2*y_0+x_2*y_2+x_0*y_2+$$\n",
    "$$+x_0*y_0+x_0*y_1+x_1*y_0$$\n",
    "\n",
    "Party 0 can compute line 0 (containing indexes 1 and 2), Party 1 can compute line 1 (contain indexes 0 and 2) and party 2 calculates line 2 (again contains indexes 0 and 1). Recall the permutation nature of this calculation. We define the following quantities:\n",
    "\n",
    "\n",
    "$$z_0 = x_1*y_1+x_1*y_2+x_2*y_1$$\n",
    "$$z_1 = x_2*y_0+x_2*y_2+x_0*y_2$$\n",
    "$$z_2 = x_0*y_0+x_0*y_1+x_1*y_0$$\n",
    "\n",
    "whose sum is $x*y$\n",
    "\n",
    "$$x*y = z = z_0 + z_1 + z_2$$"
   ]
  },
  {
   "cell_type": "code",
   "execution_count": 14,
   "metadata": {},
   "outputs": [],
   "source": [
    "x = 13\n",
    "y = 17\n",
    "\n",
    "# Assuming 3 parties all the time\n",
    "# Definition of the crossed terms\n",
    "def indexes(i):\n",
    "    # crossed intexes for 3 parties\n",
    "    if i==0:\n",
    "        return [1, 2]\n",
    "    if i==1:\n",
    "        return [2, 0]\n",
    "    if i==2:\n",
    "        return [0, 1]\n",
    "    return None\n",
    "\n",
    "def SharesToi(v, party):\n",
    "    #give the shares of v to party (party 0, 1 or 2)\n",
    "    i, j = indexes(party)\n",
    "    return [v[i], v[j]]\n",
    "\n",
    "def LocalMult(shares, p):   \n",
    "    #local multiplication and reshare\n",
    "    return Share(shares[0]*shares[2]+shares[0]*shares[3]+shares[1]*shares[2], 3, p)"
   ]
  },
  {
   "cell_type": "markdown",
   "metadata": {},
   "source": [
    "From the above code the indexes function gives the indexes of $x$ and $y$ to be shared with party i "
   ]
  },
  {
   "cell_type": "code",
   "execution_count": 15,
   "metadata": {},
   "outputs": [
    {
     "name": "stdout",
     "output_type": "stream",
     "text": [
      "Shares of Party 0: x1,x2,y1,y2\n",
      "Shares of Party 1: x2,x0,y2,y0\n",
      "Shares of Party 2: x0,x1,y0,y1\n"
     ]
    }
   ],
   "source": [
    "for k in range(3):\n",
    "    i, j = indexes(k)\n",
    "    print(f\"Shares of Party {k}: x{i},x{j},y{i},y{j}\")"
   ]
  },
  {
   "cell_type": "markdown",
   "metadata": {},
   "source": [
    "Now, Alice (Party 0) and Bob (Party 1) split their values of $x$ and $y$ and send their needed shares between themselves.\n",
    "\n",
    "Alice (Party 0) sends to Bob (Party 1): $x_2$ and $x_0$\n",
    "\n",
    "Alice (Party 0) sends to Party 3: $x_0$ and $x_1$\n",
    "\n",
    "Bob (Party 1) sends to Alice (Party 0): $y_1$ and $y_2$\n",
    "\n",
    "Bob (Party 1) sends to Party 3: $y_0$ and $y_1$\n",
    "\n",
    "This is done in the following chunk of code (recall that any of the participants cannot reconstruct either $x$ or $y$)."
   ]
  },
  {
   "cell_type": "code",
   "execution_count": 16,
   "metadata": {},
   "outputs": [
    {
     "name": "stdout",
     "output_type": "stream",
     "text": [
      "Party 0 gets [3379863109552534974, 3987565969275602702, 3674884782689130710, 6422479429012434161]\n",
      "Party 1 gets [3987565969275602702, 6563849365695101740, 6422479429012434161, 3833914232821674549]\n",
      "Party 2 gets [6563849365695101740, 3379863109552534974, 3833914232821674549, 3674884782689130710]\n"
     ]
    }
   ],
   "source": [
    "x_shares = Share(x, 3, p)\n",
    "y_shares = Share(y, 3, p)\n",
    "\n",
    "party_shares_send = []\n",
    "\n",
    "for party in range(3):\n",
    "    sharex0, sharex1 = SharesToi(x_shares, party)\n",
    "    sharey0, sharey1 = SharesToi(y_shares, party)\n",
    "    \n",
    "    party_shares_send.append([sharex0, sharex1, sharey0, sharey1])\n",
    "    print(f\"Party {party} gets {party_shares_send[-1]}\")"
   ]
  },
  {
   "cell_type": "markdown",
   "metadata": {},
   "source": [
    "Now each party performs the computation on their shares, meaning:\n",
    "\n",
    "$$z_0 = x_1*y_1+x_1*y_2+x_2*y_1$$\n",
    "$$z_1 = x_2*y_0+x_2*y_2+x_0*y_2$$\n",
    "$$z_2 = x_0*y_0+x_0*y_1+x_1*y_0$$\n",
    "\n",
    "This is done by the function LocalMult defined above. Recall that LocalMult do not return make public directly $z_i$ but instead it secretly shares the output into 3. Then all these shares are shared among the parties. Look at the following example"
   ]
  },
  {
   "cell_type": "code",
   "execution_count": 22,
   "metadata": {},
   "outputs": [
    {
     "name": "stdout",
     "output_type": "stream",
     "text": [
      "Party 0 does LocalMult and splits the result: [5637747036731039068, 13084718138029528787, 766848787150385078]\n",
      "Party 1 does LocalMult and splits the result: [11102959753710205433, 2329820468563026084, 7964458457591000346]\n",
      "Party 2 does LocalMult and splits the result: [3813690088035803253, 10062569013143482063, 962302035138487721]\n",
      "\n",
      "Parties start a phase of communication of the above shares: \n",
      "Party 0 gets [5637747036731039068, 11102959753710205433, 3813690088035803253]\n",
      "Party 1 gets [13084718138029528787, 2329820468563026084, 10062569013143482063]\n",
      "Party 2 gets [766848787150385078, 7964458457591000346, 962302035138487721]\n",
      "\n",
      "Each party sums their shares and send it to the others\n",
      "Party 0 sums to 6623118433953808351\n",
      "Party 1 sums to 11545829175212797531\n",
      "Party 2 sums to 9693609279879873145\n",
      "\n",
      "\n",
      "The sum of (6623118433953808351, 11545829175212797531, 9693609279879873145) modulo 13931278444523239403 is 221, that is the multiplication of 13 and 17 as expected\n"
     ]
    }
   ],
   "source": [
    "z = []\n",
    "for i in range(3):\n",
    "    z.append(LocalMult(party_shares_send[i], p))\n",
    "    print(f\"Party {i} does LocalMult and splits the result: {z[-1]}\")\n",
    "\n",
    "\n",
    "print(\"\\nParties start a phase of communication of the above shares: \")\n",
    "z_reshared = []\n",
    "for i in range(3):\n",
    "    z_reshared.append([z[0][i], z[1][i], z[2][i]])\n",
    "    print(f\"Party {i} gets {z_reshared[-1]}\")\n",
    "    \n",
    "print(\"\\nEach party sums their shares and send it to the others\")\n",
    "final_value = []\n",
    "for i in range(3):\n",
    "    s = sum(z_reshared[i])%p\n",
    "    print(f\"Party {i} sums to {s}\")\n",
    "    final_value.append(s)\n",
    "\n",
    "\n",
    "z = ReconstructShares([final_value[0]+final_value[1]+final_value[2]], p)\n",
    "\n",
    "assert(z==x*y)\n",
    "\n",
    "\n",
    "print(f\"\\n\\nThe sum of {final_value[0], final_value[1], final_value[2]} \\\n",
    "modulo {p} is {z}, that is the multiplication of {x} and {y} as expected\")"
   ]
  },
  {
   "cell_type": "markdown",
   "metadata": {},
   "source": [
    "We've done it!. We applied a protocol to do secure multiplication on additive secret sharing with three parties. Now you may ask... Can't we do multiplication with just the original data holders Alice and Bob? (just 2 parties) The answer is no, we need the third party to compute other cross terms and keep $x$ and $y$ secret in the information-theoretic sense. However, there are other aproaches based on cryptography (i.e. the adversary can get the information with enough computing power)"
   ]
  }
 ],
 "metadata": {
  "kernelspec": {
   "display_name": "Python 3",
   "language": "python",
   "name": "python3"
  },
  "language_info": {
   "codemirror_mode": {
    "name": "ipython",
    "version": 3
   },
   "file_extension": ".py",
   "mimetype": "text/x-python",
   "name": "python",
   "nbconvert_exporter": "python",
   "pygments_lexer": "ipython3",
   "version": "3.7.5"
  }
 },
 "nbformat": 4,
 "nbformat_minor": 4
}
