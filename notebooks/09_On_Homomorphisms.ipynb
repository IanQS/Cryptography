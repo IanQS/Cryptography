{
 "cells": [
  {
   "cell_type": "markdown",
   "metadata": {},
   "source": [
    "# On homomorphisms\n",
    "\n",
    "This section is devoted to understand how can we compute on the ciphertext sums and multiplications. At the end of it we will have an idea on what is fully homomorphic encryption."
   ]
  },
  {
   "cell_type": "code",
   "execution_count": 1,
   "metadata": {},
   "outputs": [],
   "source": [
    "from crypt import PaillierKeyGenerator, PaillierEncrypt, PaillierDecrypt\n",
    "from crypt import RSAKeyGenerator, RSAEncrypt, RSADecrypt\n",
    "from crypt import ElGamalKeyGenerator, ElGamalEncrypt, ElGamalDecrypt\n",
    "\n",
    "from random import randrange, seed"
   ]
  },
  {
   "cell_type": "code",
   "execution_count": 2,
   "metadata": {},
   "outputs": [],
   "source": [
    "bits = 64\n",
    "seed(1)\n",
    "\n",
    "PublicKeyGamal, PrivateKeyGamal = ElGamalKeyGenerator(bits)\n",
    "PublicKeyPaillier, PrivateKeyPaillier = PaillierKeyGenerator(bits)\n",
    "PublicKeyRSA, PrivateKeyRSA = RSAKeyGenerator(bits)\n",
    "\n",
    "m1, m2, m3 = randrange(2, 2**(bits//2)), randrange(2, 2**(bits//2)), randrange(2, 2**(bits//2))"
   ]
  },
  {
   "cell_type": "code",
   "execution_count": null,
   "metadata": {},
   "outputs": [],
   "source": []
  },
  {
   "cell_type": "code",
   "execution_count": null,
   "metadata": {},
   "outputs": [],
   "source": []
  },
  {
   "cell_type": "code",
   "execution_count": null,
   "metadata": {},
   "outputs": [],
   "source": []
  },
  {
   "cell_type": "code",
   "execution_count": null,
   "metadata": {},
   "outputs": [],
   "source": []
  }
 ],
 "metadata": {
  "kernelspec": {
   "display_name": "Python 3",
   "language": "python",
   "name": "python3"
  },
  "language_info": {
   "codemirror_mode": {
    "name": "ipython",
    "version": 3
   },
   "file_extension": ".py",
   "mimetype": "text/x-python",
   "name": "python",
   "nbconvert_exporter": "python",
   "pygments_lexer": "ipython3",
   "version": "3.7.5"
  }
 },
 "nbformat": 4,
 "nbformat_minor": 4
}
