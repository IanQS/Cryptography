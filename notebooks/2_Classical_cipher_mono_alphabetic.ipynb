{
 "cells": [
  {
   "cell_type": "markdown",
   "metadata": {},
   "source": [
    "## Mono-alphabetic sustitution cipher\n",
    "\n",
    "We've seen that the shift ciphertext is easy to break as the number of possible keys was 26. A better approach would be to simply substitute each letter of the alphabet by another random letter. This way we would have 26! different permutations (that is a number of the order of $10^{26}$), here we cannot do exhaustive search, it would take so long for our computer...\n",
    "\n",
    "Let's see an example of this encryption scheme"
   ]
  },
  {
   "cell_type": "code",
   "execution_count": 1,
   "metadata": {},
   "outputs": [
    {
     "name": "stdout",
     "output_type": "stream",
     "text": [
      "Plaintext characters are: \n",
      "\tabcdefghijklmnopqrstuvwxyz\n",
      "Equivalent in one random mono-alphabetic order: \n",
      "\tetckfuswqjgnaopybxmvhzdlir\n"
     ]
    }
   ],
   "source": [
    "import string\n",
    "from copy import deepcopy\n",
    "from random import randint, seed\n",
    "\n",
    "seed(1) #fix seed so that we can reproduce the results\n",
    "characters = string.ascii_lowercase\n",
    "\n",
    "def random_permutation(characters):\n",
    "    old_chars = list(deepcopy(characters))\n",
    "    permut_ = []\n",
    "    \n",
    "    while len(old_chars)>0:\n",
    "        elem = old_chars.pop(randint(0,len(old_chars)-1))\n",
    "        permut_.append(elem)\n",
    "    return ''.join(permut_)\n",
    "    \n",
    "print(\"Plaintext characters are: \\n\\t{}\".format(characters))\n",
    "print(\"Equivalent in one random mono-alphabetic order: \\n\\t{}\".format(random_permutation(characters)))"
   ]
  },
  {
   "cell_type": "markdown",
   "metadata": {},
   "source": [
    "Alice and Bob just have to meet once and exchange the key which is now lenght 26 (the random substitution). In this particular case $a$ in the plaintext will be substituted by $e$ in the ciphertext, $b$ by $t$... according to the results above. Let's write the functions to encrypt and decrypt"
   ]
  },
  {
   "cell_type": "code",
   "execution_count": 2,
   "metadata": {},
   "outputs": [],
   "source": [
    "# The random key generator is simply the permutation of the original characters\n",
    "key_generator = lambda c: random_permutation(c)\n",
    "\n",
    "def mono_encrypt(plaintext, characters, k):\n",
    "    convert_dict = {}\n",
    "    for p, c in zip(characters, k):\n",
    "        convert_dict[p] = c    \n",
    "    convert_dict[' '] = ' '\n",
    "    \n",
    "    c = ''\n",
    "    for p in plaintext:\n",
    "        c += convert_dict[p]\n",
    "        \n",
    "    return c\n",
    "\n",
    "\n",
    "def mono_decrypt(ciphertext, characters, k):\n",
    "    convert_dict = {}\n",
    "    for p, c in zip(characters, k):\n",
    "        convert_dict[c] = p    \n",
    "    convert_dict[' '] = ' '\n",
    "    \n",
    "    c = ''\n",
    "    for p in  ciphertext:\n",
    "        c += convert_dict[p]\n",
    "        \n",
    "    return c"
   ]
  },
  {
   "cell_type": "markdown",
   "metadata": {},
   "source": [
    "Now lets encrypt and decrypt a message using a new fresh generated key"
   ]
  },
  {
   "cell_type": "code",
   "execution_count": 4,
   "metadata": {},
   "outputs": [
    {
     "name": "stdout",
     "output_type": "stream",
     "text": [
      "The key is: xkzyrotglmwujhqapesfvcindb\n",
      "\n",
      "\n",
      "THE SENTENCE:\n",
      "\n",
      "it was a bright cold day in april and the clocks were striking thirteen winston smith his chin nuzzled into his breast in an effort to escape the vile wind slipped quickly through the glass doors of victory mansions though not quickly enough to prevent a swirl of gritty dust from entering along with him\n",
      "\n",
      "CIPHERTEXT:\n",
      "\n",
      "lf ixs x keltgf zquy yxd lh xaelu xhy fgr zuqzws irer sfelwlht fglefrrh ilhsfqh sjlfg gls zglh hvbbury lhfq gls kerxsf lh xh rooqef fq rszxar fgr clur ilhy sulaary pvlzwud fgeqvtg fgr tuxss yqqes qo clzfqed jxhslqhs fgqvtg hqf pvlzwud rhqvtg fq aercrhf x sileu qo telffd yvsf oeqj rhfrelht xuqht ilfg glj\n",
      "\n",
      "PLAINTEXT:\n",
      "\n",
      "it was a bright cold day in april and the clocks were striking thirteen winston smith his chin nuzzled into his breast in an effort to escape the vile wind slipped quickly through the glass doors of victory mansions though not quickly enough to prevent a swirl of gritty dust from entering along with him\n"
     ]
    }
   ],
   "source": [
    "k = key_generator(characters)\n",
    "sentence = 'it was a bright cold day in april and the clocks were striking thirteen winston smith his chin nuzzled into his breast in an effort to escape the vile wind slipped quickly through the glass doors of victory mansions though not quickly enough to prevent a swirl of gritty dust from entering along with him'\n",
    "\n",
    "ciphertext = mono_encrypt(sentence, characters, k)\n",
    "plaintext = mono_decrypt(ciphertext, characters, k)\n",
    "print(\"The key is: {}\\n\\n\".format(k))\n",
    "print(\"THE SENTENCE:\\n\\n{}\\n\\nCIPHERTEXT:\\n\\n{}\\n\\nPLAINTEXT:\\n\\n{}\".format(sentence, ciphertext, plaintext))"
   ]
  },
  {
   "cell_type": "markdown",
   "metadata": {},
   "source": [
    "Seems to work well, but hold your horses... There is a plausible attack we can carry. Imagine the attacker knows the language in which Alice and Bob are comunciating, then he gained a lot of information with that!. He knows the distribution/frequency of all letters. Let me load George Orwell's book to estimate the probabilities of letters in English language"
   ]
  },
  {
   "cell_type": "code",
   "execution_count": 5,
   "metadata": {},
   "outputs": [],
   "source": [
    "from utils import download_data, process_load_textfile\n",
    "import string\n",
    "import os\n",
    "\n",
    "url = 'http://gutenberg.net.au/ebooks01/0100021.txt'\n",
    "filename = 'Nineteen-eighty-four_Orwell.txt'\n",
    "download_path = '/'.join(os.getcwd().split('/')[:-1]) + '/data/'\n",
    "\n",
    "#download data to specified path\n",
    "download_data(url, filename, download_path)\n",
    "#load data and process\n",
    "data = process_load_textfile(filename, download_path)#.replace(\" \",\"\")"
   ]
  },
  {
   "cell_type": "code",
   "execution_count": 6,
   "metadata": {},
   "outputs": [
    {
     "name": "stdout",
     "output_type": "stream",
     "text": [
      "The lenght of the book is 569427 characters\n"
     ]
    }
   ],
   "source": [
    "print(\"The lenght of the book is {} characters\".format(len(list(data))))"
   ]
  },
  {
   "cell_type": "code",
   "execution_count": 7,
   "metadata": {},
   "outputs": [
    {
     "data": {
      "text/plain": [
       "'  table width border  tr td bgcolorffeefont color sizep styletextaligncenterba hrefhttpgutenbergnetau targetblankproject gutenberg australiaabr bfontfont color sizeia treasuretrove of literatureibr fonttreasure found hidden with no evidence of ownershipptd tr table  ad goes here  pre    title nineteen eightyfour author george orwell pseudonym of eric blair   a project gutenberg of australia ebook  ebook no  txt language   english date first posted august  date most recently updated november   project gutenberg of australia ebooks are created from printed editions which are in the public domain in australia unless a copyright notice is included we do not keep any ebooks in compliance with a particular paper edition  copyright laws are changing all over the world be sure to check the copyright laws for your country before downloading or redistributing this file  this ebook is made available at no cost and with almost no restrictions whatsoever you may copy it give it away or reuse it und'"
      ]
     },
     "execution_count": 7,
     "metadata": {},
     "output_type": "execute_result"
    }
   ],
   "source": [
    "#just a sample the first 1000 characters to see how it looks like\n",
    "data[:1000]"
   ]
  },
  {
   "cell_type": "markdown",
   "metadata": {},
   "source": [
    "We assume that english letters occur with the distribution of Orwell's book so we count the letters as follows:"
   ]
  },
  {
   "cell_type": "code",
   "execution_count": 24,
   "metadata": {},
   "outputs": [
    {
     "name": "stdout",
     "output_type": "stream",
     "text": [
      "{'a': 36548, 'b': 7668, 'c': 11642, 'd': 19033, 'e': 59667, 'f': 10203, 'g': 9298, 'h': 29178, 'i': 31969, 'j': 464, 'k': 3612, 'l': 18673, 'm': 10830, 'n': 32004, 'o': 35073, 'p': 8627, 'q': 409, 'r': 26158, 's': 28987, 't': 43918, 'u': 13047, 'v': 4315, 'w': 12247, 'x': 793, 'y': 9425, 'z': 308}\n"
     ]
    }
   ],
   "source": [
    "def count_char_freqs(text, characters = string.ascii_lowercase):\n",
    "    freqs = {}\n",
    "    for letter in characters:\n",
    "        f = text.count(letter)\n",
    "        freqs[letter] = f\n",
    "    return freqs\n",
    "\n",
    "english_frequencies = count_char_freqs(data)\n",
    "print(english_frequencies)"
   ]
  },
  {
   "cell_type": "markdown",
   "metadata": {},
   "source": [
    "Let's take a random sample of length 0.01 the size of the original text and encrypt it. Then we will try to infer some information just looking at the ciphertext letter frequencies and knowing the english letter distrbution."
   ]
  },
  {
   "cell_type": "code",
   "execution_count": 35,
   "metadata": {},
   "outputs": [
    {
     "name": "stdout",
     "output_type": "stream",
     "text": [
      "We sample a chunk of 28471 characters from the book starting at position 113174\n",
      "Using the private key k = xkzyrotglmwujhqapesfvcindb\n",
      "\n",
      "\n",
      "Sampled Plaintext:\n",
      "uch as five minutes and it was possible that his features had not been perfectly under control it was terribly dangerous to let your thoughts wander when you were in any public place or within range of a telescreen the smallest thing could give you away a nervous tic an unconscious look of anxiety a habit of muttering to yourselfanything that carried with it the suggestion of abnormality of having something to hide in any case to wear an improper expression on your face to look incredulous when a victory was announced for example was itself a punishable offence there was even a word for it in newspeak facecrime it was called  the girl had turned her back on him again perhaps after all she was not really following him about perhaps it was coincidence that she had sat so close to him two days running his cigarette had gone out and he laid it carefully on the edge of the table he would finish smoking it after work if he could keep the tobacco in it quite likely the person at the next table was a spy of the thought police and quite likely he would be in the cellars of the ministry of love within three days but a cigarette end must not be wasted syme had folded up his strip of paper and stowed it away in his pocket parsons had begun talking again  did i ever tell you old boy he said chuckling round the stem of his pipe about the time when those two nippers of mine set fire to the old marketwomans skirt because they saw her wrapping up sausages in a poster of bb sneaked up behind her and set fire to it with a box of matches burned her quite badly i believe little beggars eh but keen as mustard thats a firstrate training they give them in the spies nowadaysbetter than in my day even what dyou thinks the latest thing theyve served them out with ear trumpets for listening through keyholes my little girl brought one home the other nighttried it out on our sittingroom door and reckoned she could hear twice as much as with her ear to the hole of course its only a toy mind you still gives em the right idea eh  at this moment the telescreen let out a piercing whistle it was the signal to return to work all three men sprang to their feet to join in the struggle round the lifts and the remaining tobacco fell out of winstons cigarette     chapter     winston was writing in his diary      it was three years ago it was on a dark evening in a narrow sidestreet near one of the big railway stations she was standing near a doorway in the wall under a street lamp that hardly gave any light she had a young face painted very thick it was really the paint that appealed to me the whiteness of it like a mask and the bright red lips party women never paint their faces there was nobody else in the street and no telescreens she said two dollars i   for the moment it was too difficult to go on he shut his eyes and pressed his fingers against them trying to squeeze out the vision that kept recurring he had an almost overwhelming temptation to shout a string of filthy words at the top of his voice or to bang his head against the wall to kick over the table and hurl the inkpot through the windowto do any violent or noisy or painful thing that might black out the memory that was tormenting him  your worst enemy he reflected was your own nervous system at any moment the tension inside you was liable to translate itself into some visible symptom he thought of a man whom he had passed in the street a few weeks back a quite ordinarylooking man a party member aged thirtyfive to forty tallish and thin carrying a briefcase they were a few metres apart when the left side of the mans face was suddenly contorted by a sort of spasm it happened again just as they were passing one another it was only a twitch a quiver rapid as the clicking of a camera shutter but obviously habitual he remembered thinking at the time that poor devil is done for and what was frightening was that the action was quite possibly unconscious the most deadly danger of all was talking in your sleep there was no way of guarding against that so far as he could see  he drew his breath and went on writing      i went with her through the doorway and across a backyard into a basement kitchen there was a bed against the wall and a lamp on the table turned down very low she   his teeth were set on edge he would have liked to spit simultaneously with the woman in the basement kitchen he thought of katharine his wife winston was marriedhad been married at any rate probably he still was married so far as he knew his wife was not dead he seemed to breathe again the warm stuffy odour of the basement kitchen an odour compounded of bugs and dirty clothes and villainous cheap scent but nevertheless alluring because no woman of the party ever used scent or could be imagined as doing so only the proles used scent in his mind the smell of it was inextricably mixed up with fornication  when he had gone with that woman it had been his first lapse in two years or thereabouts consorting with prostitutes was forbidden of course but it was one of those rules that you could occasionally nerve yourself to break it was dangerous but it was not a lifeanddeath matter to be caught with a prostitute might mean five years in a forcedlabour camp not more if you had committed no other offence and it was easy enough provided that you could avoid being caught in the act the poorer quarters swarmed with women who were ready to sell themselves some could even be purchased for a bottle of gin which the proles were not supposed to drink tacitly the party was even inclined to encourage prostitution as an outlet for instincts which could not be altogether suppressed mere debauchery did not matter very much so long as it was furtive and joyless and only involved the women of a submerged and despised class the unforgivable crime was promiscuity between party members butthough this was one of the crimes that the accused in the great purges invariably confessed toit was difficult to imagine any such thing actually happening  the aim of the party was not merely to prevent men and women from forming loyalties which it might not be able to control its real undeclared purpose was to remove all pleasure from the sexual act not love so much as eroticism was the enemy inside marriage as well as outside it all marriages between party members had to be approved by a committee appointed for the purpose andthough the principle was never clearly statedpermission was always refused if the couple concerned gave the impression of being physically attracted to one another the only recognized purpose of marriage was to beget children for the service of the party sexual intercourse was to be looked on as a slightly disgusting minor operation like having an enema this again was never put into plain words but in an indirect way it was rubbed into every party member from childhood onwards there were even organizations such as the junior antisex league which advocated complete celibacy for both sexes all children were to be begotten by artificial insemination artsem it was called in newspeak and brought up in public institutions this winston was aware was not meant altogether seriously but somehow it fitted in with the general ideology of the party the party was trying to kill the sex instinct or if it could not be killed then to distort it and dirty it he did not know why this was so but it seemed natural that it should be so and as far as the women were concerned the partys efforts were largely successful  he thought again of katharine it must be nine tennearly eleven years since they had parted it was curious how seldom he thought of her for days at a time he was capable of forgetting that he had ever been married they had only been together for about fifteen months the party did not permit divorce but it rather encouraged separation in cases where there were no children  katharine was a tall fairhaired girl very straight with splendid movements she had a bold aquiline face a face that one might have called noble until one discovered that there was as nearly as possible nothing behind it very early in her married life he had decidedthough perhaps it was only that he knew her more intimately than he knew most peoplethat she had without exception the most stupid vulgar empty mind that he had ever encountered she had not a thought in her head that was not a slogan and there was no imbecility absolutely none that she was not capable of swallowing if the party handed it out to her the human soundtrack he nicknamed her in his own mind yet he could have endured living with her if it had not been for just one thingsex  as soon as he touched her she seemed to wince and stiffen to embrace her was like embracing a jointed wooden image and what was strange was that even when she was clasping him against her he had the feeling that she was simultaneously pushing him away with all her strength the rigidity of her muscles managed to convey that impression she would lie there with shut eyes neither resisting nor cooperating but submitting it was extraordinarily embarrassing and after a while horrible but even then he could have borne living with her if it had been agreed that they should remain celibate but curiously enough it was katharine who refused this they must she said produce a child if they could so the performance continued to happen once a week quite regularly whenever it was not impossible she even used to remind him of it in the morning as something which had to be done that evening and which must not be forgotten she had two names for it one was making a baby and the other was our duty to the party yes she had actually used that phrase quite soon he grew to have a feeling of positive dread when the appointed day came round but luckily no child appeared and in the end she agreed to give up trying and soon afterwards they parted  winston sighed inaudibly he picked up his pen again and wrote      she threw herself down on the bed and at once without any kind of preliminary in the most coarse horrible way you can imagine pulled up her skirt i   he saw himself standing there in the dim lamplight with the smell of bugs and cheap scent in his nostrils and in his heart a feeling of defeat and resentment which even at that moment was mixed up with the thought of katharines white body frozen for ever by the hypnotic power of the party why did it always have to be like this why could he not have a woman of his own instead of these filthy scuffles at intervals of years but a real love affair was an almost unthinkable event the women of the party were all alike chastity was as deep ingrained in them as party loyalty by careful early conditioning by games and cold water by the rubbish that was dinned into them at school and in the spies and the youth league by lectures parades songs slogans and martial music the natural feeling had been driven out of them his reason told him that there must be exceptions but his heart did not believe it they were all impregnable as the party intended that they should be and what he wanted more even than to be loved was to break down that wall of virtue even if it were only once in his whole life the sexual act successfully performed was rebellion desire was thoughtcrime even to have awakened katharine if he could have achieved it would have been like a seduction although she was his wife  but the rest of the story had got to be written down he wrote      i turned up the lamp when i saw her in the light   after the darkness the feeble light of the paraffin lamp had seemed very bright for the first time he could see the woman properly he had taken a step towards her and then halted full of lust and terror he was painfully conscious of the risk he had taken in coming here it was perfectly possible that the patrols would catch him on the way out for that matter they might be waiting outside the door at this moment if he went away without even doing what he had come here to do  it had got to be written down it had got to be confessed what he had suddenly seen in the lamplight was that the woman was old the paint was plastered so thick on her face that it looked as though it might crack like a cardboard mask there were streaks of white in her hair but the truly dreadful detail was that her mouth had fallen a little open revealing nothing except a cavernous blackness she had no teeth at all  he wrote hurriedly in scrabbling handwriting      when i saw her in the light she was quite an old woman fifty years old at least but i went ahead and did it just the same   he pressed his fingers against his eyelids again he had written it down at last but it made no difference the therapy had not worked the urge to shout filthy words at the top of his voice was as strong as ever     chapter     if there is hope wrote winston it lies in the proles  if there was hope it must lie in the proles because only there in those swarming disregarded masses  per cent of the population of oceania could the force to destroy the party ever be generated the party could not be overthrown from within its enemies if it had any enemies had no way of coming together or even of identifying one another even if the legendary brotherhood existed as just possibly it might it was inconceivable that its members could ever assemble in larger numbers than twos and threes rebellion meant a look in the eyes an inflexion of the voice at the most an occasional whispered word but the proles if only they could somehow become conscious of their own strength would have no need to conspire they needed only to rise up and shake themselves like a horse shaking off flies if they chose they could blow the party to pieces tomorrow morning surely sooner or later it must occur to them to do it and yet  he remembered how once he had been walking down a crowded street when a tremendous shout of hundreds of voices womens voiceshad burst from a sidestreet a little way ahead it was a great formidable cry of anger and despair a deep loud ohooooh that went humming on like the reverberation of a bell his heart had leapt its started he had thought a riot the proles are breaking loose at last when he had reached the spot it was to see a mob of two or three hundred women crowding round the stalls of a street market with faces as tragic as though they had been the doomed passengers on a sinking ship but at this moment the general despair broke down into a multitude of individual quarrels it appeared that one of the stalls had been selling tin saucepans they were wretched flimsy things but cookingpots of any kind were always difficult to get now the supply had unexpectedly given out the successful women bumped and jostled by the rest were trying to make off with their saucepans while dozens of others clamoured round the stall accusing the stallkeeper of favouritism and of having more saucepans somewhere in reserve there was a fresh outburst of yells two bloated women one of them with her hair coming down had got hold of the same saucepan and were trying to tear it out of one anothers hands for a moment they were both tugging and then the handle came off winston watched them disgustedly and yet just for a moment what almost frightening power had sounded in that cry from only a few hundred throats why was it that they could never shout like that about anything that mattered  he wrote      until they become conscious they will never rebel and until after they have rebelled they cannot become conscious   that he reflected might almost have been a transcription from one of the party textbooks the party claimed of course to have liberated the proles from bondage before the revolution they had been hideously oppressed by the capitalists they had been starved and flogged women had been forced to work in the coal mines women still did work in the coal mines as a matter of fact children had been sold into the factories at the age of six but simultaneously true to the principles of doublethink the party taught that the proles were natural inferiors who must be kept in subjection like animals by the application of a few simple rules in reality very little was known about the proles it was not necessary to know much so long as they continued to work and breed their other activities were without importance left to themselves like cattle turned loose upon the plains of argentina they had reverted to a style of life that appeared to be natural to them a sort of ancestral pattern they were born they grew up in the gutters they went to work at twelve they passed through a brief blossomingperiod of beauty and sexual desire they married at twenty they were middleaged at thirty they died for the most part at sixty heavy physical work the care of home and children petty quarrels with neighbours films football beer and above all gambling filled up the horizon of their minds to keep them in control was not difficult a few agents of the thought police moved always among them spreading false rumours and marking down and eliminating the few individuals who were judged capable of becoming dangerous but no attempt was made to indoctrinate them with the ideology of the party it was not desirable that the proles should have strong political feelings all that was required of them was a primitive patriotism which could be appealed to whenever it was necessary to make them accept longer workinghours or shorter rations and even when they became discontented as they sometimes did their discontent led nowhere because being without general ideas they could only focus it on petty specific grievances the larger evils invariably escaped their notice the great majority of proles did not even have telescreens in their homes even the civil police interfered with them very little there was a vast amount of criminality in london a whole worldwithinaworld of thieves bandits prostitutes drugpeddlers and racketeers of every description but since it all happened among the proles themselves it was of no importance in all questions of morals they were allowed to follow their ancestral code the sexual puritanism of the party was not imposed upon them promiscuity went unpunished divorce was permitted for that matter even religious worship would have been permitted if the proles had shown any sign of needing or wanting it they were beneath suspicion as the party slogan put it proles and animals are free  winston reached down and cautiously scratched his varicose ulcer it had begun itching again the thing you invariably came back to was the impossibility of knowing what life before the revolution had really been like he took out of the drawer a copy of a childrens history textbook which he had borrowed from mrs parsons and began copying a passage into the diary      in the old days it ran before the glorious revolution london was not the beautiful city that we know today it was a dark dirty miserable place where hardly anybody had enough to eat and where hundreds and thousands of poor people had no boots on their feet and not even a roof to sleep under children no older than you had to work twelve hours a day for cruel masters who flogged them with whips if they worked too slowly and fed them on nothing but stale breadcrusts and water but in among all this terrible poverty there were just a few great big beautiful houses that were lived in by rich men who had as many as thirty servants to look after them these rich men were called capitalists they were fat ugly men with wicked faces like the one in the picture on the opposite page you can see that he is dressed in a long black coat which was called a frock coat and a queer shiny hat shaped like a stovepipe which was called a top hat this was the uniform of the capitalists and no one else was allowed to wear it the capitalists owned everything in the world and everyone else was their slave they owned all the land all the houses all the factories and all the money if anyone disobeyed them they could throw them into prison or they could take his job away and starve him to death when any ordinary person spoke to a capitalist he had to cringe and bow to him and take off his cap and address him as sir the chief of all the capitalists was called the king and   but he knew the rest of the catalogue there would be mention of the bishops in their lawn sleeves the judges in their ermine robes the pillory the stocks the treadmill the catonine tails the lord mayors banquet and the practice of kissing the popes toe there was also something called the jus primae noctis which would probably not be mentioned in a textbook for children it was the law by which every capitalist had the right to sleep with any woman working in one of his factories  how could you tell how much of it was lies it might be true that the average human being was better off now than he had been before the revolution the only evidence to the contrary was the mute protest in your own bones the instinctive feeling that the conditions you lived in were intolerable and that at some other time they must have been different it struck him that the truly characteristic thing about modern life was not its cruelty and insecurity but simply its bareness its dinginess its listlessness life if you looked about you bore no resemblance not only to the lies that streamed out of the telescreens but even to the ideals that the party was trying to achieve great areas of it even for a party member were neutral and nonpolitical a matter of slogging through dreary jobs fighting for a place on the tube darning a wornout sock cadging a saccharine tablet saving a cigarette end the ideal set up by the party was something huge terrible and glitteringa world of steel and concrete of monstrous machines and terrifying weaponsa nation of warriors and fanatics marching forward in perfect unity all thinking the same thoughts and shouting the same slogans perpetually working fighting triumphing persecutingthree hundred million people all with the same face the reality was decaying dingy cities where underfed people shuffled to and fro in leaky shoes in patchedup nineteenthcentury houses that smelt always of cabbage and bad lavatories he seemed to see a vision of london vast and ruinous city of a million dustbins and mixed up with it was a picture of mrs parsons a woman with lined face and wispy hair fiddling helplessly with a blocked wastepipe  he reached down and scratched his ankle again day and night the telescreens bruised your ears with statistics proving that people today had more food more clothes better houses better recreationsthat they lived longer worked shorter hours were bigger healthier stronger happier more intelligent better educated than the people of fifty years ago not a word of it could ever be proved or disproved the party claimed for example that today  per cent of adult proles were literate before the revolution it was said the number had only been  per cent the party claimed that the infant mortality rate was now only  per thousand whereas before the revolution it had been and so it went on it was like a single equation with two unknowns it might very well be that literally every word in the history books even the things that one accepted without question was pure fantasy for all he knew there might never have been any such law as the jus primae noctis or any such creature as a capitalist or any such garment as a top hat  everything faded into mist the past was erased the erasure was forgotten the lie became truth just once in his life he had possessedafter the event that was what countedconcrete unmistakable evidence of an act of falsification he had held it between his fingers for as long as thirty seconds in  it must have beenat any rate it was at about the time when he and katharine had parted but the really relevant date was seven or eight years earlier  the story really began in the middle sixties the period of the great purges in which the original leaders of the revolution were wiped out once and for all by  none of them was left except big brother himself all the rest had by that time been exposed as traitors and counterrevolutionaries goldstein had fled and was hiding no one knew where and of the others a few had simply disappeared while the majority had been executed after spectacular public trials at which they made confession of their crimes among the last survivors were three men named jones aaronson and rutherford it must have been in  that these three had been arrested as often happened they had vanished for a year or more so that one did not know whether they were alive or dead and then had suddenly been brought forth to incriminate themselves in the usual way they had confessed to intelligence with the enemy at that date too the enemy was eurasia embezzlement of public funds the murder of various trusted party members intrigues against the leadership of big brother which had started long before the revolution happened and acts of sabotage causing the death of hundreds of thousands of people after confessing to these things they had been pardoned reinstated in the party and given posts which were in fact sinecures but which sounded important all three had written long abject articles in the times analysing the reasons for their defection and promising to make amends  some time after their release winston had actually seen all three of them in the chestnut tree cafe he remembered the sort of terrified fascination with which he had watched them out of the corner of his eye they were men far older than himself relics of the ancient world almost the last great figures left over from the heroic days of the party the glamour of the underground struggle and the civil war still faintly clung to them he had the feeling though already at that time facts and dates were growing blurry that he had known their names years earlier than he had known that of big brother but also they were outlaws enemies untouchables doomed with absolute certainty to extinction within a year or two no one who had once fallen into the hands of the thought police ever escaped in the end they were corpses waiting to be sent back to the grave  there was no one at any of the tables nearest to them it was not wise even to be seen in the neighbourhood of such people they were sitting in silence before glasses of the gin flavoured with cloves which was the speciality of the cafe of the three it was rutherford whose appearance had most impressed winston rutherford had once been a famous caricaturist whose brutal cartoons had helped to inflame popular opinion before and during the revolution even now at long intervals his cartoons were appearing in the times they were simply an imitation of his earlier manner and curiously lifeless and unconvincing always they were a rehashing of the ancient themesslum tenements starving children street battles capitalists in top hatseven on the barricades the capitalists still seemed to cling to their top hats an endless hopeless effort to get back into the past he was a monstrous man with a mane of greasy grey hair his face pouched and seamed with thick negroid lips at one time he must have been immensely strong now his great body was sagging sloping bulging falling away in every direction he seemed to be breaking up before ones eyes like a mountain crumbling  it was the lonely hour of fifteen winston could not now remember how he had come to be in the cafe at such a time the place was almost empty a tinny music was trickling from the telescreens the three men sat in their corner almost motionless never speaking uncommanded the waiter brought fresh glasses of gin there was a chessboard on the table beside them with the pieces set out but no game started and then for perhaps half a minute in all something happened to the telescreens the tune that they were playing changed and the tone of the music changed too there came into itbut it was something hard to describe it was a peculiar cracked braying jeering note in his mind winston called it a yellow note and then a voice from the telescreen was singing     under the spreading chestnut tree   i sold you and you sold me   there lie they and here lie we   under the spreading chestnut tree   the three men never stirred but when winston glanced again at rutherfords ruinous face he saw that his eyes were full of tears and for the first time he noticed with a kind of inward shudder and yet not knowing at what he shuddered t\n"
     ]
    }
   ],
   "source": [
    "n = round(len(data)*0.05)\n",
    "i = randint(0, len(data)-1)\n",
    "sampled_data = data[i:i+n]\n",
    "encrypted_sampled_data = mono_encrypt(sampled_data, characters, k)\n",
    "\n",
    "print(\"We sample a chunk of {} characters from the book starting at position {}\".format(n, i))\n",
    "print(\"Using the private key k = {}\\n\\n\".format(k))\n",
    "print(\"Sampled Plaintext:\")\n",
    "print(sampled_data)"
   ]
  },
  {
   "cell_type": "code",
   "execution_count": 37,
   "metadata": {},
   "outputs": [],
   "source": [
    "ciphertext_frequencies = count_char_freqs(encrypted_sampled_data)"
   ]
  },
  {
   "cell_type": "code",
   "execution_count": 38,
   "metadata": {},
   "outputs": [
    {
     "name": "stdout",
     "output_type": "stream",
     "text": [
      "The orinal key is: \n",
      "\txkzyrotglmwujhqapesfvcindb\n",
      "The inferred key: \n",
      "\txkzurodghmwyjlqapesfvcintb\n"
     ]
    }
   ],
   "source": [
    "def find_key_attack(ciphertext_freqencies, english_frequencies):\n",
    "    \"\"\"Takes two frequency dictionaries on letters and outputs a plausible\n",
    "    key\n",
    "    inputs like: {'a': 36548, 'b': 7668, 'c': 11642 ...\n",
    "    outputs a key\n",
    "    \"\"\"\n",
    "    cf = sorted(ciphertext_frequencies.items(), key=lambda item: item[1])\n",
    "    ef = sorted(english_frequencies.items(), key=lambda item: item[1])\n",
    "    \n",
    "    #map english to \n",
    "    mapping = {}\n",
    "    for e, c in zip(ef, cf):\n",
    "        mapping[e[0]] = c[0]\n",
    "    \n",
    "    m = ''\n",
    "    for letter in string.ascii_lowercase:\n",
    "        m += mapping[letter]\n",
    "        \n",
    "    return m\n",
    "\n",
    "\n",
    "inferred_key = find_key_attack(ciphertext_frequencies, engish_frequencies)\n",
    "\n",
    "print(\"The orinal key is: \\n\\t{}\".format(k))\n",
    "print(\"The inferred key: \\n\\t{}\".format(inferred_key))"
   ]
  },
  {
   "cell_type": "code",
   "execution_count": 40,
   "metadata": {},
   "outputs": [
    {
     "name": "stdout",
     "output_type": "stream",
     "text": [
      "We have correctly guessed 20 out of 26 digits of the key\n"
     ]
    }
   ],
   "source": [
    "count = 0\n",
    "for a, b in zip(k, inferred_key):\n",
    "    if a == b:\n",
    "        count += 1\n",
    "        \n",
    "print(\"We have correctly guessed {} out of {} digits of the key\".format(count, len(characters)))"
   ]
  },
  {
   "cell_type": "markdown",
   "metadata": {},
   "source": [
    "We see that there are some coincidences, let's try to decrypt the message using the inferred key"
   ]
  },
  {
   "cell_type": "code",
   "execution_count": 41,
   "metadata": {},
   "outputs": [
    {
     "data": {
      "text/plain": [
       "'uch as fnve mniutes ail nt was possnbde that hns features hal iot beei perfectdg uiler coitrod nt was terrnbdg laiyerous to det gour thouyhts wailer whei gou were ni aig pubdnc pdace or wnthni raiye of a tedescreei the smaddest thniy coudl ynve gou awag a iervous tnc ai uicoiscnous dook of aixnetg a habnt of mutterniy to goursedfaigthniy that carrnel wnth nt the suyyestnoi of abiormadntg of havniy somethniy to hnle ni aig case to wear ai nmproper expressnoi oi gour face to dook nicreludous whei a vnctorg was aiiouicel for exampde was ntsedf a puinshabde offeice there was evei a worl for nt ni iewspeak facecrnme nt was caddel  the ynrd hal turiel her back oi hnm ayani perhaps after add she was iot readdg foddowniy hnm about perhaps nt was conicnleice that she hal sat so cdose to hnm two lags ruiiniy hns cnyarette hal yoie out ail he danl nt carefuddg oi the elye of the tabde he woudl fninsh smokniy nt after work nf he coudl keep the tobacco ni nt qunte dnkedg the persoi at the iext tabde was a spg of the thouyht podnce ail qunte dnkedg he woudl be ni the ceddars of the mninstrg of dove wnthni three lags but a cnyarette eil must iot be wastel sgme hal fodlel up hns strnp of paper ail stowel nt awag ni hns pocket parsois hal beyui tadkniy ayani  lnl n ever tedd gou odl bog he sanl chuckdniy rouil the stem of hns pnpe about the tnme whei those two inppers of mnie set fnre to the odl marketwomais sknrt because theg saw her wrappniy up sausayes ni a poster of bb sieakel up behnil her ail set fnre to nt wnth a box of matches buriel her qunte baldg n bedneve dnttde beyyars eh but keei as mustarl thats a fnrstrate traniniy theg ynve them ni the spnes iowalagsbetter thai ni mg lag evei what lgou thniks the datest thniy thegve servel them out wnth ear trumpets for dnsteiniy throuyh keghodes mg dnttde ynrd brouyht oie home the other inyhttrnel nt out oi our snttniyroom loor ail reckoiel she coudl hear twnce as much as wnth her ear to the hode of course nts oidg a tog mnil gou stndd ynves em the rnyht nlea eh  at thns momeit the tedescreei det out a pnercniy whnstde nt was the snyiad to returi to work add three mei spraiy to thenr feet to joni ni the struyyde rouil the dnfts ail the remaniniy tobacco fedd out of wnistois cnyarette     chapter     wnistoi was wrntniy ni hns lnarg      nt was three gears ayo nt was oi a lark eveiniy ni a iarrow snlestreet iear oie of the bny randwag statnois she was stailniy iear a loorwag ni the wadd uiler a street damp that harldg yave aig dnyht she hal a gouiy face panitel verg thnck nt was readdg the panit that appeadel to me the whnteiess of nt dnke a mask ail the brnyht rel dnps partg womei iever panit thenr faces there was iobolg edse ni the street ail io tedescreeis she sanl two loddars n   for the momeit nt was too lnffncudt to yo oi he shut hns eges ail pressel hns fniyers ayanist them trgniy to squeeze out the vnsnoi that kept recurrniy he hal ai admost overwhedmniy temptatnoi to shout a strniy of fndthg worls at the top of hns vonce or to baiy hns heal ayanist the wadd to knck over the tabde ail hurd the nikpot throuyh the wnilowto lo aig vnodeit or ionsg or panifud thniy that mnyht bdack out the memorg that was tormeitniy hnm  gour worst eiemg he refdectel was gour owi iervous sgstem at aig momeit the teisnoi nisnle gou was dnabde to traisdate ntsedf nito some vnsnbde sgmptom he thouyht of a mai whom he hal passel ni the street a few weeks back a qunte orlniargdookniy mai a partg member ayel thnrtgfnve to fortg taddnsh ail thni carrgniy a brnefcase theg were a few metres apart whei the deft snle of the mais face was sulleidg coitortel bg a sort of spasm nt happeiel ayani just as theg were passniy oie aiother nt was oidg a twntch a qunver rapnl as the cdnckniy of a camera shutter but obvnousdg habntuad he rememberel thnikniy at the tnme that poor levnd ns loie for ail what was frnyhteiniy was that the actnoi was qunte possnbdg uicoiscnous the most lealdg laiyer of add was tadkniy ni gour sdeep there was io wag of yuarlniy ayanist that so far as he coudl see  he lrew hns breath ail weit oi wrntniy      n weit wnth her throuyh the loorwag ail across a backgarl nito a basemeit kntchei there was a bel ayanist the wadd ail a damp oi the tabde turiel lowi verg dow she   hns teeth were set oi elye he woudl have dnkel to spnt snmudtaieousdg wnth the womai ni the basemeit kntchei he thouyht of katharnie hns wnfe wnistoi was marrnelhal beei marrnel at aig rate probabdg he stndd was marrnel so far as he kiew hns wnfe was iot leal he seemel to breathe ayani the warm stuffg olour of the basemeit kntchei ai olour compouilel of buys ail lnrtg cdothes ail vnddanious cheap sceit but ieverthedess addurniy because io womai of the partg ever usel sceit or coudl be nmayniel as loniy so oidg the prodes usel sceit ni hns mnil the smedd of nt was niextrncabdg mnxel up wnth forincatnoi  whei he hal yoie wnth that womai nt hal beei hns fnrst dapse ni two gears or thereabouts coisortniy wnth prostntutes was forbnllei of course but nt was oie of those rudes that gou coudl occasnoiaddg ierve goursedf to break nt was laiyerous but nt was iot a dnfeailleath matter to be cauyht wnth a prostntute mnyht meai fnve gears ni a forceldabour camp iot more nf gou hal commnttel io other offeice ail nt was easg eiouyh provnlel that gou coudl avonl beniy cauyht ni the act the poorer quarters swarmel wnth womei who were realg to sedd themsedves some coudl evei be purchasel for a bottde of yni whnch the prodes were iot supposel to lrnik tacntdg the partg was evei nicdniel to eicouraye prostntutnoi as ai outdet for nistnicts whnch coudl iot be adtoyether suppressel mere lebaucherg lnl iot matter verg much so doiy as nt was furtnve ail jogdess ail oidg nivodvel the womei of a submeryel ail lespnsel cdass the uiforynvabde crnme was promnscuntg betweei partg members butthouyh thns was oie of the crnmes that the accusel ni the yreat puryes nivarnabdg coifessel tont was lnffncudt to nmaynie aig such thniy actuaddg happeiniy  the anm of the partg was iot meredg to preveit mei ail womei from formniy dogadtnes whnch nt mnyht iot be abde to coitrod nts read uilecdarel purpose was to remove add pdeasure from the sexuad act iot dove so much as erotncnsm was the eiemg nisnle marrnaye as wedd as outsnle nt add marrnayes betweei partg members hal to be approvel bg a commnttee apponitel for the purpose ailthouyh the prnicnpde was iever cdeardg statelpermnssnoi was adwags refusel nf the coupde coiceriel yave the nmpressnoi of beniy phgsncaddg attractel to oie aiother the oidg recoyinzel purpose of marrnaye was to beyet chndlrei for the servnce of the partg sexuad nitercourse was to be dookel oi as a sdnyhtdg lnsyustniy mnior operatnoi dnke havniy ai eiema thns ayani was iever put nito pdani worls but ni ai nilnrect wag nt was rubbel nito everg partg member from chndlhool oiwarls there were evei oryainzatnois such as the juinor aitnsex deayue whnch alvocatel compdete cednbacg for both sexes add chndlrei were to be beyottei bg artnfncnad nisemniatnoi artsem nt was caddel ni iewspeak ail brouyht up ni pubdnc nistntutnois thns wnistoi was aware was iot meait adtoyether sernousdg but somehow nt fnttel ni wnth the yeierad nleodoyg of the partg the partg was trgniy to kndd the sex nistnict or nf nt coudl iot be knddel thei to lnstort nt ail lnrtg nt he lnl iot kiow whg thns was so but nt seemel iaturad that nt shoudl be so ail as far as the womei were coiceriel the partgs efforts were daryedg successfud  he thouyht ayani of katharnie nt must be inie teiieardg edevei gears snice theg hal partel nt was curnous how sedlom he thouyht of her for lags at a tnme he was capabde of foryettniy that he hal ever beei marrnel theg hal oidg beei toyether for about fnfteei moiths the partg lnl iot permnt lnvorce but nt rather eicourayel separatnoi ni cases where there were io chndlrei  katharnie was a tadd fanrhanrel ynrd verg stranyht wnth spdeilnl movemeits she hal a bodl aqundnie face a face that oie mnyht have caddel iobde uitnd oie lnscoverel that there was as ieardg as possnbde iothniy behnil nt verg eardg ni her marrnel dnfe he hal lecnlelthouyh perhaps nt was oidg that he kiew her more nitnmatedg thai he kiew most peopdethat she hal wnthout exceptnoi the most stupnl vudyar emptg mnil that he hal ever eicouiterel she hal iot a thouyht ni her heal that was iot a sdoyai ail there was io nmbecndntg absodutedg ioie that she was iot capabde of swaddowniy nf the partg hailel nt out to her the humai souiltrack he inckiamel her ni hns owi mnil get he coudl have eilurel dnvniy wnth her nf nt hal iot beei for just oie thniysex  as sooi as he touchel her she seemel to wnice ail stnffei to embrace her was dnke embracniy a jonitel woolei nmaye ail what was straiye was that evei whei she was cdaspniy hnm ayanist her he hal the feedniy that she was snmudtaieousdg pushniy hnm awag wnth add her streiyth the rnynlntg of her muscdes maiayel to coiveg that nmpressnoi she woudl dne there wnth shut eges ienther resnstniy ior cooperatniy but submnttniy nt was extraorlniarndg embarrassniy ail after a whnde horrnbde but evei thei he coudl have borie dnvniy wnth her nf nt hal beei ayreel that theg shoudl remani cednbate but curnousdg eiouyh nt was katharnie who refusel thns theg must she sanl proluce a chndl nf theg coudl so the performaice coitniuel to happei oice a week qunte reyudardg wheiever nt was iot nmpossnbde she evei usel to remnil hnm of nt ni the moriniy as somethniy whnch hal to be loie that eveiniy ail whnch must iot be foryottei she hal two iames for nt oie was makniy a babg ail the other was our lutg to the partg ges she hal actuaddg usel that phrase qunte sooi he yrew to have a feedniy of posntnve lreal whei the apponitel lag came rouil but duckndg io chndl appearel ail ni the eil she ayreel to ynve up trgniy ail sooi afterwarls theg partel  wnistoi snyhel niaulnbdg he pnckel up hns pei ayani ail wrote      she threw hersedf lowi oi the bel ail at oice wnthout aig knil of prednmniarg ni the most coarse horrnbde wag gou cai nmaynie puddel up her sknrt n   he saw hnmsedf stailniy there ni the lnm dampdnyht wnth the smedd of buys ail cheap sceit ni hns iostrnds ail ni hns heart a feedniy of lefeat ail reseitmeit whnch evei at that momeit was mnxel up wnth the thouyht of katharnies whnte bolg frozei for ever bg the hgpiotnc power of the partg whg lnl nt adwags have to be dnke thns whg coudl he iot have a womai of hns owi nisteal of these fndthg scuffdes at nitervads of gears but a read dove affanr was ai admost uithnikabde eveit the womei of the partg were add adnke chastntg was as leep niyraniel ni them as partg dogadtg bg carefud eardg coilntnoiniy bg yames ail codl water bg the rubbnsh that was lniiel nito them at schood ail ni the spnes ail the gouth deayue bg dectures parales soiys sdoyais ail martnad musnc the iaturad feedniy hal beei lrnvei out of them hns reasoi todl hnm that there must be exceptnois but hns heart lnl iot bedneve nt theg were add nmpreyiabde as the partg niteilel that theg shoudl be ail what he waitel more evei thai to be dovel was to break lowi that wadd of vnrtue evei nf nt were oidg oice ni hns whode dnfe the sexuad act successfuddg performel was rebeddnoi lesnre was thouyhtcrnme evei to have awakeiel katharnie nf he coudl have achnevel nt woudl have beei dnke a seluctnoi adthouyh she was hns wnfe  but the rest of the storg hal yot to be wrnttei lowi he wrote      n turiel up the damp whei n saw her ni the dnyht   after the larkiess the feebde dnyht of the paraffni damp hal seemel verg brnyht for the fnrst tnme he coudl see the womai properdg he hal takei a step towarls her ail thei hadtel fudd of dust ail terror he was panifuddg coiscnous of the rnsk he hal takei ni comniy here nt was perfectdg possnbde that the patrods woudl catch hnm oi the wag out for that matter theg mnyht be wantniy outsnle the loor at thns momeit nf he weit awag wnthout evei loniy what he hal come here to lo  nt hal yot to be wrnttei lowi nt hal yot to be coifessel what he hal sulleidg seei ni the dampdnyht was that the womai was odl the panit was pdasterel so thnck oi her face that nt dookel as thouyh nt mnyht crack dnke a carlboarl mask there were streaks of whnte ni her hanr but the trudg lrealfud letand was that her mouth hal faddei a dnttde opei reveadniy iothniy except a caverious bdackiess she hal io teeth at add  he wrote hurrneldg ni scrabbdniy hailwrntniy      whei n saw her ni the dnyht she was qunte ai odl womai fnftg gears odl at deast but n weit aheal ail lnl nt just the same   he pressel hns fniyers ayanist hns egednls ayani he hal wrnttei nt lowi at dast but nt male io lnffereice the therapg hal iot workel the urye to shout fndthg worls at the top of hns vonce was as stroiy as ever     chapter     nf there ns hope wrote wnistoi nt dnes ni the prodes  nf there was hope nt must dne ni the prodes because oidg there ni those swarmniy lnsreyarlel masses  per ceit of the popudatnoi of oceaina coudl the force to lestrog the partg ever be yeieratel the partg coudl iot be overthrowi from wnthni nts eiemnes nf nt hal aig eiemnes hal io wag of comniy toyether or evei of nleitnfgniy oie aiother evei nf the deyeilarg brotherhool exnstel as just possnbdg nt mnyht nt was nicoicenvabde that nts members coudl ever assembde ni daryer iumbers thai twos ail threes rebeddnoi meait a dook ni the eges ai nifdexnoi of the vonce at the most ai occasnoiad whnsperel worl but the prodes nf oidg theg coudl somehow become coiscnous of thenr owi streiyth woudl have io ieel to coispnre theg ieelel oidg to rnse up ail shake themsedves dnke a horse shakniy off fdnes nf theg chose theg coudl bdow the partg to pneces tomorrow moriniy suredg sooier or dater nt must occur to them to lo nt ail get  he rememberel how oice he hal beei wadkniy lowi a crowlel street whei a tremeilous shout of huilrels of vonces womeis vonceshal burst from a snlestreet a dnttde wag aheal nt was a yreat formnlabde crg of aiyer ail lespanr a leep doul ohooooh that weit hummniy oi dnke the reverberatnoi of a bedd hns heart hal deapt nts startel he hal thouyht a rnot the prodes are breakniy doose at dast whei he hal reachel the spot nt was to see a mob of two or three huilrel womei crowlniy rouil the stadds of a street market wnth faces as traync as thouyh theg hal beei the loomel passeiyers oi a snikniy shnp but at thns momeit the yeierad lespanr broke lowi nito a mudtntule of nilnvnluad quarreds nt appearel that oie of the stadds hal beei seddniy tni saucepais theg were wretchel fdnmsg thniys but cookniypots of aig knil were adwags lnffncudt to yet iow the suppdg hal uiexpecteldg ynvei out the successfud womei bumpel ail jostdel bg the rest were trgniy to make off wnth thenr saucepais whnde lozeis of others cdamourel rouil the stadd accusniy the staddkeeper of favourntnsm ail of havniy more saucepais somewhere ni reserve there was a fresh outburst of gedds two bdoatel womei oie of them wnth her hanr comniy lowi hal yot hodl of the same saucepai ail were trgniy to tear nt out of oie aiothers hails for a momeit theg were both tuyyniy ail thei the hailde came off wnistoi watchel them lnsyusteldg ail get just for a momeit what admost frnyhteiniy power hal souilel ni that crg from oidg a few huilrel throats whg was nt that theg coudl iever shout dnke that about aigthniy that matterel  he wrote      uitnd theg become coiscnous theg wndd iever rebed ail uitnd after theg have rebeddel theg caiiot become coiscnous   that he refdectel mnyht admost have beei a traiscrnptnoi from oie of the partg textbooks the partg cdanmel of course to have dnberatel the prodes from boilaye before the revodutnoi theg hal beei hnleousdg oppressel bg the capntadnsts theg hal beei starvel ail fdoyyel womei hal beei forcel to work ni the coad mnies womei stndd lnl work ni the coad mnies as a matter of fact chndlrei hal beei sodl nito the factornes at the aye of snx but snmudtaieousdg true to the prnicnpdes of loubdethnik the partg tauyht that the prodes were iaturad nifernors who must be kept ni subjectnoi dnke ainmads bg the appdncatnoi of a few snmpde rudes ni readntg verg dnttde was kiowi about the prodes nt was iot iecessarg to kiow much so doiy as theg coitniuel to work ail breel thenr other actnvntnes were wnthout nmportaice deft to themsedves dnke cattde turiel doose upoi the pdanis of aryeitnia theg hal revertel to a stgde of dnfe that appearel to be iaturad to them a sort of aicestrad patteri theg were bori theg yrew up ni the yutters theg weit to work at twedve theg passel throuyh a brnef bdossomniypernol of beautg ail sexuad lesnre theg marrnel at tweitg theg were mnlldeayel at thnrtg theg lnel for the most part at snxtg heavg phgsncad work the care of home ail chndlrei pettg quarreds wnth ienyhbours fndms footbadd beer ail above add yambdniy fnddel up the hornzoi of thenr mnils to keep them ni coitrod was iot lnffncudt a few ayeits of the thouyht podnce movel adwags amoiy them sprealniy fadse rumours ail markniy lowi ail ednmniatniy the few nilnvnluads who were julyel capabde of becomniy laiyerous but io attempt was male to niloctrniate them wnth the nleodoyg of the partg nt was iot lesnrabde that the prodes shoudl have stroiy podntncad feedniys add that was requnrel of them was a prnmntnve patrnotnsm whnch coudl be appeadel to wheiever nt was iecessarg to make them accept doiyer workniyhours or shorter ratnois ail evei whei theg became lnscoiteitel as theg sometnmes lnl thenr lnscoiteit del iowhere because beniy wnthout yeierad nleas theg coudl oidg focus nt oi pettg specnfnc yrnevaices the daryer evnds nivarnabdg escapel thenr iotnce the yreat majorntg of prodes lnl iot evei have tedescreeis ni thenr homes evei the cnvnd podnce niterferel wnth them verg dnttde there was a vast amouit of crnmniadntg ni doiloi a whode wordlwnthniawordl of thneves bailnts prostntutes lruypellders ail racketeers of everg lescrnptnoi but snice nt add happeiel amoiy the prodes themsedves nt was of io nmportaice ni add questnois of morads theg were addowel to foddow thenr aicestrad cole the sexuad purntainsm of the partg was iot nmposel upoi them promnscuntg weit uipuinshel lnvorce was permnttel for that matter evei rednynous worshnp woudl have beei permnttel nf the prodes hal showi aig snyi of ieelniy or waitniy nt theg were beieath suspncnoi as the partg sdoyai put nt prodes ail ainmads are free  wnistoi reachel lowi ail cautnousdg scratchel hns varncose udcer nt hal beyui ntchniy ayani the thniy gou nivarnabdg came back to was the nmpossnbndntg of kiowniy what dnfe before the revodutnoi hal readdg beei dnke he took out of the lrawer a copg of a chndlreis hnstorg textbook whnch he hal borrowel from mrs parsois ail beyai copgniy a passaye nito the lnarg      ni the odl lags nt rai before the ydornous revodutnoi doiloi was iot the beautnfud cntg that we kiow tolag nt was a lark lnrtg mnserabde pdace where harldg aigbolg hal eiouyh to eat ail where huilrels ail thousails of poor peopde hal io boots oi thenr feet ail iot evei a roof to sdeep uiler chndlrei io odler thai gou hal to work twedve hours a lag for crued masters who fdoyyel them wnth whnps nf theg workel too sdowdg ail fel them oi iothniy but stade brealcrusts ail water but ni amoiy add thns terrnbde povertg there were just a few yreat bny beautnfud houses that were dnvel ni bg rnch mei who hal as maig as thnrtg servaits to dook after them these rnch mei were caddel capntadnsts theg were fat uydg mei wnth wnckel faces dnke the oie ni the pncture oi the opposnte paye gou cai see that he ns lressel ni a doiy bdack coat whnch was caddel a frock coat ail a queer shnig hat shapel dnke a stovepnpe whnch was caddel a top hat thns was the uinform of the capntadnsts ail io oie edse was addowel to wear nt the capntadnsts owiel evergthniy ni the wordl ail evergoie edse was thenr sdave theg owiel add the dail add the houses add the factornes ail add the moieg nf aigoie lnsobegel them theg coudl throw them nito prnsoi or theg coudl take hns job awag ail starve hnm to leath whei aig orlniarg persoi spoke to a capntadnst he hal to crniye ail bow to hnm ail take off hns cap ail allress hnm as snr the chnef of add the capntadnsts was caddel the kniy ail   but he kiew the rest of the catadoyue there woudl be meitnoi of the bnshops ni thenr dawi sdeeves the julyes ni thenr ermnie robes the pnddorg the stocks the trealmndd the catoinie tands the dorl magors baiquet ail the practnce of knssniy the popes toe there was adso somethniy caddel the jus prnmae ioctns whnch woudl probabdg iot be meitnoiel ni a textbook for chndlrei nt was the daw bg whnch everg capntadnst hal the rnyht to sdeep wnth aig womai workniy ni oie of hns factornes  how coudl gou tedd how much of nt was dnes nt mnyht be true that the averaye humai beniy was better off iow thai he hal beei before the revodutnoi the oidg evnleice to the coitrarg was the mute protest ni gour owi boies the nistnictnve feedniy that the coilntnois gou dnvel ni were nitoderabde ail that at some other tnme theg must have beei lnffereit nt struck hnm that the trudg characternstnc thniy about moleri dnfe was iot nts cruedtg ail nisecurntg but snmpdg nts bareiess nts lniyniess nts dnstdessiess dnfe nf gou dookel about gou bore io resembdaice iot oidg to the dnes that streamel out of the tedescreeis but evei to the nleads that the partg was trgniy to achneve yreat areas of nt evei for a partg member were ieutrad ail ioipodntncad a matter of sdoyyniy throuyh lrearg jobs fnyhtniy for a pdace oi the tube lariniy a woriout sock calyniy a saccharnie tabdet savniy a cnyarette eil the nlead set up bg the partg was somethniy huye terrnbde ail ydntterniya wordl of steed ail coicrete of moistrous machnies ail terrnfgniy weapoisa iatnoi of warrnors ail faiatncs marchniy forwarl ni perfect uintg add thnikniy the same thouyhts ail shoutniy the same sdoyais perpetuaddg workniy fnyhtniy trnumphniy persecutniythree huilrel mnddnoi peopde add wnth the same face the readntg was lecagniy lniyg cntnes where uilerfel peopde shuffdel to ail fro ni deakg shoes ni patchelup inieteeithceiturg houses that smedt adwags of cabbaye ail bal davatornes he seemel to see a vnsnoi of doiloi vast ail runious cntg of a mnddnoi lustbnis ail mnxel up wnth nt was a pncture of mrs parsois a womai wnth dniel face ail wnspg hanr fnlldniy hedpdessdg wnth a bdockel wastepnpe  he reachel lowi ail scratchel hns aikde ayani lag ail inyht the tedescreeis brunsel gour ears wnth statnstncs provniy that peopde tolag hal more fool more cdothes better houses better recreatnoisthat theg dnvel doiyer workel shorter hours were bnyyer headthner stroiyer happner more niteddnyeit better elucatel thai the peopde of fnftg gears ayo iot a worl of nt coudl ever be provel or lnsprovel the partg cdanmel for exampde that tolag  per ceit of aludt prodes were dnterate before the revodutnoi nt was sanl the iumber hal oidg beei  per ceit the partg cdanmel that the nifait mortadntg rate was iow oidg  per thousail whereas before the revodutnoi nt hal beei ail so nt weit oi nt was dnke a sniyde equatnoi wnth two uikiowis nt mnyht verg wedd be that dnteraddg everg worl ni the hnstorg books evei the thniys that oie acceptel wnthout questnoi was pure faitasg for add he kiew there mnyht iever have beei aig such daw as the jus prnmae ioctns or aig such creature as a capntadnst or aig such yarmeit as a top hat  evergthniy falel nito mnst the past was erasel the erasure was foryottei the dne became truth just oice ni hns dnfe he hal possesselafter the eveit that was what couitelcoicrete uimnstakabde evnleice of ai act of fadsnfncatnoi he hal hedl nt betweei hns fniyers for as doiy as thnrtg secoils ni  nt must have beeiat aig rate nt was at about the tnme whei he ail katharnie hal partel but the readdg redevait late was sevei or enyht gears eardner  the storg readdg beyai ni the mnllde snxtnes the pernol of the yreat puryes ni whnch the ornyniad dealers of the revodutnoi were wnpel out oice ail for add bg  ioie of them was deft except bny brother hnmsedf add the rest hal bg that tnme beei exposel as trantors ail couiterrevodutnoiarnes yodlsteni hal fdel ail was hnlniy io oie kiew where ail of the others a few hal snmpdg lnsappearel whnde the majorntg hal beei executel after spectacudar pubdnc trnads at whnch theg male coifessnoi of thenr crnmes amoiy the dast survnvors were three mei iamel joies aaroisoi ail rutherforl nt must have beei ni  that these three hal beei arrestel as oftei happeiel theg hal vainshel for a gear or more so that oie lnl iot kiow whether theg were adnve or leal ail thei hal sulleidg beei brouyht forth to nicrnmniate themsedves ni the usuad wag theg hal coifessel to niteddnyeice wnth the eiemg at that late too the eiemg was eurasna embezzdemeit of pubdnc fuils the murler of varnous trustel partg members nitrnyues ayanist the dealershnp of bny brother whnch hal startel doiy before the revodutnoi happeiel ail acts of sabotaye causniy the leath of huilrels of thousails of peopde after coifessniy to these thniys theg hal beei parloiel renistatel ni the partg ail ynvei posts whnch were ni fact sniecures but whnch souilel nmportait add three hal wrnttei doiy abject artncdes ni the tnmes aiadgsniy the reasois for thenr lefectnoi ail promnsniy to make ameils  some tnme after thenr redease wnistoi hal actuaddg seei add three of them ni the chestiut tree cafe he rememberel the sort of terrnfnel fascniatnoi wnth whnch he hal watchel them out of the corier of hns ege theg were mei far odler thai hnmsedf redncs of the aicneit wordl admost the dast yreat fnyures deft over from the heronc lags of the partg the ydamour of the uileryrouil struyyde ail the cnvnd war stndd fanitdg cduiy to them he hal the feedniy thouyh adrealg at that tnme facts ail lates were yrowniy bdurrg that he hal kiowi thenr iames gears eardner thai he hal kiowi that of bny brother but adso theg were outdaws eiemnes uitouchabdes loomel wnth absodute certanitg to extnictnoi wnthni a gear or two io oie who hal oice faddei nito the hails of the thouyht podnce ever escapel ni the eil theg were corpses wantniy to be seit back to the yrave  there was io oie at aig of the tabdes iearest to them nt was iot wnse evei to be seei ni the ienyhbourhool of such peopde theg were snttniy ni sndeice before ydasses of the yni fdavourel wnth cdoves whnch was the specnadntg of the cafe of the three nt was rutherforl whose appearaice hal most nmpressel wnistoi rutherforl hal oice beei a famous carncaturnst whose brutad cartoois hal hedpel to nifdame popudar opninoi before ail lurniy the revodutnoi evei iow at doiy nitervads hns cartoois were appearniy ni the tnmes theg were snmpdg ai nmntatnoi of hns eardner maiier ail curnousdg dnfedess ail uicoivnicniy adwags theg were a rehashniy of the aicneit themessdum teiemeits starvniy chndlrei street battdes capntadnsts ni top hatsevei oi the barrncales the capntadnsts stndd seemel to cdniy to thenr top hats ai eildess hopedess effort to yet back nito the past he was a moistrous mai wnth a maie of yreasg yreg hanr hns face pouchel ail seamel wnth thnck ieyronl dnps at oie tnme he must have beei nmmeisedg stroiy iow hns yreat bolg was sayyniy sdopniy budyniy faddniy awag ni everg lnrectnoi he seemel to be breakniy up before oies eges dnke a mouitani crumbdniy  nt was the doiedg hour of fnfteei wnistoi coudl iot iow remember how he hal come to be ni the cafe at such a tnme the pdace was admost emptg a tniig musnc was trnckdniy from the tedescreeis the three mei sat ni thenr corier admost motnoidess iever speakniy uicommailel the wanter brouyht fresh ydasses of yni there was a chessboarl oi the tabde besnle them wnth the pneces set out but io yame startel ail thei for perhaps hadf a mniute ni add somethniy happeiel to the tedescreeis the tuie that theg were pdagniy chaiyel ail the toie of the musnc chaiyel too there came nito ntbut nt was somethniy harl to lescrnbe nt was a pecudnar crackel bragniy jeerniy iote ni hns mnil wnistoi caddel nt a geddow iote ail thei a vonce from the tedescreei was sniyniy     uiler the sprealniy chestiut tree   n sodl gou ail gou sodl me   there dne theg ail here dne we   uiler the sprealniy chestiut tree   the three mei iever stnrrel but whei wnistoi ydaicel ayani at rutherforls runious face he saw that hns eges were fudd of tears ail for the fnrst tnme he iotncel wnth a knil of niwarl shuller ail get iot kiowniy at what he shullerel t'"
      ]
     },
     "execution_count": 41,
     "metadata": {},
     "output_type": "execute_result"
    }
   ],
   "source": [
    "mono_decrypt(encrypted_sampled_data, characters, inferred_key)"
   ]
  },
  {
   "cell_type": "markdown",
   "metadata": {},
   "source": [
    "We can see that some words are easily readable to the human eye. In fact, we have guessed quite a lot of information just by looking at the ciphertext and this is dangerous!. If the attacker keeps on gathering encrypted messages in between Alice and Bob, he'll gather a lot of information and eventually will be able to find the key."
   ]
  }
 ],
 "metadata": {
  "kernelspec": {
   "display_name": "crypto",
   "language": "python",
   "name": "crypto"
  },
  "language_info": {
   "codemirror_mode": {
    "name": "ipython",
    "version": 3
   },
   "file_extension": ".py",
   "mimetype": "text/x-python",
   "name": "python",
   "nbconvert_exporter": "python",
   "pygments_lexer": "ipython3",
   "version": "3.7.3"
  }
 },
 "nbformat": 4,
 "nbformat_minor": 2
}
