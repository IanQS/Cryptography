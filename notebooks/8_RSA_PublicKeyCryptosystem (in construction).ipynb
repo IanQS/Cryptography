{
 "cells": [
  {
   "cell_type": "code",
   "execution_count": 1,
   "metadata": {},
   "outputs": [
    {
     "name": "stdout",
     "output_type": "stream",
     "text": [
      "Two large primes:\n",
      "p=51343\n",
      "q=41719\n",
      "N=pq=2141978617\n"
     ]
    }
   ],
   "source": [
    "from crypt import generateLargePrime, xgcd, fastPowering\n",
    "\n",
    "p = generateLargePrime(16, 40)\n",
    "q = generateLargePrime(16, 40)\n",
    "N = p*q\n",
    "print(\"Two large primes:\\np={}\\nq={}\\nN=pq={}\".format(p, q, N))"
   ]
  },
  {
   "cell_type": "code",
   "execution_count": 2,
   "metadata": {},
   "outputs": [],
   "source": [
    "from random import randrange\n",
    "\n",
    "def RSA_choose_e(p, q):\n",
    "    prime = max(p, q)\n",
    "    pq_ = (p-1)*(q-1)\n",
    "    \n",
    "    while True:\n",
    "        e = randrange(2, prime)\n",
    "        g, _, _ = xgcd(e, pq_)\n",
    "        if g==1:\n",
    "            return e"
   ]
  },
  {
   "cell_type": "code",
   "execution_count": 3,
   "metadata": {},
   "outputs": [
    {
     "name": "stdout",
     "output_type": "stream",
     "text": [
      "e=4253\n"
     ]
    }
   ],
   "source": [
    "e = RSA_choose_e(p, q)\n",
    "print(\"e={}\".format(e))"
   ]
  },
  {
   "cell_type": "code",
   "execution_count": 4,
   "metadata": {},
   "outputs": [
    {
     "name": "stdout",
     "output_type": "stream",
     "text": [
      "m=1234\n",
      "c=934194497\n"
     ]
    }
   ],
   "source": [
    "m = 1234\n",
    "c = fastPowering(m, e, N)\n",
    "\n",
    "print(\"m={}\\nc={}\".format(m, c))"
   ]
  },
  {
   "cell_type": "code",
   "execution_count": 5,
   "metadata": {},
   "outputs": [
    {
     "name": "stdout",
     "output_type": "stream",
     "text": [
      "Recovered message m=1234\n"
     ]
    }
   ],
   "source": [
    "from crypt import InverseFermat\n",
    "from crypt import InverseMod\n",
    "\n",
    "d = InverseMod(e, (p-1)*(q-1))\n",
    "mp = fastPowering(c, d, N)\n",
    "\n",
    "print(\"Recovered message m={}\".format(mp))"
   ]
  }
 ],
 "metadata": {
  "kernelspec": {
   "display_name": "Python 3",
   "language": "python",
   "name": "python3"
  },
  "language_info": {
   "codemirror_mode": {
    "name": "ipython",
    "version": 3
   },
   "file_extension": ".py",
   "mimetype": "text/x-python",
   "name": "python",
   "nbconvert_exporter": "python",
   "pygments_lexer": "ipython3",
   "version": "3.7.5"
  }
 },
 "nbformat": 4,
 "nbformat_minor": 2
}
