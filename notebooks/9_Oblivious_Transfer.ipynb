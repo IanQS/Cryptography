{
 "cells": [
  {
   "cell_type": "markdown",
   "metadata": {},
   "source": [
    "# 1 of 2 Oblivious Transfer (OT)\n",
    "\n",
    "In a oblivious transfer protocol, a sender wants to send a message $m_0$ or $m_1$ to a receiver. The sender wants the receiver to see only one message and the receiver whants the sender not to know which message he picked. To have a more in deep introduction to oblivious transfer go [here](https://en.wikipedia.org/wiki/Oblivious_transfer).\n",
    " \n",
    "First The sender generates the public and private RSA keys"
   ]
  },
  {
   "cell_type": "code",
   "execution_count": 1,
   "metadata": {},
   "outputs": [
    {
     "name": "stdout",
     "output_type": "stream",
     "text": [
      "Public Key is (N, e)=(3622687927, 411983603)\n",
      "Private Key is (N, d)=(3622687927, 71648603)\n"
     ]
    }
   ],
   "source": [
    "from crypt import RSAKeyGenerator\n",
    "from random import randrange, seed\n",
    "\n",
    "seed(1)\n",
    "bits = 16\n",
    "PublicKey, PrivateKey = RSAKeyGenerator(bits)\n",
    "\n",
    "print(f\"Public Key is (N, e)=({PublicKey[0]}, {PublicKey[1]})\")\n",
    "print(f\"Private Key is (N, d)=({PrivateKey[0]}, {PrivateKey[1]})\")\n",
    "\n",
    "assert(PublicKey[0]==PrivateKey[0])\n",
    "N = PublicKey[0]"
   ]
  },
  {
   "cell_type": "markdown",
   "metadata": {},
   "source": [
    "Now the sender picks two mesages, for instance $m_0$ and $m_1$. In this example I'm going to generate them randomly but in principle should be two meaningful messages that the sender wants to transmit. He wants to send one and only one to the receiver but without knowing which one the receiver picked."
   ]
  },
  {
   "cell_type": "code",
   "execution_count": 2,
   "metadata": {},
   "outputs": [
    {
     "name": "stdout",
     "output_type": "stream",
     "text": [
      "The messages are:\n",
      "m_0=3365773597\n",
      "m_1=3523960155\n"
     ]
    }
   ],
   "source": [
    "m = [randrange(2,N) , randrange(2, N)]\n",
    "\n",
    "print(f\"The messages are:\\nm_0={m[0]}\\nm_1={m[1]}\")"
   ]
  },
  {
   "cell_type": "markdown",
   "metadata": {},
   "source": [
    "And he publishes two random messages $x_0$ and $x_1$"
   ]
  },
  {
   "cell_type": "code",
   "execution_count": 3,
   "metadata": {},
   "outputs": [
    {
     "name": "stdout",
     "output_type": "stream",
     "text": [
      "The sender publishes two random messages:\n",
      "x0=3180437945\n",
      "x1=2201170458\n"
     ]
    }
   ],
   "source": [
    "x = [randrange(2, N), randrange(2, N)]\n",
    "print(\"The sender publishes two random messages:\\nx0={}\\nx1={}\".format(x[0], x[1]))"
   ]
  },
  {
   "cell_type": "markdown",
   "metadata": {},
   "source": [
    "The receiver secrelty flips a coin $b$ that determines which message is going to pick, either 0 or 1. Also generates a random number in between 2 and N and keeps this two values private."
   ]
  },
  {
   "cell_type": "code",
   "execution_count": 4,
   "metadata": {},
   "outputs": [
    {
     "name": "stdout",
     "output_type": "stream",
     "text": [
      "b=0\n",
      "k=2227706267\n"
     ]
    }
   ],
   "source": [
    "b = randrange(0, 2)\n",
    "k = randrange(2, N)\n",
    "print(\"b={}\\nk={}\".format(b, k))"
   ]
  },
  {
   "cell_type": "markdown",
   "metadata": {},
   "source": [
    "The receiver computes $v$, this is, $$v = (x_b + k^e)modN$$ and sends this value to the sender"
   ]
  },
  {
   "cell_type": "code",
   "execution_count": 5,
   "metadata": {},
   "outputs": [
    {
     "name": "stdout",
     "output_type": "stream",
     "text": [
      "v=2412057012\n"
     ]
    }
   ],
   "source": [
    "from crypt import fastPowering\n",
    "\n",
    "e = PublicKey[1]\n",
    "v = (x[b] + fastPowering(k, e, N))%N\n",
    "\n",
    "print(\"v={}\".format(v))"
   ]
  },
  {
   "cell_type": "markdown",
   "metadata": {},
   "source": [
    "The sender now tries to revert $v$ to get $k$,\n",
    "\n",
    "$$k_0 = (v - x_0)^d modN$$\n",
    "$$k_1 = (v - x_1)^d modN$$\n",
    "\n",
    "Either $k_0$ or $k_1$ is the value of $k$ hat the receiver picked"
   ]
  },
  {
   "cell_type": "code",
   "execution_count": 6,
   "metadata": {},
   "outputs": [
    {
     "name": "stdout",
     "output_type": "stream",
     "text": [
      "k0=2227706267\n",
      "k1=1724681342\n"
     ]
    }
   ],
   "source": [
    "d = PrivateKey[1]\n",
    "kl = [pow(v-x[0], d, N), pow(v-x[1], d, N)]\n",
    "\n",
    "print(\"k0={}\\nk1={}\".format(kl[0], kl[1]))"
   ]
  },
  {
   "cell_type": "markdown",
   "metadata": {},
   "source": [
    "The sender sends the new masked messages $$m_0^\\prime = m_0 + k_0$$ $$m_1^\\prime = m_1 + k_1$$ to the receiver"
   ]
  },
  {
   "cell_type": "code",
   "execution_count": 7,
   "metadata": {},
   "outputs": [
    {
     "name": "stdout",
     "output_type": "stream",
     "text": [
      "m0p=5593479864\n",
      "m1p=5248641497\n"
     ]
    }
   ],
   "source": [
    "mp = [(m[0]+kl[0]), (m[1]+kl[1])]\n",
    "\n",
    "print(\"m0p={}\\nm1p={}\".format(mp[0], mp[1]))"
   ]
  },
  {
   "cell_type": "markdown",
   "metadata": {},
   "source": [
    "Then the receiver decrypts the message using his private key $k$."
   ]
  },
  {
   "cell_type": "code",
   "execution_count": 8,
   "metadata": {},
   "outputs": [
    {
     "name": "stdout",
     "output_type": "stream",
     "text": [
      "The message that the receiver decrypted is 3365773597\n"
     ]
    }
   ],
   "source": [
    "mb = (mp[b] - k)\n",
    "\n",
    "print(\"The message that the receiver decrypted is {}\".format(mb))"
   ]
  }
 ],
 "metadata": {
  "kernelspec": {
   "display_name": "Python 3",
   "language": "python",
   "name": "python3"
  },
  "language_info": {
   "codemirror_mode": {
    "name": "ipython",
    "version": 3
   },
   "file_extension": ".py",
   "mimetype": "text/x-python",
   "name": "python",
   "nbconvert_exporter": "python",
   "pygments_lexer": "ipython3",
   "version": "3.7.5"
  }
 },
 "nbformat": 4,
 "nbformat_minor": 4
}
