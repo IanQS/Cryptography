{
 "cells": [
  {
   "cell_type": "markdown",
   "metadata": {},
   "source": [
    "# 1 of 2 Oblivious Transfer (OT)\n",
    "\n",
    "In a oblivious transfer protocol, a sender wants to send a message $m_0$ or $m_1$ to a receiver. The sender wants the receiver to see only one message and the receiver whants the sender not to know which message he picked. To have a more in deep introduction to oblivious transfer go [here](https://en.wikipedia.org/wiki/Oblivious_transfer).\n",
    " \n",
    "First The sender takes two prime numbers *p* and *q* and calculate *N* as $p*q$"
   ]
  },
  {
   "cell_type": "code",
   "execution_count": 1,
   "metadata": {},
   "outputs": [
    {
     "name": "stdout",
     "output_type": "stream",
     "text": [
      "Two large primes:\n",
      "p=46889\n",
      "q=59263\n",
      "N=pq=2778782807\n"
     ]
    }
   ],
   "source": [
    "from crypt import RandomPrime, xgcd, fastPowering\n",
    "from crypt import InverseMod\n",
    "from random import seed\n",
    "\n",
    "seed(5)\n",
    "bits = 16\n",
    "p = RandomPrime(bits, 40)\n",
    "q = RandomPrime(bits, 40)\n",
    "N = p*q\n",
    "\n",
    "print(\"Two large primes:\\np={}\\nq={}\\nN=pq={}\".format(p, q, N))"
   ]
  },
  {
   "cell_type": "markdown",
   "metadata": {},
   "source": [
    "The sender calculates $e$ as a random coprime to $(p-1)*(q-1)$ and $d$ as the inverse of $e$ mod (p-1)(q-1). Then the sender publishes the public keys (N, e) and keeps the private key $d$ secret."
   ]
  },
  {
   "cell_type": "code",
   "execution_count": 2,
   "metadata": {},
   "outputs": [
    {
     "name": "stdout",
     "output_type": "stream",
     "text": [
      "e=23767\n",
      "d=525291127\n"
     ]
    }
   ],
   "source": [
    "from random import randrange\n",
    "\n",
    "def RSA_choose_e(p, q):\n",
    "    prime = max(p, q)\n",
    "    pq_ = (p-1)*(q-1)\n",
    "    \n",
    "    while True:\n",
    "        e = randrange(2, prime)\n",
    "        g, _, _ = xgcd(e, pq_)\n",
    "        if g==1:\n",
    "            return e\n",
    "e = RSA_choose_e(p, q)\n",
    "d = InverseMod(e, (p-1)*(q-1))\n",
    "print(\"e={}\\nd={}\".format(e, d))"
   ]
  },
  {
   "cell_type": "markdown",
   "metadata": {},
   "source": [
    "Up to here, we defined the parameters for RSA communication. Now the sender picks two mesages, for instance $m_0=1234$ and $m_1=5678$. He wants to send one and only one to the receiver but without knowing which one the receiver picked."
   ]
  },
  {
   "cell_type": "code",
   "execution_count": 3,
   "metadata": {},
   "outputs": [],
   "source": [
    "m = [1234, 4567]"
   ]
  },
  {
   "cell_type": "markdown",
   "metadata": {},
   "source": [
    "Now, the sender publishes two random messages $x_0$ and $x_1$"
   ]
  },
  {
   "cell_type": "code",
   "execution_count": 4,
   "metadata": {},
   "outputs": [
    {
     "name": "stdout",
     "output_type": "stream",
     "text": [
      "x0=636495402\n",
      "x1=1460115058\n"
     ]
    }
   ],
   "source": [
    "x = [randrange(2, N), randrange(2, N)]\n",
    "\n",
    "print(\"x0={}\\nx1={}\".format(x[0], x[1]))"
   ]
  },
  {
   "cell_type": "markdown",
   "metadata": {},
   "source": [
    "The receiver secrelty flips a coin $b$ that determines which message is going to pick, either 0 or 1. Also generates a random number in between 2 and N and keeps this two values private."
   ]
  },
  {
   "cell_type": "code",
   "execution_count": 5,
   "metadata": {},
   "outputs": [
    {
     "name": "stdout",
     "output_type": "stream",
     "text": [
      "b=1\n",
      "k=2341375824\n"
     ]
    }
   ],
   "source": [
    "b = randrange(0, 2)\n",
    "k = randrange(2, N)\n",
    "print(\"b={}\\nk={}\".format(b, k))"
   ]
  },
  {
   "cell_type": "markdown",
   "metadata": {},
   "source": [
    "The receiver computes $v$, this is, $$v = (x_b + k^e)modN$$ and sends this value to the sender"
   ]
  },
  {
   "cell_type": "code",
   "execution_count": 6,
   "metadata": {},
   "outputs": [
    {
     "name": "stdout",
     "output_type": "stream",
     "text": [
      "v=171489492\n",
      "2950272299\n"
     ]
    }
   ],
   "source": [
    "v = (x[b] + fastPowering(k, e, N))%N\n",
    "\n",
    "print(\"v={}\".format(v))\n",
    "print((x[b] + fastPowering(k, e, N)))"
   ]
  },
  {
   "cell_type": "markdown",
   "metadata": {},
   "source": [
    "The sender now tries to revert $v$ to get $k$,\n",
    "\n",
    "$$k_0 = (v - x_0)^d modN$$\n",
    "$$k_1 = (v - x_1)^d modN$$\n",
    "\n",
    "Either $k_0$ or $k_1$ is the value of $k$ hat the receiver picked"
   ]
  },
  {
   "cell_type": "code",
   "execution_count": 7,
   "metadata": {},
   "outputs": [
    {
     "name": "stdout",
     "output_type": "stream",
     "text": [
      "k0=1075015484\n",
      "k1=2341375824\n"
     ]
    }
   ],
   "source": [
    "kl = [pow(v-x[0], d, N), pow(v-x[1], d, N)]\n",
    "\n",
    "print(\"k0={}\\nk1={}\".format(kl[0], kl[1]))"
   ]
  },
  {
   "cell_type": "markdown",
   "metadata": {},
   "source": [
    "The sender sends the new masked messages $$m_0^\\prime = m_0 + k_0$$ $$m_1^\\prime = m_1 + k_1$$ to the receiver"
   ]
  },
  {
   "cell_type": "code",
   "execution_count": 8,
   "metadata": {},
   "outputs": [
    {
     "name": "stdout",
     "output_type": "stream",
     "text": [
      "m0p=1075016718\n",
      "m1p=2341380391\n"
     ]
    }
   ],
   "source": [
    "mp = [(m[0]+kl[0]), (m[1]+kl[1])]\n",
    "\n",
    "print(\"m0p={}\\nm1p={}\".format(mp[0], mp[1]))"
   ]
  },
  {
   "cell_type": "markdown",
   "metadata": {},
   "source": [
    "Then the receiver decrypts the message using his private key $k$."
   ]
  },
  {
   "cell_type": "code",
   "execution_count": 9,
   "metadata": {},
   "outputs": [
    {
     "name": "stdout",
     "output_type": "stream",
     "text": [
      "The message that the receiver decrypted is 4567\n"
     ]
    }
   ],
   "source": [
    "mb = (mp[b] - k)\n",
    "\n",
    "print(\"The message that the receiver decrypted is {}\".format(mb))"
   ]
  },
  {
   "cell_type": "code",
   "execution_count": null,
   "metadata": {},
   "outputs": [],
   "source": []
  }
 ],
 "metadata": {
  "kernelspec": {
   "display_name": "Python 3",
   "language": "python",
   "name": "python3"
  },
  "language_info": {
   "codemirror_mode": {
    "name": "ipython",
    "version": 3
   },
   "file_extension": ".py",
   "mimetype": "text/x-python",
   "name": "python",
   "nbconvert_exporter": "python",
   "pygments_lexer": "ipython3",
   "version": "3.7.5"
  }
 },
 "nbformat": 4,
 "nbformat_minor": 2
}
