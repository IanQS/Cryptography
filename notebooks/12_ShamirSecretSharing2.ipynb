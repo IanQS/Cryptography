{
 "cells": [
  {
   "cell_type": "markdown",
   "metadata": {},
   "source": [
    "# Linear Secret Sharing Schemes (a.k.a LSSS)\n",
    "\n",
    "In the past two notebooks we have seen two secret sharing schemes, first one is additive secret sharing (where we defined sum and product) and Shamir secret sharing based on polynomial reconstruction. We didn't define product in this last one but don't worry we'll do soon.\n",
    "\n",
    "Additive secret sharing and Shamir secret sharing are part of a group of secret sharing schemes called linear secret sharing shemes (LSSS) because they can be formalised using linear algebra. Before defining LSSS formally let's reformulate the additive secret sharing.\n",
    "\n",
    "\n",
    "## Linear reformulation of additive secret sharing\n",
    "\n",
    "Remember that in this scheme the data holder splits the secret into $n$ random shares whose sum modulo $p$ is the original secret.\n",
    "\n",
    "$$s = (s_0+s_1+\\cdots s_n)\\mod p=\\sum_{i=0}^{i=n}s_i\\pmod{p}$$\n",
    "\n",
    "For this case we define the identity matrix \n",
    "\n",
    "$$M=\\mathbb{1}^{n\\times n}$$\n",
    "\n",
    "This is a matrix with diagonal ones and the rest zero. If we multipy any vector of size $n$ by this matrix we get the same vector. Actually this matrix lives in the space $\\mathbb{F}^{n\\times n}_{p}$ where $p$ is the agreed prime number.\n",
    "\n",
    "We define a vector $\\mathbf{v}$ of size $n$ and only ones in its entries\n",
    "\n",
    "$$\\mathbf{v}=(1, 1, \\cdots, 1)_n$$\n",
    "\n",
    "A vector $\\textbf{k}$ of random numbers and accomplishing property that when we sum all coefficcients and apply modulo we get the secret (same as the previous defined $s$ but remember we are reformulating the sscheme. \n",
    "\n",
    "$$\\textbf{k}=(k_0, k_1, \\cdots, k_{n-1})_n$$ \n",
    "$$s.t. \\sum_{i=0}^{n-1}k_i \\pmod{p} = s$$\n",
    "\n",
    "With this defined we can get the vector of shares as:\n",
    "\n",
    "$$\\textbf{s}=(s_0, s_1, \\cdots, s_{n-1})^T=(k_0, k_1, \\cdots, k_{n-1})^T=M\\cdot \\textbf{k}$$\n",
    "\n",
    "And recover the secret with the scalar product:\n",
    "\n",
    "$$s = \\textbf{v}^t \\cdot \\textbf{k}\\pmod{p} = k_0+k_1+\\cdots+k_{n-1} \\pmod{p}$$\n",
    "\n",
    "As always I've coded this. This time in a class called AdditiveLSSS"
   ]
  },
  {
   "cell_type": "code",
   "execution_count": 1,
   "metadata": {},
   "outputs": [
    {
     "name": "stdout",
     "output_type": "stream",
     "text": [
      "Chosen random prime 3244611641\n",
      "number of parties to split the secret is 5\n",
      "Random secret chosen 844054145\n"
     ]
    }
   ],
   "source": [
    "from smpc import AdditiveLSSS\n",
    "from random import seed, randrange\n",
    "\n",
    "seed(5)\n",
    "\n",
    "bits = 32\n",
    "parties = 5\n",
    "scheme = AdditiveLSSS(n=parties, size=bits)\n",
    "\n",
    "print(f\"Chosen random prime {scheme.p}\")\n",
    "print(f\"number of parties to split the secret is {scheme.n}\")\n",
    "\n",
    "# just not to put secret 10 we generate one random\n",
    "secret = randrange(0, scheme.p)\n",
    "print(f\"Random secret chosen {secret}\")"
   ]
  },
  {
   "cell_type": "markdown",
   "metadata": {},
   "source": [
    "We get the vector of shares by setting the secret into the object"
   ]
  },
  {
   "cell_type": "code",
   "execution_count": 2,
   "metadata": {},
   "outputs": [
    {
     "name": "stdout",
     "output_type": "stream",
     "text": [
      "Generated k=[ 511189398 1056934719 1985156919 1479108632 2300887759]\n"
     ]
    }
   ],
   "source": [
    "scheme.secret = secret\n",
    "print(f\"Generated k={scheme.k}\")"
   ]
  },
  {
   "cell_type": "markdown",
   "metadata": {},
   "source": [
    "But every time we call the function generate we will generate and store the new shares of $\\textbf{k}$"
   ]
  },
  {
   "cell_type": "code",
   "execution_count": 3,
   "metadata": {},
   "outputs": [
    {
     "name": "stdout",
     "output_type": "stream",
     "text": [
      "Generating new random shares\n",
      "Generated k=[2201153626 1523825202 2253577168 1077581322  277140109]\n",
      "whose sum modulo p is 844054145 secret is 844054145\n",
      "\n",
      "Generating new random shares\n",
      "Generated k=[1987924596  464083540 2533014395 3214345152 2378521385]\n",
      "whose sum modulo p is 844054145 secret is 844054145\n"
     ]
    }
   ],
   "source": [
    "print(\"Generating new random shares\")\n",
    "scheme.GenerateShares()\n",
    "print(f\"Generated k={scheme.k}\")\n",
    "print(f\"whose sum modulo p is {int(sum(scheme.k)%scheme.p)} secret is {secret}\\n\")\n",
    "\n",
    "print(\"Generating new random shares\")\n",
    "scheme.GenerateShares()\n",
    "print(f\"Generated k={scheme.k}\")\n",
    "print(f\"whose sum modulo p is {int(sum(scheme.k)%scheme.p)} secret is {secret}\")"
   ]
  },
  {
   "cell_type": "markdown",
   "metadata": {},
   "source": [
    "The recovery of the shares is coded in the same object"
   ]
  },
  {
   "cell_type": "code",
   "execution_count": 4,
   "metadata": {},
   "outputs": [
    {
     "name": "stdout",
     "output_type": "stream",
     "text": [
      "The recovered secret is 844054145\n"
     ]
    }
   ],
   "source": [
    "print(f\"The recovered secret is {scheme.RevealSecret()}\")"
   ]
  },
  {
   "cell_type": "code",
   "execution_count": 5,
   "metadata": {},
   "outputs": [
    {
     "ename": "AttributeError",
     "evalue": "can't set attribute",
     "output_type": "error",
     "traceback": [
      "\u001b[0;31m---------------------------------------------------------------------------\u001b[0m",
      "\u001b[0;31mAttributeError\u001b[0m                            Traceback (most recent call last)",
      "\u001b[0;32m<ipython-input-5-be6a9016d403>\u001b[0m in \u001b[0;36m<module>\u001b[0;34m\u001b[0m\n\u001b[0;32m----> 1\u001b[0;31m \u001b[0mscheme\u001b[0m\u001b[0;34m.\u001b[0m\u001b[0mp\u001b[0m \u001b[0;34m=\u001b[0m \u001b[0;36m3\u001b[0m\u001b[0;34m\u001b[0m\u001b[0;34m\u001b[0m\u001b[0m\n\u001b[0m\u001b[1;32m      2\u001b[0m \u001b[0mprint\u001b[0m\u001b[0;34m(\u001b[0m\u001b[0mscheme\u001b[0m\u001b[0;34m.\u001b[0m\u001b[0mp\u001b[0m\u001b[0;34m)\u001b[0m\u001b[0;34m\u001b[0m\u001b[0;34m\u001b[0m\u001b[0m\n",
      "\u001b[0;31mAttributeError\u001b[0m: can't set attribute"
     ]
    }
   ],
   "source": []
  }
 ],
 "metadata": {
  "kernelspec": {
   "display_name": "Python 3",
   "language": "python",
   "name": "python3"
  },
  "language_info": {
   "codemirror_mode": {
    "name": "ipython",
    "version": 3
   },
   "file_extension": ".py",
   "mimetype": "text/x-python",
   "name": "python",
   "nbconvert_exporter": "python",
   "pygments_lexer": "ipython3",
   "version": "3.7.5"
  }
 },
 "nbformat": 4,
 "nbformat_minor": 4
}
