{
 "cells": [
  {
   "cell_type": "markdown",
   "metadata": {},
   "source": [
    "# Shamir Secret Sharing\n",
    "\n",
    "In this notebook we will study the properties of polynomials to perform secret sharing and defining the properties of sum and multiplication. At the same time will investigate the difference between Shamir secret sharing and additive secret sharing.\n",
    "\n",
    "## Polynomials\n",
    "\n",
    "We look at polynomials and their properties"
   ]
  },
  {
   "cell_type": "code",
   "execution_count": null,
   "metadata": {},
   "outputs": [],
   "source": [
    "import matplotlib.pyplot as plt\n",
    "def poly3(x):\n",
    "    return 1+2*x+3*x**2+4**5\n",
    "\n",
    "plt.clf()\n",
    "plt.figure(figsize=(13, 13))\n",
    "plt.title(\"Polynomial\",\n",
    "          fontsize=16)\n",
    "\n",
    "y_label = 'mean_test_auc'\n",
    "#plt.xlabel()\n",
    "#plt.ylabel()\n",
    "\n"
   ]
  },
  {
   "cell_type": "code",
   "execution_count": 51,
   "metadata": {},
   "outputs": [
    {
     "name": "stdout",
     "output_type": "stream",
     "text": [
      "We've chosen a random prime p=11\n"
     ]
    }
   ],
   "source": [
    "from crypt import RandomPrime\n",
    "from random import seed, randrange\n",
    "\n",
    "seed(1)\n",
    "\n",
    "bits = 4\n",
    "p = RandomPrime(bits, 100)\n",
    "print(f\"We've chosen a random prime p={p}\")"
   ]
  }
 ],
 "metadata": {
  "kernelspec": {
   "display_name": "Python 3",
   "language": "python",
   "name": "python3"
  },
  "language_info": {
   "codemirror_mode": {
    "name": "ipython",
    "version": 3
   },
   "file_extension": ".py",
   "mimetype": "text/x-python",
   "name": "python",
   "nbconvert_exporter": "python",
   "pygments_lexer": "ipython3",
   "version": "3.7.5"
  }
 },
 "nbformat": 4,
 "nbformat_minor": 4
}
