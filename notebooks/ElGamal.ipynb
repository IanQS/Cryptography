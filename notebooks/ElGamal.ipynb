{
 "cells": [
  {
   "cell_type": "code",
   "execution_count": 1,
   "metadata": {},
   "outputs": [],
   "source": [
    "from crypt import isPrime, generateLargePrime, findGeneratorPrime, InverseFermat\n",
    "from random import randrange"
   ]
  },
  {
   "cell_type": "code",
   "execution_count": 2,
   "metadata": {},
   "outputs": [
    {
     "name": "stdout",
     "output_type": "stream",
     "text": [
      "prime number p = 35879, generator g = 19593\n"
     ]
    }
   ],
   "source": [
    "p = generateLargePrime(size=16, m=40)\n",
    "g = findGeneratorPrime(p)\n",
    "\n",
    "print(\"prime number p = {}, generator g = {}\".format(p, g))"
   ]
  },
  {
   "cell_type": "code",
   "execution_count": 3,
   "metadata": {},
   "outputs": [
    {
     "name": "stdout",
     "output_type": "stream",
     "text": [
      "Secret Key is sk = 1142\n"
     ]
    }
   ],
   "source": [
    "sk = randrange(2, p-1)\n",
    "print(\"Secret Key is sk = {}\".format(sk))"
   ]
  },
  {
   "cell_type": "code",
   "execution_count": 4,
   "metadata": {},
   "outputs": [
    {
     "name": "stdout",
     "output_type": "stream",
     "text": [
      "A = 28470\n"
     ]
    }
   ],
   "source": [
    "A = pow(g, sk, p)\n",
    "print(\"A = {}\".format(A))"
   ]
  },
  {
   "cell_type": "code",
   "execution_count": 5,
   "metadata": {},
   "outputs": [],
   "source": [
    "m = 10 #the message I want to send\n",
    "k = randrange(2, p-1)\n",
    "\n",
    "c1 = pow(g, k, p)\n",
    "c2 = pow(A, k, p)*m %p"
   ]
  },
  {
   "cell_type": "code",
   "execution_count": 11,
   "metadata": {},
   "outputs": [
    {
     "name": "stdout",
     "output_type": "stream",
     "text": [
      "The original message is 10\n"
     ]
    }
   ],
   "source": [
    "x = InverseFermat(pow(c1, sk, p), p)\n",
    "m2 = (x * c2)%p\n",
    "\n",
    "print(\"The original message is {}\".format(m2))"
   ]
  }
 ],
 "metadata": {
  "kernelspec": {
   "display_name": "Python 3",
   "language": "python",
   "name": "python3"
  },
  "language_info": {
   "codemirror_mode": {
    "name": "ipython",
    "version": 3
   },
   "file_extension": ".py",
   "mimetype": "text/x-python",
   "name": "python",
   "nbconvert_exporter": "python",
   "pygments_lexer": "ipython3",
   "version": "3.7.5"
  }
 },
 "nbformat": 4,
 "nbformat_minor": 2
}
